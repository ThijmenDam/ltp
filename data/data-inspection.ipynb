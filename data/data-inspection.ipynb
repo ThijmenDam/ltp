{
 "cells": [
  {
   "cell_type": "markdown",
   "source": [
    "This file was used to do some small scale data inspection\n"
   ],
   "metadata": {
    "collapsed": false,
    "pycharm": {
     "name": "#%% md\n"
    }
   }
  },
  {
   "cell_type": "code",
   "execution_count": 90,
   "outputs": [],
   "source": [
    "import pandas as pd"
   ],
   "metadata": {
    "collapsed": false,
    "pycharm": {
     "name": "#%%\n"
    }
   }
  },
  {
   "cell_type": "code",
   "execution_count": 91,
   "metadata": {
    "pycharm": {
     "name": "#%%\n"
    }
   },
   "outputs": [],
   "source": [
    "df = pd.read_pickle('v2.0-processed/df_premises.pickle')\n",
    "df_sentences = pd.read_pickle('v2.0-processed/df_sentences.pickle')"
   ]
  },
  {
   "cell_type": "code",
   "execution_count": 100,
   "metadata": {
    "pycharm": {
     "name": "#%%\n"
    }
   },
   "outputs": [
    {
     "data": {
      "text/plain": "                   document              file_path     split  \\\n0      v2.0/positive/68.xml   v2.0/positive/68.xml  positive   \n1      v2.0/positive/68.xml   v2.0/positive/68.xml  positive   \n2      v2.0/positive/68.xml   v2.0/positive/68.xml  positive   \n3      v2.0/positive/68.xml   v2.0/positive/68.xml  positive   \n4      v2.0/positive/68.xml   v2.0/positive/68.xml  positive   \n...                     ...                    ...       ...   \n3642  v2.0/negative/334.xml  v2.0/negative/334.xml  negative   \n3643  v2.0/negative/334.xml  v2.0/negative/334.xml  negative   \n3644  v2.0/negative/334.xml  v2.0/negative/334.xml  negative   \n3645  v2.0/negative/334.xml  v2.0/negative/334.xml  negative   \n3646  v2.0/negative/334.xml  v2.0/negative/334.xml  negative   \n\n                                                   text     type  \n0     simple enough that almost anyone could, if the...    claim  \n1     Like, most people don't memorize all of Romeo ...  premise  \n2     But most people, I think, if they really wante...  premise  \n3     I'm 100% on board with trashing the US constit...  premise  \n4     I think the American legal system has gotten o...  premise  \n...                                                 ...      ...  \n3642   In fact, Adam Smith (origin of laissez faire)...  premise  \n3643   saying that they did very little to improve t...  premise  \n3644   just sit on their land charging whatever damn...  premise  \n3645   It could be a criticism that despite that pie...    claim  \n3646   at that point I think that is a little too de...  premise  \n\n[3647 rows x 5 columns]",
      "text/html": "<div>\n<style scoped>\n    .dataframe tbody tr th:only-of-type {\n        vertical-align: middle;\n    }\n\n    .dataframe tbody tr th {\n        vertical-align: top;\n    }\n\n    .dataframe thead th {\n        text-align: right;\n    }\n</style>\n<table border=\"1\" class=\"dataframe\">\n  <thead>\n    <tr style=\"text-align: right;\">\n      <th></th>\n      <th>document</th>\n      <th>file_path</th>\n      <th>split</th>\n      <th>text</th>\n      <th>type</th>\n    </tr>\n  </thead>\n  <tbody>\n    <tr>\n      <th>0</th>\n      <td>v2.0/positive/68.xml</td>\n      <td>v2.0/positive/68.xml</td>\n      <td>positive</td>\n      <td>simple enough that almost anyone could, if the...</td>\n      <td>claim</td>\n    </tr>\n    <tr>\n      <th>1</th>\n      <td>v2.0/positive/68.xml</td>\n      <td>v2.0/positive/68.xml</td>\n      <td>positive</td>\n      <td>Like, most people don't memorize all of Romeo ...</td>\n      <td>premise</td>\n    </tr>\n    <tr>\n      <th>2</th>\n      <td>v2.0/positive/68.xml</td>\n      <td>v2.0/positive/68.xml</td>\n      <td>positive</td>\n      <td>But most people, I think, if they really wante...</td>\n      <td>premise</td>\n    </tr>\n    <tr>\n      <th>3</th>\n      <td>v2.0/positive/68.xml</td>\n      <td>v2.0/positive/68.xml</td>\n      <td>positive</td>\n      <td>I'm 100% on board with trashing the US constit...</td>\n      <td>premise</td>\n    </tr>\n    <tr>\n      <th>4</th>\n      <td>v2.0/positive/68.xml</td>\n      <td>v2.0/positive/68.xml</td>\n      <td>positive</td>\n      <td>I think the American legal system has gotten o...</td>\n      <td>premise</td>\n    </tr>\n    <tr>\n      <th>...</th>\n      <td>...</td>\n      <td>...</td>\n      <td>...</td>\n      <td>...</td>\n      <td>...</td>\n    </tr>\n    <tr>\n      <th>3642</th>\n      <td>v2.0/negative/334.xml</td>\n      <td>v2.0/negative/334.xml</td>\n      <td>negative</td>\n      <td>In fact, Adam Smith (origin of laissez faire)...</td>\n      <td>premise</td>\n    </tr>\n    <tr>\n      <th>3643</th>\n      <td>v2.0/negative/334.xml</td>\n      <td>v2.0/negative/334.xml</td>\n      <td>negative</td>\n      <td>saying that they did very little to improve t...</td>\n      <td>premise</td>\n    </tr>\n    <tr>\n      <th>3644</th>\n      <td>v2.0/negative/334.xml</td>\n      <td>v2.0/negative/334.xml</td>\n      <td>negative</td>\n      <td>just sit on their land charging whatever damn...</td>\n      <td>premise</td>\n    </tr>\n    <tr>\n      <th>3645</th>\n      <td>v2.0/negative/334.xml</td>\n      <td>v2.0/negative/334.xml</td>\n      <td>negative</td>\n      <td>It could be a criticism that despite that pie...</td>\n      <td>claim</td>\n    </tr>\n    <tr>\n      <th>3646</th>\n      <td>v2.0/negative/334.xml</td>\n      <td>v2.0/negative/334.xml</td>\n      <td>negative</td>\n      <td>at that point I think that is a little too de...</td>\n      <td>premise</td>\n    </tr>\n  </tbody>\n</table>\n<p>3647 rows × 5 columns</p>\n</div>"
     },
     "execution_count": 100,
     "metadata": {},
     "output_type": "execute_result"
    }
   ],
   "source": [
    "df_sentences"
   ]
  },
  {
   "cell_type": "code",
   "execution_count": 93,
   "metadata": {
    "pycharm": {
     "name": "#%%\n"
    }
   },
   "outputs": [
    {
     "data": {
      "text/plain": "  document             file_path     split  \\\n0       88  v2.0/positive/88.xml  positive   \n1       88  v2.0/positive/88.xml  positive   \n2       88  v2.0/positive/88.xml  positive   \n3       88  v2.0/positive/88.xml  positive   \n4       88  v2.0/positive/88.xml  positive   \n\n                                             premise          type logos  \\\n0  [47% of all jobs are at risk of being automate...         logos  True   \n1  This number will grow grow until the vast majo...  logos_pathos  True   \n2  Since some of this automation will inevitably ...  logos_pathos  True   \n3  By fortifying themselves in their gated commun...  logos_pathos  True   \n4  Once everyone is dead, they can simply be wipe...  logos_pathos  True   \n\n  pathos  ethos  \n0  False  False  \n1   True  False  \n2   True  False  \n3   True  False  \n4   True  False  ",
      "text/html": "<div>\n<style scoped>\n    .dataframe tbody tr th:only-of-type {\n        vertical-align: middle;\n    }\n\n    .dataframe tbody tr th {\n        vertical-align: top;\n    }\n\n    .dataframe thead th {\n        text-align: right;\n    }\n</style>\n<table border=\"1\" class=\"dataframe\">\n  <thead>\n    <tr style=\"text-align: right;\">\n      <th></th>\n      <th>document</th>\n      <th>file_path</th>\n      <th>split</th>\n      <th>premise</th>\n      <th>type</th>\n      <th>logos</th>\n      <th>pathos</th>\n      <th>ethos</th>\n    </tr>\n  </thead>\n  <tbody>\n    <tr>\n      <th>0</th>\n      <td>88</td>\n      <td>v2.0/positive/88.xml</td>\n      <td>positive</td>\n      <td>[47% of all jobs are at risk of being automate...</td>\n      <td>logos</td>\n      <td>True</td>\n      <td>False</td>\n      <td>False</td>\n    </tr>\n    <tr>\n      <th>1</th>\n      <td>88</td>\n      <td>v2.0/positive/88.xml</td>\n      <td>positive</td>\n      <td>This number will grow grow until the vast majo...</td>\n      <td>logos_pathos</td>\n      <td>True</td>\n      <td>True</td>\n      <td>False</td>\n    </tr>\n    <tr>\n      <th>2</th>\n      <td>88</td>\n      <td>v2.0/positive/88.xml</td>\n      <td>positive</td>\n      <td>Since some of this automation will inevitably ...</td>\n      <td>logos_pathos</td>\n      <td>True</td>\n      <td>True</td>\n      <td>False</td>\n    </tr>\n    <tr>\n      <th>3</th>\n      <td>88</td>\n      <td>v2.0/positive/88.xml</td>\n      <td>positive</td>\n      <td>By fortifying themselves in their gated commun...</td>\n      <td>logos_pathos</td>\n      <td>True</td>\n      <td>True</td>\n      <td>False</td>\n    </tr>\n    <tr>\n      <th>4</th>\n      <td>88</td>\n      <td>v2.0/positive/88.xml</td>\n      <td>positive</td>\n      <td>Once everyone is dead, they can simply be wipe...</td>\n      <td>logos_pathos</td>\n      <td>True</td>\n      <td>True</td>\n      <td>False</td>\n    </tr>\n  </tbody>\n</table>\n</div>"
     },
     "execution_count": 93,
     "metadata": {},
     "output_type": "execute_result"
    }
   ],
   "source": [
    "df.head()"
   ]
  },
  {
   "cell_type": "code",
   "execution_count": 94,
   "metadata": {
    "pycharm": {
     "name": "#%%\n"
    }
   },
   "outputs": [
    {
     "name": "stdout",
     "output_type": "stream",
     "text": [
      "<class 'pandas.core.frame.DataFrame'>\n",
      "RangeIndex: 2072 entries, 0 to 2071\n",
      "Data columns (total 8 columns):\n",
      " #   Column     Non-Null Count  Dtype \n",
      "---  ------     --------------  ----- \n",
      " 0   document   2072 non-null   object\n",
      " 1   file_path  2072 non-null   object\n",
      " 2   split      2072 non-null   object\n",
      " 3   premise    2072 non-null   object\n",
      " 4   type       2072 non-null   object\n",
      " 5   logos      2072 non-null   object\n",
      " 6   pathos     2072 non-null   object\n",
      " 7   ethos      2072 non-null   object\n",
      "dtypes: object(8)\n",
      "memory usage: 129.6+ KB\n"
     ]
    }
   ],
   "source": [
    "df.info()"
   ]
  },
  {
   "cell_type": "code",
   "execution_count": 95,
   "metadata": {
    "pycharm": {
     "name": "#%%\n"
    }
   },
   "outputs": [
    {
     "data": {
      "text/plain": "logos_pathos          859\nlogos                 806\npathos                267\nethos_logos_pathos     48\nethos_logos            44\nethos                  28\nethos_pathos           20\nName: type, dtype: int64"
     },
     "execution_count": 95,
     "metadata": {},
     "output_type": "execute_result"
    }
   ],
   "source": [
    "df['type'].value_counts()"
   ]
  },
  {
   "cell_type": "code",
   "execution_count": 96,
   "metadata": {
    "pycharm": {
     "name": "#%%\n"
    }
   },
   "outputs": [
    {
     "data": {
      "text/plain": "1194"
     },
     "execution_count": 96,
     "metadata": {},
     "output_type": "execute_result"
    }
   ],
   "source": [
    "df['pathos'].value_counts().to_dict()[True]"
   ]
  },
  {
   "cell_type": "code",
   "execution_count": 97,
   "metadata": {
    "pycharm": {
     "name": "#%%\n"
    }
   },
   "outputs": [
    {
     "data": {
      "text/plain": "1757"
     },
     "execution_count": 97,
     "metadata": {},
     "output_type": "execute_result"
    }
   ],
   "source": [
    "df['logos'].value_counts().to_dict()[True]"
   ]
  },
  {
   "cell_type": "code",
   "execution_count": 98,
   "metadata": {
    "pycharm": {
     "name": "#%%\n"
    }
   },
   "outputs": [
    {
     "data": {
      "text/plain": "140"
     },
     "execution_count": 98,
     "metadata": {},
     "output_type": "execute_result"
    }
   ],
   "source": [
    "df['ethos'].value_counts().to_dict()[True]"
   ]
  },
  {
   "cell_type": "code",
   "execution_count": 99,
   "metadata": {
    "pycharm": {
     "name": "#%%\n"
    }
   },
   "outputs": [
    {
     "data": {
      "text/plain": "premise    2063\nclaim      1584\nName: type, dtype: int64"
     },
     "execution_count": 99,
     "metadata": {},
     "output_type": "execute_result"
    }
   ],
   "source": [
    "df_sentences.head()\n",
    "df_sentences['type'].value_counts()"
   ]
  },
  {
   "cell_type": "code",
   "execution_count": 99,
   "metadata": {
    "pycharm": {
     "name": "#%%\n"
    }
   },
   "outputs": [],
   "source": [
    "\n"
   ]
  }
 ],
 "metadata": {
  "kernelspec": {
   "display_name": "Python 3 (ipykernel)",
   "language": "python",
   "name": "python3"
  },
  "language_info": {
   "codemirror_mode": {
    "name": "ipython",
    "version": 3
   },
   "file_extension": ".py",
   "mimetype": "text/x-python",
   "name": "python",
   "nbconvert_exporter": "python",
   "pygments_lexer": "ipython3",
   "version": "3.8.9"
  }
 },
 "nbformat": 4,
 "nbformat_minor": 1
}