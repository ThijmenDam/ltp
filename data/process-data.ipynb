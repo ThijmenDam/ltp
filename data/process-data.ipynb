{
 "cells": [
  {
   "cell_type": "code",
   "execution_count": 104,
   "outputs": [
    {
     "data": {
      "text/plain": "     document             file_path     split  \\\n0          88  v2.0/positive/88.xml  positive   \n1          88  v2.0/positive/88.xml  positive   \n2          88  v2.0/positive/88.xml  positive   \n3          88  v2.0/positive/88.xml  positive   \n4          88  v2.0/positive/88.xml  positive   \n...       ...                   ...       ...   \n2067       85  v2.0/negative/85.xml  negative   \n2068       85  v2.0/negative/85.xml  negative   \n2069       85  v2.0/negative/85.xml  negative   \n2070       85  v2.0/negative/85.xml  negative   \n2071       85  v2.0/negative/85.xml  negative   \n\n                                                premise          type logos  \\\n0     [47% of all jobs are at risk of being automate...         logos  True   \n1     This number will grow grow until the vast majo...  logos_pathos  True   \n2     Since some of this automation will inevitably ...  logos_pathos  True   \n3     By fortifying themselves in their gated commun...  logos_pathos  True   \n4     Once everyone is dead, they can simply be wipe...  logos_pathos  True   \n...                                                 ...           ...   ...   \n2067  the some few people that still know how to hun...  logos_pathos  True   \n2068  Machines don't have money either so they won't...  logos_pathos  True   \n2069  Cryptocurrency may help a little because it wo...         logos  True   \n2070  once they can administrate their own systems w...         logos  True   \n2071  the ecosystem will not be able to sustain the ...  logos_pathos  True   \n\n     pathos  ethos  \n0     False  False  \n1      True  False  \n2      True  False  \n3      True  False  \n4      True  False  \n...     ...    ...  \n2067   True  False  \n2068   True  False  \n2069  False  False  \n2070  False  False  \n2071   True  False  \n\n[2072 rows x 8 columns]",
      "text/html": "<div>\n<style scoped>\n    .dataframe tbody tr th:only-of-type {\n        vertical-align: middle;\n    }\n\n    .dataframe tbody tr th {\n        vertical-align: top;\n    }\n\n    .dataframe thead th {\n        text-align: right;\n    }\n</style>\n<table border=\"1\" class=\"dataframe\">\n  <thead>\n    <tr style=\"text-align: right;\">\n      <th></th>\n      <th>document</th>\n      <th>file_path</th>\n      <th>split</th>\n      <th>premise</th>\n      <th>type</th>\n      <th>logos</th>\n      <th>pathos</th>\n      <th>ethos</th>\n    </tr>\n  </thead>\n  <tbody>\n    <tr>\n      <th>0</th>\n      <td>88</td>\n      <td>v2.0/positive/88.xml</td>\n      <td>positive</td>\n      <td>[47% of all jobs are at risk of being automate...</td>\n      <td>logos</td>\n      <td>True</td>\n      <td>False</td>\n      <td>False</td>\n    </tr>\n    <tr>\n      <th>1</th>\n      <td>88</td>\n      <td>v2.0/positive/88.xml</td>\n      <td>positive</td>\n      <td>This number will grow grow until the vast majo...</td>\n      <td>logos_pathos</td>\n      <td>True</td>\n      <td>True</td>\n      <td>False</td>\n    </tr>\n    <tr>\n      <th>2</th>\n      <td>88</td>\n      <td>v2.0/positive/88.xml</td>\n      <td>positive</td>\n      <td>Since some of this automation will inevitably ...</td>\n      <td>logos_pathos</td>\n      <td>True</td>\n      <td>True</td>\n      <td>False</td>\n    </tr>\n    <tr>\n      <th>3</th>\n      <td>88</td>\n      <td>v2.0/positive/88.xml</td>\n      <td>positive</td>\n      <td>By fortifying themselves in their gated commun...</td>\n      <td>logos_pathos</td>\n      <td>True</td>\n      <td>True</td>\n      <td>False</td>\n    </tr>\n    <tr>\n      <th>4</th>\n      <td>88</td>\n      <td>v2.0/positive/88.xml</td>\n      <td>positive</td>\n      <td>Once everyone is dead, they can simply be wipe...</td>\n      <td>logos_pathos</td>\n      <td>True</td>\n      <td>True</td>\n      <td>False</td>\n    </tr>\n    <tr>\n      <th>...</th>\n      <td>...</td>\n      <td>...</td>\n      <td>...</td>\n      <td>...</td>\n      <td>...</td>\n      <td>...</td>\n      <td>...</td>\n      <td>...</td>\n    </tr>\n    <tr>\n      <th>2067</th>\n      <td>85</td>\n      <td>v2.0/negative/85.xml</td>\n      <td>negative</td>\n      <td>the some few people that still know how to hun...</td>\n      <td>logos_pathos</td>\n      <td>True</td>\n      <td>True</td>\n      <td>False</td>\n    </tr>\n    <tr>\n      <th>2068</th>\n      <td>85</td>\n      <td>v2.0/negative/85.xml</td>\n      <td>negative</td>\n      <td>Machines don't have money either so they won't...</td>\n      <td>logos_pathos</td>\n      <td>True</td>\n      <td>True</td>\n      <td>False</td>\n    </tr>\n    <tr>\n      <th>2069</th>\n      <td>85</td>\n      <td>v2.0/negative/85.xml</td>\n      <td>negative</td>\n      <td>Cryptocurrency may help a little because it wo...</td>\n      <td>logos</td>\n      <td>True</td>\n      <td>False</td>\n      <td>False</td>\n    </tr>\n    <tr>\n      <th>2070</th>\n      <td>85</td>\n      <td>v2.0/negative/85.xml</td>\n      <td>negative</td>\n      <td>once they can administrate their own systems w...</td>\n      <td>logos</td>\n      <td>True</td>\n      <td>False</td>\n      <td>False</td>\n    </tr>\n    <tr>\n      <th>2071</th>\n      <td>85</td>\n      <td>v2.0/negative/85.xml</td>\n      <td>negative</td>\n      <td>the ecosystem will not be able to sustain the ...</td>\n      <td>logos_pathos</td>\n      <td>True</td>\n      <td>True</td>\n      <td>False</td>\n    </tr>\n  </tbody>\n</table>\n<p>2072 rows × 8 columns</p>\n</div>"
     },
     "execution_count": 104,
     "metadata": {},
     "output_type": "execute_result"
    }
   ],
   "source": [
    "import os\n",
    "import glob\n",
    "import pandas as pd\n",
    "import xml.etree.ElementTree as ET\n",
    "\n",
    "save = True\n",
    "\n",
    "# Construct empty DataFrame\n",
    "df_premises = pd.DataFrame(columns=[\n",
    "    'document', 'file_path', 'split', 'premise', 'type', 'logos', 'pathos', 'ethos'\n",
    "])\n",
    "\n",
    "def parse_xml(xml_path):\n",
    "    tree = ET.parse(xml_path)\n",
    "    return [(elem.text, elem.attrib['type']) for elem in tree.iter() if elem.tag == 'premise']\n",
    "\n",
    "# Retrieve premises from all XML files\n",
    "for split in ['positive', 'negative']:\n",
    "    for path in glob.glob(os.path.join(f'v2.0/{split}', '*.xml')):\n",
    "        try:\n",
    "            for premise, premise_type in parse_xml(path):\n",
    "                df_premises = pd.concat([df_premises, pd.DataFrame({\n",
    "                    'document': [path.split('/')[2].split('.')[0]],\n",
    "                    'file_path': [path],\n",
    "                    'split': [path.split('/')[1]],\n",
    "                    'premise': premise,\n",
    "                    'type': [premise_type],\n",
    "                    'logos': ['logos' in premise_type],\n",
    "                    'pathos': ['pathos' in premise_type],\n",
    "                    'ethos': ['ethos' in premise_type],\n",
    "                })], axis=0, ignore_index=True)\n",
    "        except ET.ParseError as e:\n",
    "            print(f'Could not parse: {path}')\n",
    "            print(f'{e}\\n')\n",
    "if save:\n",
    "    df_premises.to_pickle('./v2.0-processed/df_premises.pickle')\n",
    "\n",
    "df_premises"
   ],
   "metadata": {
    "collapsed": false,
    "pycharm": {
     "name": "#%%\n"
    }
   }
  },
  {
   "cell_type": "markdown",
   "source": [
    "## Fixed XML files\n",
    "\n",
    "- positive/1.xml\n",
    "- positive/70.xml\n",
    "- positive/74.xml\n",
    "- positive/84.xml\n",
    "- positive/85.xml\n",
    "- negative/289.xml\n",
    "\n",
    "Amount of premises before: 1958\n",
    "Amount of premises after: 2072 (+ 114)\n",
    "\n",
    "Fixes include:\n",
    "- invalid characters (e.g. '&' instead of '&amp;')\n",
    "- multiple root tags\n",
    "- tag not closed properly"
   ],
   "metadata": {
    "collapsed": false,
    "pycharm": {
     "name": "#%% md\n"
    }
   }
  },
  {
   "cell_type": "code",
   "execution_count": null,
   "outputs": [],
   "source": [],
   "metadata": {
    "collapsed": false,
    "pycharm": {
     "name": "#%%\n"
    }
   }
  }
 ],
 "metadata": {
  "kernelspec": {
   "display_name": "Python 3",
   "language": "python",
   "name": "python3"
  },
  "language_info": {
   "codemirror_mode": {
    "name": "ipython",
    "version": 2
   },
   "file_extension": ".py",
   "mimetype": "text/x-python",
   "name": "python",
   "nbconvert_exporter": "python",
   "pygments_lexer": "ipython2",
   "version": "2.7.6"
  }
 },
 "nbformat": 4,
 "nbformat_minor": 0
}