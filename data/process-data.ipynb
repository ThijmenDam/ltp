{
 "cells": [
  {
   "cell_type": "code",
   "execution_count": 1,
   "outputs": [
    {
     "data": {
      "text/plain": "     document              file_path     split  \\\n0          68   v2.0/positive/68.xml  positive   \n1          68   v2.0/positive/68.xml  positive   \n2          68   v2.0/positive/68.xml  positive   \n3          68   v2.0/positive/68.xml  positive   \n4          68   v2.0/positive/68.xml  positive   \n...       ...                    ...       ...   \n2067      334  v2.0/negative/334.xml  negative   \n2068      334  v2.0/negative/334.xml  negative   \n2069      334  v2.0/negative/334.xml  negative   \n2070      334  v2.0/negative/334.xml  negative   \n2071      334  v2.0/negative/334.xml  negative   \n\n                                                premise          type  logos  \\\n0     Like, most people don't memorize all of Romeo ...  logos_pathos   True   \n1     But most people, I think, if they really wante...  logos_pathos   True   \n2     I'm 100% on board with trashing the US constit...  logos_pathos   True   \n3     I think the American legal system has gotten o...        pathos  False   \n4     By categories, I mean things like: criminal la...        pathos  False   \n...                                                 ...           ...    ...   \n2067   Perhaps laissez faire capitalism (or of the c...         logos   True   \n2068   In fact, Adam Smith (origin of laissez faire)...   ethos_logos   True   \n2069   saying that they did very little to improve t...   ethos_logos   True   \n2070   just sit on their land charging whatever damn...        pathos  False   \n2071   at that point I think that is a little too de...         logos   True   \n\n     pathos  ethos  \n0      True  False  \n1      True  False  \n2      True  False  \n3      True  False  \n4      True  False  \n...     ...    ...  \n2067  False  False  \n2068  False   True  \n2069  False   True  \n2070   True  False  \n2071  False  False  \n\n[2072 rows x 8 columns]",
      "text/html": "<div>\n<style scoped>\n    .dataframe tbody tr th:only-of-type {\n        vertical-align: middle;\n    }\n\n    .dataframe tbody tr th {\n        vertical-align: top;\n    }\n\n    .dataframe thead th {\n        text-align: right;\n    }\n</style>\n<table border=\"1\" class=\"dataframe\">\n  <thead>\n    <tr style=\"text-align: right;\">\n      <th></th>\n      <th>document</th>\n      <th>file_path</th>\n      <th>split</th>\n      <th>premise</th>\n      <th>type</th>\n      <th>logos</th>\n      <th>pathos</th>\n      <th>ethos</th>\n    </tr>\n  </thead>\n  <tbody>\n    <tr>\n      <th>0</th>\n      <td>68</td>\n      <td>v2.0/positive/68.xml</td>\n      <td>positive</td>\n      <td>Like, most people don't memorize all of Romeo ...</td>\n      <td>logos_pathos</td>\n      <td>True</td>\n      <td>True</td>\n      <td>False</td>\n    </tr>\n    <tr>\n      <th>1</th>\n      <td>68</td>\n      <td>v2.0/positive/68.xml</td>\n      <td>positive</td>\n      <td>But most people, I think, if they really wante...</td>\n      <td>logos_pathos</td>\n      <td>True</td>\n      <td>True</td>\n      <td>False</td>\n    </tr>\n    <tr>\n      <th>2</th>\n      <td>68</td>\n      <td>v2.0/positive/68.xml</td>\n      <td>positive</td>\n      <td>I'm 100% on board with trashing the US constit...</td>\n      <td>logos_pathos</td>\n      <td>True</td>\n      <td>True</td>\n      <td>False</td>\n    </tr>\n    <tr>\n      <th>3</th>\n      <td>68</td>\n      <td>v2.0/positive/68.xml</td>\n      <td>positive</td>\n      <td>I think the American legal system has gotten o...</td>\n      <td>pathos</td>\n      <td>False</td>\n      <td>True</td>\n      <td>False</td>\n    </tr>\n    <tr>\n      <th>4</th>\n      <td>68</td>\n      <td>v2.0/positive/68.xml</td>\n      <td>positive</td>\n      <td>By categories, I mean things like: criminal la...</td>\n      <td>pathos</td>\n      <td>False</td>\n      <td>True</td>\n      <td>False</td>\n    </tr>\n    <tr>\n      <th>...</th>\n      <td>...</td>\n      <td>...</td>\n      <td>...</td>\n      <td>...</td>\n      <td>...</td>\n      <td>...</td>\n      <td>...</td>\n      <td>...</td>\n    </tr>\n    <tr>\n      <th>2067</th>\n      <td>334</td>\n      <td>v2.0/negative/334.xml</td>\n      <td>negative</td>\n      <td>Perhaps laissez faire capitalism (or of the c...</td>\n      <td>logos</td>\n      <td>True</td>\n      <td>False</td>\n      <td>False</td>\n    </tr>\n    <tr>\n      <th>2068</th>\n      <td>334</td>\n      <td>v2.0/negative/334.xml</td>\n      <td>negative</td>\n      <td>In fact, Adam Smith (origin of laissez faire)...</td>\n      <td>ethos_logos</td>\n      <td>True</td>\n      <td>False</td>\n      <td>True</td>\n    </tr>\n    <tr>\n      <th>2069</th>\n      <td>334</td>\n      <td>v2.0/negative/334.xml</td>\n      <td>negative</td>\n      <td>saying that they did very little to improve t...</td>\n      <td>ethos_logos</td>\n      <td>True</td>\n      <td>False</td>\n      <td>True</td>\n    </tr>\n    <tr>\n      <th>2070</th>\n      <td>334</td>\n      <td>v2.0/negative/334.xml</td>\n      <td>negative</td>\n      <td>just sit on their land charging whatever damn...</td>\n      <td>pathos</td>\n      <td>False</td>\n      <td>True</td>\n      <td>False</td>\n    </tr>\n    <tr>\n      <th>2071</th>\n      <td>334</td>\n      <td>v2.0/negative/334.xml</td>\n      <td>negative</td>\n      <td>at that point I think that is a little too de...</td>\n      <td>logos</td>\n      <td>True</td>\n      <td>False</td>\n      <td>False</td>\n    </tr>\n  </tbody>\n</table>\n<p>2072 rows × 8 columns</p>\n</div>"
     },
     "execution_count": 1,
     "metadata": {},
     "output_type": "execute_result"
    }
   ],
   "source": [
    "import os\n",
    "import glob\n",
    "import pandas as pd\n",
    "import xml.etree.ElementTree as ET\n",
    "\n",
    "save = True\n",
    "\n",
    "# Construct empty DataFrame\n",
    "df_premises = pd.DataFrame(columns=[\n",
    "    'document', 'file_path', 'split', 'premise', 'type', 'logos', 'pathos', 'ethos'\n",
    "])\n",
    "\n",
    "def parse_xml(xml_path):\n",
    "    tree = ET.parse(xml_path)\n",
    "    return [(elem.text, elem.attrib['type']) for elem in tree.iter() if elem.tag == 'premise']\n",
    "\n",
    "# Retrieve premises from all XML files\n",
    "for split in ['positive', 'negative']:\n",
    "    for path in glob.glob(os.path.join(f'v2.0/{split}', '*.xml')):\n",
    "        try:\n",
    "            for premise, premise_type in parse_xml(path):\n",
    "                df_premises = pd.concat([df_premises, pd.DataFrame({\n",
    "                    'document': [path.split('/')[2].split('.')[0]],\n",
    "                    'file_path': [path],\n",
    "                    'split': [path.split('/')[1]],\n",
    "                    'premise': premise,\n",
    "                    'type': [premise_type],\n",
    "                    'logos': ['logos' in premise_type],\n",
    "                    'pathos': ['pathos' in premise_type],\n",
    "                    'ethos': ['ethos' in premise_type],\n",
    "                })], axis=0, ignore_index=True)\n",
    "        except ET.ParseError as e:\n",
    "            print(f'Could not parse: {path}')\n",
    "            print(f'{e}\\n')\n",
    "if save:\n",
    "    df_premises.to_pickle('./v2.0-processed/df_premises_prot4.pickle', protocol=4)\n",
    "\n",
    "df_premises"
   ],
   "metadata": {
    "collapsed": false,
    "pycharm": {
     "name": "#%%\n"
    }
   }
  },
  {
   "cell_type": "markdown",
   "source": [
    "## Fixed XML files\n",
    "\n",
    "- positive/1.xml\n",
    "- positive/70.xml\n",
    "- positive/74.xml\n",
    "- positive/84.xml\n",
    "- positive/85.xml\n",
    "- negative/289.xml\n",
    "\n",
    "Amount of premises before: 1958\n",
    "Amount of premises after: 2072 (+ 114)\n",
    "\n",
    "Fixes include:\n",
    "- invalid characters (e.g. '&' instead of '&amp;')\n",
    "- multiple root tags\n",
    "- tag not closed properly"
   ],
   "metadata": {
    "collapsed": false,
    "pycharm": {
     "name": "#%% md\n"
    }
   }
  },
  {
   "cell_type": "code",
   "execution_count": null,
   "outputs": [],
   "source": [],
   "metadata": {
    "collapsed": false,
    "pycharm": {
     "name": "#%%\n"
    }
   }
  },
  {
   "cell_type": "code",
   "execution_count": null,
   "outputs": [],
   "source": [],
   "metadata": {
    "collapsed": false,
    "pycharm": {
     "name": "#%%\n"
    }
   }
  }
 ],
 "metadata": {
  "kernelspec": {
   "display_name": "Python 3",
   "language": "python",
   "name": "python3"
  },
  "language_info": {
   "codemirror_mode": {
    "name": "ipython",
    "version": 2
   },
   "file_extension": ".py",
   "mimetype": "text/x-python",
   "name": "python",
   "nbconvert_exporter": "python",
   "pygments_lexer": "ipython2",
   "version": "2.7.6"
  }
 },
 "nbformat": 4,
 "nbformat_minor": 0
}