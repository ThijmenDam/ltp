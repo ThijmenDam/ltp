{
 "cells": [
  {
   "cell_type": "markdown",
   "source": [
    "This notebook was used to generate the training splits for subtask 1"
   ],
   "metadata": {
    "collapsed": false,
    "pycharm": {
     "name": "#%% md\n"
    }
   }
  },
  {
   "cell_type": "code",
   "execution_count": 7,
   "outputs": [],
   "source": [
    "import pandas as pd\n",
    "from sklearn.model_selection import train_test_split\n",
    "df = pd.read_pickle('./df_sentences.pickle')"
   ],
   "metadata": {
    "collapsed": false,
    "pycharm": {
     "name": "#%%\n"
    }
   }
  },
  {
   "cell_type": "code",
   "execution_count": 8,
   "outputs": [],
   "source": [
    "train, test = train_test_split(df, test_size=0.2, random_state=0, stratify=df['type'], shuffle=True)"
   ],
   "metadata": {
    "collapsed": false,
    "pycharm": {
     "name": "#%%\n"
    }
   }
  },
  {
   "cell_type": "code",
   "execution_count": 9,
   "outputs": [],
   "source": [
    "train.to_csv('./df_sen_train.csv')\n",
    "test.to_csv('./df_sen_test.csv')"
   ],
   "metadata": {
    "collapsed": false,
    "pycharm": {
     "name": "#%%\n"
    }
   }
  },
  {
   "cell_type": "code",
   "execution_count": 10,
   "outputs": [
    {
     "data": {
      "text/plain": "                   document              file_path     split  \\\n2107   v2.0/negative/66.xml   v2.0/negative/66.xml  negative   \n2630  v2.0/negative/256.xml  v2.0/negative/256.xml  negative   \n1291   v2.0/positive/82.xml   v2.0/positive/82.xml  positive   \n3151   v2.0/negative/87.xml   v2.0/negative/87.xml  negative   \n929    v2.0/positive/31.xml   v2.0/positive/31.xml  positive   \n\n                                                   text     type  \n2107                                   You didn't exist  premise  \n2630          whole-body (or at least most-of-the-body)  premise  \n1291  After all, most people choose to remain anonym...  premise  \n3151      they likely do want to improve animal welfare    claim  \n929   [finding the girl who threw a puppy in a river...  premise  ",
      "text/html": "<div>\n<style scoped>\n    .dataframe tbody tr th:only-of-type {\n        vertical-align: middle;\n    }\n\n    .dataframe tbody tr th {\n        vertical-align: top;\n    }\n\n    .dataframe thead th {\n        text-align: right;\n    }\n</style>\n<table border=\"1\" class=\"dataframe\">\n  <thead>\n    <tr style=\"text-align: right;\">\n      <th></th>\n      <th>document</th>\n      <th>file_path</th>\n      <th>split</th>\n      <th>text</th>\n      <th>type</th>\n    </tr>\n  </thead>\n  <tbody>\n    <tr>\n      <th>2107</th>\n      <td>v2.0/negative/66.xml</td>\n      <td>v2.0/negative/66.xml</td>\n      <td>negative</td>\n      <td>You didn't exist</td>\n      <td>premise</td>\n    </tr>\n    <tr>\n      <th>2630</th>\n      <td>v2.0/negative/256.xml</td>\n      <td>v2.0/negative/256.xml</td>\n      <td>negative</td>\n      <td>whole-body (or at least most-of-the-body)</td>\n      <td>premise</td>\n    </tr>\n    <tr>\n      <th>1291</th>\n      <td>v2.0/positive/82.xml</td>\n      <td>v2.0/positive/82.xml</td>\n      <td>positive</td>\n      <td>After all, most people choose to remain anonym...</td>\n      <td>premise</td>\n    </tr>\n    <tr>\n      <th>3151</th>\n      <td>v2.0/negative/87.xml</td>\n      <td>v2.0/negative/87.xml</td>\n      <td>negative</td>\n      <td>they likely do want to improve animal welfare</td>\n      <td>claim</td>\n    </tr>\n    <tr>\n      <th>929</th>\n      <td>v2.0/positive/31.xml</td>\n      <td>v2.0/positive/31.xml</td>\n      <td>positive</td>\n      <td>[finding the girl who threw a puppy in a river...</td>\n      <td>premise</td>\n    </tr>\n  </tbody>\n</table>\n</div>"
     },
     "execution_count": 10,
     "metadata": {},
     "output_type": "execute_result"
    }
   ],
   "source": [
    "train.head()"
   ],
   "metadata": {
    "collapsed": false,
    "pycharm": {
     "name": "#%%\n"
    }
   }
  },
  {
   "cell_type": "code",
   "execution_count": 11,
   "outputs": [
    {
     "name": "stdout",
     "output_type": "stream",
     "text": [
      "premise    1650\n",
      "claim      1267\n",
      "Name: type, dtype: int64\n",
      "premise    413\n",
      "claim      317\n",
      "Name: type, dtype: int64\n"
     ]
    }
   ],
   "source": [
    "print(train['type'].value_counts())\n",
    "print(test['type'].value_counts())"
   ],
   "metadata": {
    "collapsed": false,
    "pycharm": {
     "name": "#%%\n"
    }
   }
  }
 ],
 "metadata": {
  "kernelspec": {
   "display_name": "Python 3",
   "language": "python",
   "name": "python3"
  },
  "language_info": {
   "codemirror_mode": {
    "name": "ipython",
    "version": 2
   },
   "file_extension": ".py",
   "mimetype": "text/x-python",
   "name": "python",
   "nbconvert_exporter": "python",
   "pygments_lexer": "ipython2",
   "version": "2.7.6"
  }
 },
 "nbformat": 4,
 "nbformat_minor": 0
}