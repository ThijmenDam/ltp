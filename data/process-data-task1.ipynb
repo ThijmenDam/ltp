{
 "cells": [
  {
   "cell_type": "code",
   "execution_count": 13,
   "outputs": [],
   "source": [
    "import os\n",
    "import pickle\n",
    "import glob\n",
    "import pandas as pd\n",
    "import xml.etree.ElementTree as ET\n",
    "\n",
    "# Construct empty DataFrame\n",
    "df_sentences = pd.DataFrame(columns=[\n",
    "    'document', 'file_path', 'split', 'text', 'type'\n",
    "])\n",
    "\n",
    "def parse_xml(xml_path):\n",
    "    tree = ET.parse(xml_path)\n",
    "    root = tree.getroot()\n",
    "\n",
    "    documents = []\n",
    "\n",
    "    for elem in root.iter():\n",
    "        if elem.tag == \"OP\" or elem.tag == \"reply\":\n",
    "            all_descendants = [b for b in elem.iter() if b is not elem]\n",
    "            for desc in all_descendants:\n",
    "                documents.append((desc.text, desc.tag))\n",
    "    return documents\n",
    "\n",
    "# Retrieve premises from all XML files\n",
    "for split in ['positive', 'negative']:\n",
    "    for path in glob.glob(os.path.join(f'v2.0/{split}', '*.xml')):\n",
    "        try:\n",
    "            for premise, argument in parse_xml(path):\n",
    "                df_sentences = pd.concat([df_sentences, pd.DataFrame({\n",
    "                    'document': [path],\n",
    "                    'file_path': [path],\n",
    "                    'split': [path.split(\"/\")[1]],\n",
    "                    'text': [premise],\n",
    "                    'type': [argument],\n",
    "                })], axis=0, ignore_index=True)\n",
    "        except ET.ParseError:\n",
    "            pass\n",
    "\n",
    "df_sentences.to_pickle('./v2.0-processed/df_sentences.pickle')"
   ],
   "metadata": {
    "collapsed": false,
    "pycharm": {
     "name": "#%%\n"
    }
   }
  },
  {
   "cell_type": "code",
   "execution_count": 14,
   "outputs": [
    {
     "data": {
      "text/plain": "                  document             file_path            split  \\\n0      v2.0/positive\\0.xml   v2.0/positive\\0.xml   positive\\0.xml   \n1      v2.0/positive\\0.xml   v2.0/positive\\0.xml   positive\\0.xml   \n2      v2.0/positive\\0.xml   v2.0/positive\\0.xml   positive\\0.xml   \n3      v2.0/positive\\0.xml   v2.0/positive\\0.xml   positive\\0.xml   \n4      v2.0/positive\\0.xml   v2.0/positive\\0.xml   positive\\0.xml   \n...                    ...                   ...              ...   \n3642  v2.0/negative\\99.xml  v2.0/negative\\99.xml  negative\\99.xml   \n3643  v2.0/negative\\99.xml  v2.0/negative\\99.xml  negative\\99.xml   \n3644  v2.0/negative\\99.xml  v2.0/negative\\99.xml  negative\\99.xml   \n3645  v2.0/negative\\99.xml  v2.0/negative\\99.xml  negative\\99.xml   \n3646  v2.0/negative\\99.xml  v2.0/negative\\99.xml  negative\\99.xml   \n\n                                                   text     type  \n0     I point out that many Christians follow the bi...    claim  \n1     For example, Congregationalists and Universali...  premise  \n2     my belief is that while religion can inform th...    claim  \n3     I think that most Jewish people don't want to ...    claim  \n4      Your stance relies on the assumption that rel...    claim  \n...                                                 ...      ...  \n3642  had to take his keys from him, spent 20 minute...  premise  \n3643  He seemed ok appart from the shock and high le...  premise  \n3644                           I work in a surgery unit  premise  \n3645  the kind of gore I witness there doesn't shock...  premise  \n3646  I think a bit of desensitization can help keep...    claim  \n\n[3647 rows x 5 columns]",
      "text/html": "<div>\n<style scoped>\n    .dataframe tbody tr th:only-of-type {\n        vertical-align: middle;\n    }\n\n    .dataframe tbody tr th {\n        vertical-align: top;\n    }\n\n    .dataframe thead th {\n        text-align: right;\n    }\n</style>\n<table border=\"1\" class=\"dataframe\">\n  <thead>\n    <tr style=\"text-align: right;\">\n      <th></th>\n      <th>document</th>\n      <th>file_path</th>\n      <th>split</th>\n      <th>text</th>\n      <th>type</th>\n    </tr>\n  </thead>\n  <tbody>\n    <tr>\n      <th>0</th>\n      <td>v2.0/positive\\0.xml</td>\n      <td>v2.0/positive\\0.xml</td>\n      <td>positive\\0.xml</td>\n      <td>I point out that many Christians follow the bi...</td>\n      <td>claim</td>\n    </tr>\n    <tr>\n      <th>1</th>\n      <td>v2.0/positive\\0.xml</td>\n      <td>v2.0/positive\\0.xml</td>\n      <td>positive\\0.xml</td>\n      <td>For example, Congregationalists and Universali...</td>\n      <td>premise</td>\n    </tr>\n    <tr>\n      <th>2</th>\n      <td>v2.0/positive\\0.xml</td>\n      <td>v2.0/positive\\0.xml</td>\n      <td>positive\\0.xml</td>\n      <td>my belief is that while religion can inform th...</td>\n      <td>claim</td>\n    </tr>\n    <tr>\n      <th>3</th>\n      <td>v2.0/positive\\0.xml</td>\n      <td>v2.0/positive\\0.xml</td>\n      <td>positive\\0.xml</td>\n      <td>I think that most Jewish people don't want to ...</td>\n      <td>claim</td>\n    </tr>\n    <tr>\n      <th>4</th>\n      <td>v2.0/positive\\0.xml</td>\n      <td>v2.0/positive\\0.xml</td>\n      <td>positive\\0.xml</td>\n      <td>Your stance relies on the assumption that rel...</td>\n      <td>claim</td>\n    </tr>\n    <tr>\n      <th>...</th>\n      <td>...</td>\n      <td>...</td>\n      <td>...</td>\n      <td>...</td>\n      <td>...</td>\n    </tr>\n    <tr>\n      <th>3642</th>\n      <td>v2.0/negative\\99.xml</td>\n      <td>v2.0/negative\\99.xml</td>\n      <td>negative\\99.xml</td>\n      <td>had to take his keys from him, spent 20 minute...</td>\n      <td>premise</td>\n    </tr>\n    <tr>\n      <th>3643</th>\n      <td>v2.0/negative\\99.xml</td>\n      <td>v2.0/negative\\99.xml</td>\n      <td>negative\\99.xml</td>\n      <td>He seemed ok appart from the shock and high le...</td>\n      <td>premise</td>\n    </tr>\n    <tr>\n      <th>3644</th>\n      <td>v2.0/negative\\99.xml</td>\n      <td>v2.0/negative\\99.xml</td>\n      <td>negative\\99.xml</td>\n      <td>I work in a surgery unit</td>\n      <td>premise</td>\n    </tr>\n    <tr>\n      <th>3645</th>\n      <td>v2.0/negative\\99.xml</td>\n      <td>v2.0/negative\\99.xml</td>\n      <td>negative\\99.xml</td>\n      <td>the kind of gore I witness there doesn't shock...</td>\n      <td>premise</td>\n    </tr>\n    <tr>\n      <th>3646</th>\n      <td>v2.0/negative\\99.xml</td>\n      <td>v2.0/negative\\99.xml</td>\n      <td>negative\\99.xml</td>\n      <td>I think a bit of desensitization can help keep...</td>\n      <td>claim</td>\n    </tr>\n  </tbody>\n</table>\n<p>3647 rows × 5 columns</p>\n</div>"
     },
     "execution_count": 14,
     "metadata": {},
     "output_type": "execute_result"
    }
   ],
   "source": [
    "df_sentences"
   ],
   "metadata": {
    "collapsed": false,
    "pycharm": {
     "name": "#%%\n"
    }
   }
  }
 ],
 "metadata": {
  "kernelspec": {
   "display_name": "Python 3",
   "language": "python",
   "name": "python3"
  },
  "language_info": {
   "codemirror_mode": {
    "name": "ipython",
    "version": 2
   },
   "file_extension": ".py",
   "mimetype": "text/x-python",
   "name": "python",
   "nbconvert_exporter": "python",
   "pygments_lexer": "ipython2",
   "version": "2.7.6"
  }
 },
 "nbformat": 4,
 "nbformat_minor": 0
}