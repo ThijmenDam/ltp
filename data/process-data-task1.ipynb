{
 "cells": [
  {
   "cell_type": "code",
   "execution_count": 5,
   "outputs": [],
   "source": [
    "from sklearn.preprocessing import LabelBinarizer\n",
    "from sklearn.feature_extraction.text import CountVectorizer, TfidfVectorizer\n",
    "from sklearn.svm import LinearSVC, OneClassSVM\n",
    "from sklearn.pipeline import Pipeline, FeatureUnion\n",
    "from sklearn.model_selection import train_test_split\n",
    "import numpy as np\n",
    "from sklearn.metrics import classification_report\n",
    "import os\n",
    "import random as python_random\n",
    "import argparse\n",
    "import numpy as np\n",
    "import os, sys, time\n",
    "import pandas as pd\n",
    "from sklearn.metrics import classification_report, confusion_matrix, accuracy_score, f1_score"
   ],
   "metadata": {
    "collapsed": false,
    "pycharm": {
     "name": "#%%\n"
    }
   }
  },
  {
   "cell_type": "code",
   "execution_count": 6,
   "outputs": [],
   "source": [
    "import os\n",
    "import pickle\n",
    "import glob\n",
    "import pandas as pd\n",
    "import xml.etree.ElementTree as ET\n",
    "\n",
    "# Construct empty DataFrame\n",
    "df_sentences = pd.DataFrame(columns=[\n",
    "    'document', 'file_path', 'split', 'text', 'type'\n",
    "])\n",
    "\n",
    "def parse_xml(xml_path):\n",
    "    tree = ET.parse(xml_path)\n",
    "    root = tree.getroot()\n",
    "\n",
    "    documents = []\n",
    "\n",
    "    for elem in root.iter():\n",
    "        if elem.tag == \"OP\" or elem.tag == \"reply\":\n",
    "            all_descendants = [b for b in elem.iter() if b is not elem]\n",
    "            for desc in all_descendants:\n",
    "                documents.append((desc.text, desc.tag))\n",
    "    return documents\n",
    "\n",
    "# Retrieve premises from all XML files\n",
    "for split in ['positive', 'negative']:\n",
    "    for path in glob.glob(os.path.join(f'v2.0/{split}', '*.xml')):\n",
    "        try:\n",
    "            for premise, argument in parse_xml(path):\n",
    "                df_sentences = pd.concat([df_sentences, pd.DataFrame({\n",
    "                    'document': [path],\n",
    "                    'file_path': [path],\n",
    "                    'split': [path.split(\"/\")[1]],\n",
    "                    'text': [premise],\n",
    "                    'type': [argument],\n",
    "                })], axis=0, ignore_index=True)\n",
    "        except ET.ParseError:\n",
    "            pass\n",
    "\n",
    "pickle.dump( df_sentences, open( \"./v2.0-processed/df_sentences.pickle\", \"wb\" ) )\n",
    "#df_sentences.to_pickle('./v2.0-processed/df_sentences.pickle')"
   ],
   "metadata": {
    "collapsed": false,
    "pycharm": {
     "name": "#%%\n"
    }
   }
  },
  {
   "cell_type": "code",
   "execution_count": 7,
   "outputs": [
    {
     "name": "stdout",
     "output_type": "stream",
     "text": [
      "              precision    recall  f1-score   support\n",
      "\n",
      "       claim       0.69      0.63      0.66       317\n",
      "     premise       0.73      0.78      0.75       413\n",
      "\n",
      "    accuracy                           0.71       730\n",
      "   macro avg       0.71      0.70      0.71       730\n",
      "weighted avg       0.71      0.71      0.71       730\n",
      "\n"
     ]
    }
   ],
   "source": [
    "df = df_sentences\n",
    "\n",
    "# Preprocess the train data\n",
    "documents = df[\"text\"].tolist()\n",
    "labels = df[\"type\"].tolist()\n",
    "\n",
    "\n",
    "X_train, X_test, y_train, y_test = train_test_split(documents, labels, test_size=0.2, random_state=1, stratify=labels)\n",
    "\n",
    "X_train, X_val, y_train, y_val = train_test_split(X_train, y_train, test_size=0.25, random_state=1, stratify=y_train) # 0.25 x 0.8 = 0.2\n",
    "\n",
    "random_state = 44\n",
    "\n",
    "# Construct pipeline\n",
    "pipe = Pipeline([\n",
    "    ('tfidf', TfidfVectorizer()),\n",
    "    ('svc', LinearSVC(random_state=random_state)),\n",
    "])\n",
    "\n",
    "# Convert labels to numerical values\n",
    "#encoder = LabelBinarizer()\n",
    "#y_train_bin = encoder.fit_transform(y_train)\n",
    "#y_train = np.argmax(y_train_bin, axis=1)\n",
    "\n",
    "pipe.fit(X_train, y_train)\n",
    "\n",
    "# Predict dev\n",
    "y_pred = pipe.predict(X_val)\n",
    "print(classification_report(y_val, y_pred))\n",
    "\n",
    "# Predict test\n",
    "#y_pred = pipe.predict(X_test)\n",
    "#print(classification_report(y_test, y_pred))"
   ],
   "metadata": {
    "collapsed": false,
    "pycharm": {
     "name": "#%%\n"
    }
   }
  },
  {
   "cell_type": "code",
   "execution_count": 88,
   "outputs": [
    {
     "data": {
      "text/plain": "                  document             file_path     split  \\\n0     v2.0/positive/88.xml  v2.0/positive/88.xml  positive   \n1     v2.0/positive/88.xml  v2.0/positive/88.xml  positive   \n2     v2.0/positive/88.xml  v2.0/positive/88.xml  positive   \n3     v2.0/positive/88.xml  v2.0/positive/88.xml  positive   \n4     v2.0/positive/88.xml  v2.0/positive/88.xml  positive   \n...                    ...                   ...       ...   \n3642  v2.0/negative/85.xml  v2.0/negative/85.xml  negative   \n3643  v2.0/negative/85.xml  v2.0/negative/85.xml  negative   \n3644  v2.0/negative/85.xml  v2.0/negative/85.xml  negative   \n3645  v2.0/negative/85.xml  v2.0/negative/85.xml  negative   \n3646  v2.0/negative/85.xml  v2.0/negative/85.xml  negative   \n\n                                                   text     type  \n0     [47% of all jobs are at risk of being automate...  premise  \n1     This number will grow grow until the vast majo...  premise  \n2     Since some of this automation will inevitably ...  premise  \n3     By fortifying themselves in their gated commun...  premise  \n4     Once everyone is dead, they can simply be wipe...  premise  \n...                                                 ...      ...  \n3642  If the urban folk get rid of the rural folk th...    claim  \n3643                They couldn't just survive together    claim  \n3644  the ecosystem will not be able to sustain the ...  premise  \n3645  The rural folk can survive without the urban folk    claim  \n3646  their standard of living will plummet due to l...    claim  \n\n[3647 rows x 5 columns]",
      "text/html": "<div>\n<style scoped>\n    .dataframe tbody tr th:only-of-type {\n        vertical-align: middle;\n    }\n\n    .dataframe tbody tr th {\n        vertical-align: top;\n    }\n\n    .dataframe thead th {\n        text-align: right;\n    }\n</style>\n<table border=\"1\" class=\"dataframe\">\n  <thead>\n    <tr style=\"text-align: right;\">\n      <th></th>\n      <th>document</th>\n      <th>file_path</th>\n      <th>split</th>\n      <th>text</th>\n      <th>type</th>\n    </tr>\n  </thead>\n  <tbody>\n    <tr>\n      <th>0</th>\n      <td>v2.0/positive/88.xml</td>\n      <td>v2.0/positive/88.xml</td>\n      <td>positive</td>\n      <td>[47% of all jobs are at risk of being automate...</td>\n      <td>premise</td>\n    </tr>\n    <tr>\n      <th>1</th>\n      <td>v2.0/positive/88.xml</td>\n      <td>v2.0/positive/88.xml</td>\n      <td>positive</td>\n      <td>This number will grow grow until the vast majo...</td>\n      <td>premise</td>\n    </tr>\n    <tr>\n      <th>2</th>\n      <td>v2.0/positive/88.xml</td>\n      <td>v2.0/positive/88.xml</td>\n      <td>positive</td>\n      <td>Since some of this automation will inevitably ...</td>\n      <td>premise</td>\n    </tr>\n    <tr>\n      <th>3</th>\n      <td>v2.0/positive/88.xml</td>\n      <td>v2.0/positive/88.xml</td>\n      <td>positive</td>\n      <td>By fortifying themselves in their gated commun...</td>\n      <td>premise</td>\n    </tr>\n    <tr>\n      <th>4</th>\n      <td>v2.0/positive/88.xml</td>\n      <td>v2.0/positive/88.xml</td>\n      <td>positive</td>\n      <td>Once everyone is dead, they can simply be wipe...</td>\n      <td>premise</td>\n    </tr>\n    <tr>\n      <th>...</th>\n      <td>...</td>\n      <td>...</td>\n      <td>...</td>\n      <td>...</td>\n      <td>...</td>\n    </tr>\n    <tr>\n      <th>3642</th>\n      <td>v2.0/negative/85.xml</td>\n      <td>v2.0/negative/85.xml</td>\n      <td>negative</td>\n      <td>If the urban folk get rid of the rural folk th...</td>\n      <td>claim</td>\n    </tr>\n    <tr>\n      <th>3643</th>\n      <td>v2.0/negative/85.xml</td>\n      <td>v2.0/negative/85.xml</td>\n      <td>negative</td>\n      <td>They couldn't just survive together</td>\n      <td>claim</td>\n    </tr>\n    <tr>\n      <th>3644</th>\n      <td>v2.0/negative/85.xml</td>\n      <td>v2.0/negative/85.xml</td>\n      <td>negative</td>\n      <td>the ecosystem will not be able to sustain the ...</td>\n      <td>premise</td>\n    </tr>\n    <tr>\n      <th>3645</th>\n      <td>v2.0/negative/85.xml</td>\n      <td>v2.0/negative/85.xml</td>\n      <td>negative</td>\n      <td>The rural folk can survive without the urban folk</td>\n      <td>claim</td>\n    </tr>\n    <tr>\n      <th>3646</th>\n      <td>v2.0/negative/85.xml</td>\n      <td>v2.0/negative/85.xml</td>\n      <td>negative</td>\n      <td>their standard of living will plummet due to l...</td>\n      <td>claim</td>\n    </tr>\n  </tbody>\n</table>\n<p>3647 rows × 5 columns</p>\n</div>"
     },
     "execution_count": 88,
     "metadata": {},
     "output_type": "execute_result"
    }
   ],
   "source": [
    "df_sentences"
   ],
   "metadata": {
    "collapsed": false,
    "pycharm": {
     "name": "#%%\n"
    }
   }
  },
  {
   "cell_type": "code",
   "execution_count": 57,
   "outputs": [],
   "source": [],
   "metadata": {
    "collapsed": false,
    "pycharm": {
     "name": "#%%\n"
    }
   }
  }
 ],
 "metadata": {
  "kernelspec": {
   "display_name": "Python 3",
   "language": "python",
   "name": "python3"
  },
  "language_info": {
   "codemirror_mode": {
    "name": "ipython",
    "version": 2
   },
   "file_extension": ".py",
   "mimetype": "text/x-python",
   "name": "python",
   "nbconvert_exporter": "python",
   "pygments_lexer": "ipython2",
   "version": "2.7.6"
  }
 },
 "nbformat": 4,
 "nbformat_minor": 0
}