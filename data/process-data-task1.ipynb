{
 "cells": [
  {
   "cell_type": "code",
   "execution_count": 25,
   "metadata": {
    "pycharm": {
     "name": "#%%\n"
    }
   },
   "outputs": [],
   "source": [
    "from sklearn.preprocessing import LabelBinarizer\n",
    "from sklearn.feature_extraction.text import CountVectorizer, TfidfVectorizer\n",
    "from sklearn.svm import LinearSVC, OneClassSVM\n",
    "from sklearn.pipeline import Pipeline, FeatureUnion\n",
    "from sklearn.model_selection import train_test_split\n",
    "import numpy as np\n",
    "from sklearn.metrics import classification_report\n",
    "import os\n",
    "import random as python_random\n",
    "import argparse\n",
    "import numpy as np\n",
    "import os, sys, time\n",
    "import pandas as pd\n",
    "from sklearn.metrics import classification_report, confusion_matrix, accuracy_score, f1_score"
   ]
  },
  {
   "cell_type": "code",
   "execution_count": 26,
   "outputs": [
    {
     "ename": "OSError",
     "evalue": "Cannot save file into a non-existent directory: 'v2.0-processed'",
     "output_type": "error",
     "traceback": [
      "\u001B[0;31m---------------------------------------------------------------------------\u001B[0m",
      "\u001B[0;31mOSError\u001B[0m                                   Traceback (most recent call last)",
      "Input \u001B[0;32mIn [26]\u001B[0m, in \u001B[0;36m<cell line: 54>\u001B[0;34m()\u001B[0m\n\u001B[1;32m     51\u001B[0m             \u001B[38;5;28;01mpass\u001B[39;00m\n\u001B[1;32m     53\u001B[0m \u001B[38;5;66;03m#pickle.dump( df_sentences, open( \"./v2.0-processed/df_sentences.pickle\", \"wb\" ) )\u001B[39;00m\n\u001B[0;32m---> 54\u001B[0m \u001B[43mdf_sentences\u001B[49m\u001B[38;5;241;43m.\u001B[39;49m\u001B[43mto_pickle\u001B[49m\u001B[43m(\u001B[49m\u001B[38;5;124;43m'\u001B[39;49m\u001B[38;5;124;43mv2.0-processed/df_sentences.pickle\u001B[39;49m\u001B[38;5;124;43m'\u001B[39;49m\u001B[43m)\u001B[49m\n\u001B[1;32m     55\u001B[0m df_sentences_test\u001B[38;5;241m.\u001B[39mto_pickle(\u001B[38;5;124m'\u001B[39m\u001B[38;5;124mv2.0-processed/df_sentences_test.pickle\u001B[39m\u001B[38;5;124m'\u001B[39m)\n",
      "File \u001B[0;32m~/PycharmProjects/ltp/venv/lib/python3.8/site-packages/pandas/core/generic.py:3026\u001B[0m, in \u001B[0;36mNDFrame.to_pickle\u001B[0;34m(self, path, compression, protocol, storage_options)\u001B[0m\n\u001B[1;32m   2976\u001B[0m \u001B[38;5;124;03m\"\"\"\u001B[39;00m\n\u001B[1;32m   2977\u001B[0m \u001B[38;5;124;03mPickle (serialize) object to file.\u001B[39;00m\n\u001B[1;32m   2978\u001B[0m \n\u001B[0;32m   (...)\u001B[0m\n\u001B[1;32m   3022\u001B[0m \u001B[38;5;124;03m4    4    9\u001B[39;00m\n\u001B[1;32m   3023\u001B[0m \u001B[38;5;124;03m\"\"\"\u001B[39;00m  \u001B[38;5;66;03m# noqa: E501\u001B[39;00m\n\u001B[1;32m   3024\u001B[0m \u001B[38;5;28;01mfrom\u001B[39;00m \u001B[38;5;21;01mpandas\u001B[39;00m\u001B[38;5;21;01m.\u001B[39;00m\u001B[38;5;21;01mio\u001B[39;00m\u001B[38;5;21;01m.\u001B[39;00m\u001B[38;5;21;01mpickle\u001B[39;00m \u001B[38;5;28;01mimport\u001B[39;00m to_pickle\n\u001B[0;32m-> 3026\u001B[0m \u001B[43mto_pickle\u001B[49m\u001B[43m(\u001B[49m\n\u001B[1;32m   3027\u001B[0m \u001B[43m    \u001B[49m\u001B[38;5;28;43mself\u001B[39;49m\u001B[43m,\u001B[49m\n\u001B[1;32m   3028\u001B[0m \u001B[43m    \u001B[49m\u001B[43mpath\u001B[49m\u001B[43m,\u001B[49m\n\u001B[1;32m   3029\u001B[0m \u001B[43m    \u001B[49m\u001B[43mcompression\u001B[49m\u001B[38;5;241;43m=\u001B[39;49m\u001B[43mcompression\u001B[49m\u001B[43m,\u001B[49m\n\u001B[1;32m   3030\u001B[0m \u001B[43m    \u001B[49m\u001B[43mprotocol\u001B[49m\u001B[38;5;241;43m=\u001B[39;49m\u001B[43mprotocol\u001B[49m\u001B[43m,\u001B[49m\n\u001B[1;32m   3031\u001B[0m \u001B[43m    \u001B[49m\u001B[43mstorage_options\u001B[49m\u001B[38;5;241;43m=\u001B[39;49m\u001B[43mstorage_options\u001B[49m\u001B[43m,\u001B[49m\n\u001B[1;32m   3032\u001B[0m \u001B[43m\u001B[49m\u001B[43m)\u001B[49m\n",
      "File \u001B[0;32m~/PycharmProjects/ltp/venv/lib/python3.8/site-packages/pandas/io/pickle.py:97\u001B[0m, in \u001B[0;36mto_pickle\u001B[0;34m(obj, filepath_or_buffer, compression, protocol, storage_options)\u001B[0m\n\u001B[1;32m     94\u001B[0m \u001B[38;5;28;01mif\u001B[39;00m protocol \u001B[38;5;241m<\u001B[39m \u001B[38;5;241m0\u001B[39m:\n\u001B[1;32m     95\u001B[0m     protocol \u001B[38;5;241m=\u001B[39m pickle\u001B[38;5;241m.\u001B[39mHIGHEST_PROTOCOL\n\u001B[0;32m---> 97\u001B[0m \u001B[38;5;28;01mwith\u001B[39;00m \u001B[43mget_handle\u001B[49m\u001B[43m(\u001B[49m\n\u001B[1;32m     98\u001B[0m \u001B[43m    \u001B[49m\u001B[43mfilepath_or_buffer\u001B[49m\u001B[43m,\u001B[49m\n\u001B[1;32m     99\u001B[0m \u001B[43m    \u001B[49m\u001B[38;5;124;43m\"\u001B[39;49m\u001B[38;5;124;43mwb\u001B[39;49m\u001B[38;5;124;43m\"\u001B[39;49m\u001B[43m,\u001B[49m\n\u001B[1;32m    100\u001B[0m \u001B[43m    \u001B[49m\u001B[43mcompression\u001B[49m\u001B[38;5;241;43m=\u001B[39;49m\u001B[43mcompression\u001B[49m\u001B[43m,\u001B[49m\n\u001B[1;32m    101\u001B[0m \u001B[43m    \u001B[49m\u001B[43mis_text\u001B[49m\u001B[38;5;241;43m=\u001B[39;49m\u001B[38;5;28;43;01mFalse\u001B[39;49;00m\u001B[43m,\u001B[49m\n\u001B[1;32m    102\u001B[0m \u001B[43m    \u001B[49m\u001B[43mstorage_options\u001B[49m\u001B[38;5;241;43m=\u001B[39;49m\u001B[43mstorage_options\u001B[49m\u001B[43m,\u001B[49m\n\u001B[1;32m    103\u001B[0m \u001B[43m\u001B[49m\u001B[43m)\u001B[49m \u001B[38;5;28;01mas\u001B[39;00m handles:\n\u001B[1;32m    104\u001B[0m     \u001B[38;5;28;01mif\u001B[39;00m handles\u001B[38;5;241m.\u001B[39mcompression[\u001B[38;5;124m\"\u001B[39m\u001B[38;5;124mmethod\u001B[39m\u001B[38;5;124m\"\u001B[39m] \u001B[38;5;129;01min\u001B[39;00m (\u001B[38;5;124m\"\u001B[39m\u001B[38;5;124mbz2\u001B[39m\u001B[38;5;124m\"\u001B[39m, \u001B[38;5;124m\"\u001B[39m\u001B[38;5;124mxz\u001B[39m\u001B[38;5;124m\"\u001B[39m) \u001B[38;5;129;01mand\u001B[39;00m protocol \u001B[38;5;241m>\u001B[39m\u001B[38;5;241m=\u001B[39m \u001B[38;5;241m5\u001B[39m:\n\u001B[1;32m    105\u001B[0m         \u001B[38;5;66;03m# some weird TypeError GH#39002 with pickle 5: fallback to letting\u001B[39;00m\n\u001B[1;32m    106\u001B[0m         \u001B[38;5;66;03m# pickle create the entire object and then write it to the buffer.\u001B[39;00m\n\u001B[1;32m    107\u001B[0m         \u001B[38;5;66;03m# \"zip\" would also be here if pandas.io.common._BytesZipFile\u001B[39;00m\n\u001B[1;32m    108\u001B[0m         \u001B[38;5;66;03m# wouldn't buffer write calls\u001B[39;00m\n\u001B[1;32m    109\u001B[0m         handles\u001B[38;5;241m.\u001B[39mhandle\u001B[38;5;241m.\u001B[39mwrite(pickle\u001B[38;5;241m.\u001B[39mdumps(obj, protocol\u001B[38;5;241m=\u001B[39mprotocol))\n",
      "File \u001B[0;32m~/PycharmProjects/ltp/venv/lib/python3.8/site-packages/pandas/io/common.py:697\u001B[0m, in \u001B[0;36mget_handle\u001B[0;34m(path_or_buf, mode, encoding, compression, memory_map, is_text, errors, storage_options)\u001B[0m\n\u001B[1;32m    695\u001B[0m \u001B[38;5;66;03m# Only for write methods\u001B[39;00m\n\u001B[1;32m    696\u001B[0m \u001B[38;5;28;01mif\u001B[39;00m \u001B[38;5;124m\"\u001B[39m\u001B[38;5;124mr\u001B[39m\u001B[38;5;124m\"\u001B[39m \u001B[38;5;129;01mnot\u001B[39;00m \u001B[38;5;129;01min\u001B[39;00m mode \u001B[38;5;129;01mand\u001B[39;00m is_path:\n\u001B[0;32m--> 697\u001B[0m     \u001B[43mcheck_parent_directory\u001B[49m\u001B[43m(\u001B[49m\u001B[38;5;28;43mstr\u001B[39;49m\u001B[43m(\u001B[49m\u001B[43mhandle\u001B[49m\u001B[43m)\u001B[49m\u001B[43m)\u001B[49m\n\u001B[1;32m    699\u001B[0m \u001B[38;5;28;01mif\u001B[39;00m compression:\n\u001B[1;32m    700\u001B[0m     \u001B[38;5;28;01mif\u001B[39;00m compression \u001B[38;5;241m!=\u001B[39m \u001B[38;5;124m\"\u001B[39m\u001B[38;5;124mzstd\u001B[39m\u001B[38;5;124m\"\u001B[39m:\n\u001B[1;32m    701\u001B[0m         \u001B[38;5;66;03m# compression libraries do not like an explicit text-mode\u001B[39;00m\n",
      "File \u001B[0;32m~/PycharmProjects/ltp/venv/lib/python3.8/site-packages/pandas/io/common.py:571\u001B[0m, in \u001B[0;36mcheck_parent_directory\u001B[0;34m(path)\u001B[0m\n\u001B[1;32m    569\u001B[0m parent \u001B[38;5;241m=\u001B[39m Path(path)\u001B[38;5;241m.\u001B[39mparent\n\u001B[1;32m    570\u001B[0m \u001B[38;5;28;01mif\u001B[39;00m \u001B[38;5;129;01mnot\u001B[39;00m parent\u001B[38;5;241m.\u001B[39mis_dir():\n\u001B[0;32m--> 571\u001B[0m     \u001B[38;5;28;01mraise\u001B[39;00m \u001B[38;5;167;01mOSError\u001B[39;00m(\u001B[38;5;124mrf\u001B[39m\u001B[38;5;124m\"\u001B[39m\u001B[38;5;124mCannot save file into a non-existent directory: \u001B[39m\u001B[38;5;124m'\u001B[39m\u001B[38;5;132;01m{\u001B[39;00mparent\u001B[38;5;132;01m}\u001B[39;00m\u001B[38;5;124m'\u001B[39m\u001B[38;5;124m\"\u001B[39m)\n",
      "\u001B[0;31mOSError\u001B[0m: Cannot save file into a non-existent directory: 'v2.0-processed'"
     ]
    }
   ],
   "source": [
    "import os\n",
    "import pickle\n",
    "import glob\n",
    "import pandas as pd\n",
    "import xml.etree.ElementTree as ET\n",
    "import eli5\n",
    "\n",
    "# Construct empty DataFrame\n",
    "df_sentences = pd.DataFrame(columns=[\n",
    "    'document', 'file_path', 'split', 'text', 'type'\n",
    "])\n",
    "\n",
    "df_sentences_test = df_sentences\n",
    "\n",
    "def parse_xml(xml_path):\n",
    "    tree = ET.parse(xml_path)\n",
    "    root = tree.getroot()\n",
    "\n",
    "    documents = []\n",
    "\n",
    "    for elem in root.iter():\n",
    "        if elem.tag == \"OP\" or elem.tag == \"reply\":\n",
    "            all_descendants = [b for b in elem.iter() if b is not elem]\n",
    "            for desc in all_descendants:\n",
    "                documents.append((desc.text, desc.tag))\n",
    "    return documents\n",
    "\n",
    "# Retrieve premises from all XML files\n",
    "for split in ['positive', 'negative']:\n",
    "    for path in glob.glob(os.path.join(f'v2.0/{split}', '*.xml')):\n",
    "        try:\n",
    "            for premise, argument in parse_xml(path):\n",
    "                document = int(path.split('/')[2].split('.')[0])\n",
    "                if document > 95:\n",
    "                    df_sentences_test = pd.concat([df_sentences_test, pd.DataFrame({\n",
    "                        'document': [path],\n",
    "                        'file_path': [path],\n",
    "                        'split': [path.split(\"/\")[1]],\n",
    "                        'text': [premise],\n",
    "                        'type': [argument],\n",
    "                    })], axis=0, ignore_index=True)\n",
    "                elif document <= 95:\n",
    "                    df_sentences = pd.concat([df_sentences, pd.DataFrame({\n",
    "                        'document': [path],\n",
    "                        'file_path': [path],\n",
    "                        'split': [path.split(\"/\")[1]],\n",
    "                        'text': [premise],\n",
    "                        'type': [argument],\n",
    "                    })], axis=0, ignore_index=True)\n",
    "        except ET.ParseError:\n",
    "            pass\n",
    "\n",
    "#pickle.dump( df_sentences, open( \"./v2.0-processed/df_sentences.pickle\", \"wb\" ) )\n",
    "df_sentences.to_pickle('./v2.0-processed/df_sentences.pickle')\n",
    "df_sentences_test.to_pickle('./v2.0-processed/df_sentences_test.pickle')"
   ],
   "metadata": {
    "collapsed": false,
    "pycharm": {
     "name": "#%%\n"
    }
   }
  },
  {
   "cell_type": "code",
   "execution_count": null,
   "outputs": [],
   "source": [
    "df = df_sentences\n",
    "\n",
    "# Preprocess the train data\n",
    "documents = df[\"text\"].tolist()\n",
    "labels = df[\"type\"].tolist()\n",
    "\n",
    "\n",
    "X_train, X_test, y_train, y_test = train_test_split(documents, labels, test_size=0.2, random_state=1, stratify=labels)\n",
    "\n",
    "# X_train, X_val, y_train, y_val = train_test_split(X_train, y_train, test_size=0.25, random_state=1, stratify=y_train) # 0.25 x 0.8 = 0.2\n",
    "\n",
    "random_state = 44\n",
    "\n",
    "# Construct pipeline\n",
    "pipe = Pipeline([\n",
    "    ('tfidf', TfidfVectorizer()),\n",
    "    ('svc', LinearSVC(random_state=random_state)),\n",
    "])\n",
    "\n",
    "# Convert labels to numerical values\n",
    "#encoder = LabelBinarizer()\n",
    "#y_train_bin = encoder.fit_transform(y_train)\n",
    "#y_train = np.argmax(y_train_bin, axis=1)\n",
    "\n",
    "pipe.fit(X_train, y_train)\n",
    "\n",
    "# Predict dev\n",
    "y_pred = pipe.predict(X_test)\n",
    "print(classification_report(y_test, y_pred))\n",
    "\n",
    "eli5.show_weights(pipe)\n",
    "\n",
    "\n",
    "# Predict test\n",
    "#y_pred = pipe.predict(X_test)\n",
    "#print(classification_report(y_test, y_pred))"
   ],
   "metadata": {
    "collapsed": false,
    "pycharm": {
     "name": "#%%\n"
    }
   }
  },
  {
   "cell_type": "code",
   "execution_count": null,
   "outputs": [],
   "source": [
    "# Get the names of each feature\n",
    "feature_names = pipe.named_steps[\"tfidf\"].get_feature_names()\n",
    "\n",
    "# Get the coefficients of each feature\n",
    "coefs = pipe.named_steps[\"svc\"].coef_.flatten()\n",
    "\n",
    "import pandas as pd\n",
    "# Zip coefficients and names together and make a DataFrame\n",
    "zipped = zip(feature_names, coefs)\n",
    "df = pd.DataFrame(zipped, columns=[\"feature\", \"value\"])\n",
    "# Sort the features by the absolute value of their coefficient\n",
    "df[\"abs_value\"] = df[\"value\"].apply(lambda x: abs(x))\n",
    "df[\"colors\"] = df[\"value\"].apply(lambda x: \"green\" if x > 0 else \"red\")\n",
    "df = df.sort_values(\"abs_value\", ascending=False)\n",
    "\n",
    "import seaborn as sns\n",
    "fig, ax = plt.subplots(1, 1, figsize=(12, 7))\n",
    "sns.barplot(x=\"feature\",\n",
    "            y=\"value\",\n",
    "            data=df.head(20),\n",
    "           palette=df.head(20)[\"colors\"])\n",
    "ax.set_xticklabels(ax.get_xticklabels(), rotation=90, fontsize=20)\n",
    "ax.set_title(\"Top 20 Features\", fontsize=25)\n",
    "ax.set_ylabel(\"Coef\", fontsize=22)\n",
    "ax.set_xlabel(\"Feature Name\", fontsize=22)"
   ],
   "metadata": {
    "collapsed": false,
    "pycharm": {
     "name": "#%%\n"
    }
   }
  },
  {
   "cell_type": "markdown",
   "source": [],
   "metadata": {
    "collapsed": false,
    "pycharm": {
     "name": "#%% md\n"
    }
   }
  }
 ],
 "metadata": {
  "kernelspec": {
   "display_name": "Python 3 (ipykernel)",
   "language": "python",
   "name": "python3"
  },
  "language_info": {
   "codemirror_mode": {
    "name": "ipython",
    "version": 3
   },
   "file_extension": ".py",
   "mimetype": "text/x-python",
   "name": "python",
   "nbconvert_exporter": "python",
   "pygments_lexer": "ipython3",
   "version": "3.8.2"
  }
 },
 "nbformat": 4,
 "nbformat_minor": 1
}