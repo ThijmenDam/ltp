{
 "cells": [
  {
   "cell_type": "code",
   "execution_count": 1,
   "metadata": {
    "pycharm": {
     "name": "#%%\n"
    }
   },
   "outputs": [],
   "source": [
    "from sklearn.feature_extraction.text import  TfidfVectorizer\n",
    "from sklearn.svm import LinearSVC\n",
    "from sklearn.pipeline import Pipeline\n",
    "from sklearn.model_selection import train_test_split\n",
    "from sklearn.metrics import classification_report"
   ]
  },
  {
   "cell_type": "code",
   "execution_count": 2,
   "outputs": [],
   "source": [
    "import os\n",
    "import glob\n",
    "import pandas as pd\n",
    "import xml.etree.ElementTree as ET\n",
    "\n",
    "# Construct empty DataFrame\n",
    "df_sentences = pd.DataFrame(columns=[\n",
    "    'document', 'file_path', 'split', 'text', 'type'\n",
    "])\n",
    "\n",
    "df_sentences_test = df_sentences\n",
    "\n",
    "def parse_xml(xml_path):\n",
    "    tree = ET.parse(xml_path)\n",
    "    root = tree.getroot()\n",
    "\n",
    "    documents = []\n",
    "\n",
    "    for elem in root.iter():\n",
    "        if elem.tag == \"OP\" or elem.tag == \"reply\":\n",
    "            all_descendants = [b for b in elem.iter() if b is not elem]\n",
    "            for desc in all_descendants:\n",
    "                documents.append((desc.text, desc.tag))\n",
    "    return documents\n",
    "\n",
    "# Retrieve premises from all XML files\n",
    "for split in ['positive', 'negative']:\n",
    "    for path in glob.glob(os.path.join(f'v2.0/{split}', '*.xml')):\n",
    "        try:\n",
    "            for premise, argument in parse_xml(path):\n",
    "                document = int(path.split('/')[2].split('.')[0])\n",
    "                if document > 95:\n",
    "                    df_sentences_test = pd.concat([df_sentences_test, pd.DataFrame({\n",
    "                        'document': [document],\n",
    "                        'file_path': [path],\n",
    "                        'split': [path.split(\"/\")[1]],\n",
    "                        'text': [premise],\n",
    "                        'type': [argument],\n",
    "                    })], axis=0, ignore_index=True)\n",
    "                elif document <= 95:\n",
    "                    df_sentences = pd.concat([df_sentences, pd.DataFrame({\n",
    "                        'document': [document],\n",
    "                        'file_path': [path],\n",
    "                        'split': [path.split(\"/\")[1]],\n",
    "                        'text': [premise],\n",
    "                        'type': [argument],\n",
    "                    })], axis=0, ignore_index=True)\n",
    "        except ET.ParseError:\n",
    "            pass\n",
    "\n",
    "#pickle.dump( df_sentences, open( \"./v2.0-processed/df_sentences.pickle\", \"wb\" ) )\n",
    "df_sentences.to_pickle('./v2.0-processed/df_sentences.pickle')\n",
    "df_sentences_test.to_pickle('./v2.0-processed/df_sentences_test.pickle')"
   ],
   "metadata": {
    "collapsed": false,
    "pycharm": {
     "name": "#%%\n"
    }
   }
  },
  {
   "cell_type": "code",
   "execution_count": 3,
   "outputs": [
    {
     "name": "stdout",
     "output_type": "stream",
     "text": [
      "              precision    recall  f1-score   support\n",
      "\n",
      "       claim       0.66      0.60      0.63       248\n",
      "     premise       0.71      0.76      0.74       325\n",
      "\n",
      "    accuracy                           0.69       573\n",
      "   macro avg       0.69      0.68      0.68       573\n",
      "weighted avg       0.69      0.69      0.69       573\n",
      "\n"
     ]
    }
   ],
   "source": [
    "df = df_sentences\n",
    "\n",
    "# Preprocess the train data\n",
    "documents = df[\"text\"].tolist()\n",
    "labels = df[\"type\"].tolist()\n",
    "\n",
    "\n",
    "X_train, X_test, y_train, y_test = train_test_split(documents, labels, test_size=0.2, random_state=1, stratify=labels)\n",
    "\n",
    "# X_train, X_val, y_train, y_val = train_test_split(X_train, y_train, test_size=0.25, random_state=1, stratify=y_train) # 0.25 x 0.8 = 0.2\n",
    "\n",
    "random_state = 44\n",
    "\n",
    "# Construct pipeline\n",
    "pipe = Pipeline([\n",
    "    ('tfidf', TfidfVectorizer()),\n",
    "    ('svc', LinearSVC(random_state=random_state)),\n",
    "])\n",
    "\n",
    "# Convert labels to numerical values\n",
    "#encoder = LabelBinarizer()\n",
    "#y_train_bin = encoder.fit_transform(y_train)\n",
    "#y_train = np.argmax(y_train_bin, axis=1)\n",
    "\n",
    "pipe.fit(X_train, y_train)\n",
    "\n",
    "# Predict dev\n",
    "y_pred = pipe.predict(X_test)\n",
    "print(classification_report(y_test, y_pred))\n",
    "\n",
    "\n",
    "# Predict test\n",
    "#y_pred = pipe.predict(X_test)\n",
    "#print(classification_report(y_test, y_pred))"
   ],
   "metadata": {
    "collapsed": false,
    "pycharm": {
     "name": "#%%\n"
    }
   }
  },
  {
   "cell_type": "code",
   "execution_count": 4,
   "outputs": [
    {
     "name": "stderr",
     "output_type": "stream",
     "text": [
      "/Users/folkertleistra/PycharmProjects/ltp/venv/lib/python3.8/site-packages/sklearn/utils/deprecation.py:87: FutureWarning: Function get_feature_names is deprecated; get_feature_names is deprecated in 1.0 and will be removed in 1.2. Please use get_feature_names_out instead.\n",
      "  warnings.warn(msg, category=FutureWarning)\n"
     ]
    },
    {
     "ename": "NameError",
     "evalue": "name 'plt' is not defined",
     "output_type": "error",
     "traceback": [
      "\u001B[0;31m---------------------------------------------------------------------------\u001B[0m",
      "\u001B[0;31mNameError\u001B[0m                                 Traceback (most recent call last)",
      "Input \u001B[0;32mIn [4]\u001B[0m, in \u001B[0;36m<cell line: 17>\u001B[0;34m()\u001B[0m\n\u001B[1;32m     14\u001B[0m df \u001B[38;5;241m=\u001B[39m df\u001B[38;5;241m.\u001B[39msort_values(\u001B[38;5;124m\"\u001B[39m\u001B[38;5;124mabs_value\u001B[39m\u001B[38;5;124m\"\u001B[39m, ascending\u001B[38;5;241m=\u001B[39m\u001B[38;5;28;01mFalse\u001B[39;00m)\n\u001B[1;32m     16\u001B[0m \u001B[38;5;28;01mimport\u001B[39;00m \u001B[38;5;21;01mseaborn\u001B[39;00m \u001B[38;5;28;01mas\u001B[39;00m \u001B[38;5;21;01msns\u001B[39;00m\n\u001B[0;32m---> 17\u001B[0m fig, ax \u001B[38;5;241m=\u001B[39m \u001B[43mplt\u001B[49m\u001B[38;5;241m.\u001B[39msubplots(\u001B[38;5;241m1\u001B[39m, \u001B[38;5;241m1\u001B[39m, figsize\u001B[38;5;241m=\u001B[39m(\u001B[38;5;241m12\u001B[39m, \u001B[38;5;241m7\u001B[39m))\n\u001B[1;32m     18\u001B[0m sns\u001B[38;5;241m.\u001B[39mbarplot(x\u001B[38;5;241m=\u001B[39m\u001B[38;5;124m\"\u001B[39m\u001B[38;5;124mfeature\u001B[39m\u001B[38;5;124m\"\u001B[39m,\n\u001B[1;32m     19\u001B[0m             y\u001B[38;5;241m=\u001B[39m\u001B[38;5;124m\"\u001B[39m\u001B[38;5;124mvalue\u001B[39m\u001B[38;5;124m\"\u001B[39m,\n\u001B[1;32m     20\u001B[0m             data\u001B[38;5;241m=\u001B[39mdf\u001B[38;5;241m.\u001B[39mhead(\u001B[38;5;241m20\u001B[39m),\n\u001B[1;32m     21\u001B[0m            palette\u001B[38;5;241m=\u001B[39mdf\u001B[38;5;241m.\u001B[39mhead(\u001B[38;5;241m20\u001B[39m)[\u001B[38;5;124m\"\u001B[39m\u001B[38;5;124mcolors\u001B[39m\u001B[38;5;124m\"\u001B[39m])\n\u001B[1;32m     22\u001B[0m ax\u001B[38;5;241m.\u001B[39mset_xticklabels(ax\u001B[38;5;241m.\u001B[39mget_xticklabels(), rotation\u001B[38;5;241m=\u001B[39m\u001B[38;5;241m90\u001B[39m, fontsize\u001B[38;5;241m=\u001B[39m\u001B[38;5;241m20\u001B[39m)\n",
      "\u001B[0;31mNameError\u001B[0m: name 'plt' is not defined"
     ]
    }
   ],
   "source": [
    "# Get the names of each feature\n",
    "feature_names = pipe.named_steps[\"tfidf\"].get_feature_names()\n",
    "\n",
    "# Get the coefficients of each feature\n",
    "coefs = pipe.named_steps[\"svc\"].coef_.flatten()\n",
    "\n",
    "import pandas as pd\n",
    "# Zip coefficients and names together and make a DataFrame\n",
    "zipped = zip(feature_names, coefs)\n",
    "df = pd.DataFrame(zipped, columns=[\"feature\", \"value\"])\n",
    "# Sort the features by the absolute value of their coefficient\n",
    "df[\"abs_value\"] = df[\"value\"].apply(lambda x: abs(x))\n",
    "df[\"colors\"] = df[\"value\"].apply(lambda x: \"green\" if x > 0 else \"red\")\n",
    "df = df.sort_values(\"abs_value\", ascending=False)\n",
    "\n",
    "import seaborn as sns\n",
    "fig, ax = plt.subplots(1, 1, figsize=(12, 7))\n",
    "sns.barplot(x=\"feature\",\n",
    "            y=\"value\",\n",
    "            data=df.head(20),\n",
    "           palette=df.head(20)[\"colors\"])\n",
    "ax.set_xticklabels(ax.get_xticklabels(), rotation=90, fontsize=20)\n",
    "ax.set_title(\"Top 20 Features\", fontsize=25)\n",
    "ax.set_ylabel(\"Coef\", fontsize=22)\n",
    "ax.set_xlabel(\"Feature Name\", fontsize=22)"
   ],
   "metadata": {
    "collapsed": false,
    "pycharm": {
     "name": "#%%\n"
    }
   }
  },
  {
   "cell_type": "markdown",
   "source": [],
   "metadata": {
    "collapsed": false,
    "pycharm": {
     "name": "#%% md\n"
    }
   }
  },
  {
   "cell_type": "code",
   "execution_count": null,
   "outputs": [],
   "source": [
    "# Get the names of each feature\n",
    "feature_names = pipe.named_steps[\"tfidf\"].get_feature_names()\n",
    "\n",
    "# Get the coefficients of each feature\n",
    "coefs = pipe.named_steps[\"svc\"].coef_.flatten()\n",
    "\n",
    "import pandas as pd\n",
    "# Zip coefficients and names together and make a DataFrame\n",
    "zipped = zip(feature_names, coefs)\n",
    "df = pd.DataFrame(zipped, columns=[\"feature\", \"value\"])\n",
    "# Sort the features by the absolute value of their coefficient\n",
    "df[\"abs_value\"] = df[\"value\"].apply(lambda x: abs(x))\n",
    "df[\"colors\"] = df[\"value\"].apply(lambda x: \"green\" if x > 0 else \"red\")\n",
    "df = df.sort_values(\"abs_value\", ascending=False)\n",
    "\n",
    "import seaborn as sns\n",
    "fig, ax = plt.subplots(1, 1, figsize=(12, 7))\n",
    "sns.barplot(x=\"feature\",\n",
    "            y=\"value\",\n",
    "            data=df.head(20),\n",
    "           palette=df.head(20)[\"colors\"])\n",
    "ax.set_xticklabels(ax.get_xticklabels(), rotation=90, fontsize=20)\n",
    "ax.set_title(\"Top 20 Features\", fontsize=25)\n",
    "ax.set_ylabel(\"Coef\", fontsize=22)\n",
    "ax.set_xlabel(\"Feature Name\", fontsize=22)"
   ],
   "metadata": {
    "collapsed": false,
    "pycharm": {
     "name": "#%%\n"
    }
   }
  },
  {
   "cell_type": "markdown",
   "source": [],
   "metadata": {
    "collapsed": false,
    "pycharm": {
     "name": "#%% md\n"
    }
   }
  }
 ],
 "metadata": {
  "kernelspec": {
   "display_name": "Python 3 (ipykernel)",
   "language": "python",
   "name": "python3"
  },
  "language_info": {
   "codemirror_mode": {
    "name": "ipython",
    "version": 3
   },
   "file_extension": ".py",
   "mimetype": "text/x-python",
   "name": "python",
   "nbconvert_exporter": "python",
   "pygments_lexer": "ipython3",
   "version": "3.8.2"
  }
 },
 "nbformat": 4,
 "nbformat_minor": 1
}