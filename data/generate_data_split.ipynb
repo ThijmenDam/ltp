{
 "cells": [
  {
   "cell_type": "code",
   "execution_count": 5,
   "outputs": [],
   "source": [
    "import pandas as pd\n",
    "from nltk import word_tokenize\n",
    "from sklearn.model_selection import train_test_split\n",
    "df = pd.read_pickle('../data/v2.0-processed/df_premises.pickle')"
   ],
   "metadata": {
    "collapsed": false,
    "pycharm": {
     "name": "#%%\n"
    }
   }
  },
  {
   "cell_type": "code",
   "execution_count": 6,
   "outputs": [],
   "source": [
    "# Lowercase\n",
    "df['premise'] = df['premise'].str.lower()\n",
    "df['logos'] = df['logos'].map({True: 'Logos', False: 'Not Logos'})\n",
    "df['pathos'] = df['pathos'].map({True: 'Pathos', False: 'Not Pathos'})\n",
    "df['ethos'] = df['ethos'].map({True: 'Ethos', False: 'Not Ethos'})\n",
    "df['premise'] = [' '.join(word_tokenize(entry)) for entry in df['premise']]"
   ],
   "metadata": {
    "collapsed": false,
    "pycharm": {
     "name": "#%%\n"
    }
   }
  },
  {
   "cell_type": "code",
   "execution_count": 7,
   "outputs": [],
   "source": [
    "train, test = train_test_split(df, test_size=0.2, random_state=0, stratify=df['type'], shuffle=True)"
   ],
   "metadata": {
    "collapsed": false,
    "pycharm": {
     "name": "#%%\n"
    }
   }
  },
  {
   "cell_type": "code",
   "execution_count": 8,
   "outputs": [],
   "source": [
    "train.to_csv('../data/subtask-1/df_premises_train.csv')\n",
    "test.to_csv('../data/subtask-1/df_premises_test.csv')"
   ],
   "metadata": {
    "collapsed": false,
    "pycharm": {
     "name": "#%%\n"
    }
   }
  },
  {
   "cell_type": "code",
   "execution_count": 9,
   "outputs": [
    {
     "data": {
      "text/plain": "     document             file_path     split  \\\n1690       81  v2.0/negative/81.xml  negative   \n1962       79  v2.0/negative/79.xml  negative   \n270        67  v2.0/positive/67.xml  positive   \n721        94  v2.0/positive/94.xml  positive   \n640        95  v2.0/positive/95.xml  positive   \n\n                                                premise          type  logos  \\\n1690  does n't immigration of a working class citize...         logos  Logos   \n1962  and christ , you said you * had the courtesy t...         logos  Logos   \n270   it 's about as far as you can get from * your ...  logos_pathos  Logos   \n721   while this may be true , has n't the killing o...  logos_pathos  Logos   \n640   fear of losing votes from radical sympathizers...  logos_pathos  Logos   \n\n          pathos      ethos  \n1690  Not Pathos  Not Ethos  \n1962  Not Pathos  Not Ethos  \n270       Pathos  Not Ethos  \n721       Pathos  Not Ethos  \n640       Pathos  Not Ethos  ",
      "text/html": "<div>\n<style scoped>\n    .dataframe tbody tr th:only-of-type {\n        vertical-align: middle;\n    }\n\n    .dataframe tbody tr th {\n        vertical-align: top;\n    }\n\n    .dataframe thead th {\n        text-align: right;\n    }\n</style>\n<table border=\"1\" class=\"dataframe\">\n  <thead>\n    <tr style=\"text-align: right;\">\n      <th></th>\n      <th>document</th>\n      <th>file_path</th>\n      <th>split</th>\n      <th>premise</th>\n      <th>type</th>\n      <th>logos</th>\n      <th>pathos</th>\n      <th>ethos</th>\n    </tr>\n  </thead>\n  <tbody>\n    <tr>\n      <th>1690</th>\n      <td>81</td>\n      <td>v2.0/negative/81.xml</td>\n      <td>negative</td>\n      <td>does n't immigration of a working class citize...</td>\n      <td>logos</td>\n      <td>Logos</td>\n      <td>Not Pathos</td>\n      <td>Not Ethos</td>\n    </tr>\n    <tr>\n      <th>1962</th>\n      <td>79</td>\n      <td>v2.0/negative/79.xml</td>\n      <td>negative</td>\n      <td>and christ , you said you * had the courtesy t...</td>\n      <td>logos</td>\n      <td>Logos</td>\n      <td>Not Pathos</td>\n      <td>Not Ethos</td>\n    </tr>\n    <tr>\n      <th>270</th>\n      <td>67</td>\n      <td>v2.0/positive/67.xml</td>\n      <td>positive</td>\n      <td>it 's about as far as you can get from * your ...</td>\n      <td>logos_pathos</td>\n      <td>Logos</td>\n      <td>Pathos</td>\n      <td>Not Ethos</td>\n    </tr>\n    <tr>\n      <th>721</th>\n      <td>94</td>\n      <td>v2.0/positive/94.xml</td>\n      <td>positive</td>\n      <td>while this may be true , has n't the killing o...</td>\n      <td>logos_pathos</td>\n      <td>Logos</td>\n      <td>Pathos</td>\n      <td>Not Ethos</td>\n    </tr>\n    <tr>\n      <th>640</th>\n      <td>95</td>\n      <td>v2.0/positive/95.xml</td>\n      <td>positive</td>\n      <td>fear of losing votes from radical sympathizers...</td>\n      <td>logos_pathos</td>\n      <td>Logos</td>\n      <td>Pathos</td>\n      <td>Not Ethos</td>\n    </tr>\n  </tbody>\n</table>\n</div>"
     },
     "execution_count": 9,
     "metadata": {},
     "output_type": "execute_result"
    }
   ],
   "source": [
    "train.head()"
   ],
   "metadata": {
    "collapsed": false,
    "pycharm": {
     "name": "#%%\n"
    }
   }
  },
  {
   "cell_type": "code",
   "execution_count": 12,
   "outputs": [
    {
     "name": "stdout",
     "output_type": "stream",
     "text": [
      "logos_pathos          687\n",
      "logos                 645\n",
      "pathos                214\n",
      "ethos_logos_pathos     38\n",
      "ethos_logos            35\n",
      "ethos                  22\n",
      "ethos_pathos           16\n",
      "Name: type, dtype: int64\n",
      "logos_pathos          172\n",
      "logos                 161\n",
      "pathos                 53\n",
      "ethos_logos_pathos     10\n",
      "ethos_logos             9\n",
      "ethos                   6\n",
      "ethos_pathos            4\n",
      "Name: type, dtype: int64\n"
     ]
    }
   ],
   "source": [
    "print(train['type'].value_counts())\n",
    "print(test['type'].value_counts())"
   ],
   "metadata": {
    "collapsed": false,
    "pycharm": {
     "name": "#%%\n"
    }
   }
  },
  {
   "cell_type": "code",
   "execution_count": null,
   "outputs": [],
   "source": [],
   "metadata": {
    "collapsed": false,
    "pycharm": {
     "name": "#%%\n"
    }
   }
  }
 ],
 "metadata": {
  "kernelspec": {
   "display_name": "Python 3",
   "language": "python",
   "name": "python3"
  },
  "language_info": {
   "codemirror_mode": {
    "name": "ipython",
    "version": 2
   },
   "file_extension": ".py",
   "mimetype": "text/x-python",
   "name": "python",
   "nbconvert_exporter": "python",
   "pygments_lexer": "ipython2",
   "version": "2.7.6"
  }
 },
 "nbformat": 4,
 "nbformat_minor": 0
}