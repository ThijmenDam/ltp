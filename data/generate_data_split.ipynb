{
 "cells": [
  {
   "cell_type": "code",
   "execution_count": 5,
   "outputs": [],
   "source": [
    "import pandas as pd\n",
    "from nltk import word_tokenize\n",
    "from sklearn.model_selection import train_test_split\n",
    "df = pd.read_pickle('../data/v2.0-processed/df_premises.pickle')"
   ],
   "metadata": {
    "collapsed": false,
    "pycharm": {
     "name": "#%%\n"
    }
   }
  },
  {
   "cell_type": "code",
   "execution_count": 6,
   "outputs": [],
   "source": [
    "# Lowercase\n",
    "df['premise'] = df['premise'].str.lower()\n",
    "df['logos'] = df['logos'].map({True: 'Logos', False: 'Not Logos'})\n",
    "df['pathos'] = df['pathos'].map({True: 'Pathos', False: 'Not Pathos'})\n",
    "df['ethos'] = df['ethos'].map({True: 'Ethos', False: 'Not Ethos'})\n",
    "df['premise'] = [word_tokenize(entry) for entry in df['premise']]\n",
    "df['text'] = [' '.join(entry) for entry in df['premise']]"
   ],
   "metadata": {
    "collapsed": false,
    "pycharm": {
     "name": "#%%\n"
    }
   }
  },
  {
   "cell_type": "code",
   "execution_count": 7,
   "outputs": [],
   "source": [
    "train, test = train_test_split(df, test_size=0.2, random_state=0, stratify=df['type'], shuffle=True)"
   ],
   "metadata": {
    "collapsed": false,
    "pycharm": {
     "name": "#%%\n"
    }
   }
  },
  {
   "cell_type": "code",
   "execution_count": 12,
   "outputs": [],
   "source": [
    "train.to_csv('../data/subtask-1/df_premises_train.csv')\n",
    "test.to_csv('../data/subtask-1/df_premises_test.csv')"
   ],
   "metadata": {
    "collapsed": false,
    "pycharm": {
     "name": "#%%\n"
    }
   }
  },
  {
   "cell_type": "code",
   "execution_count": null,
   "outputs": [],
   "source": [],
   "metadata": {
    "collapsed": false,
    "pycharm": {
     "name": "#%%\n"
    }
   }
  }
 ],
 "metadata": {
  "kernelspec": {
   "display_name": "Python 3",
   "language": "python",
   "name": "python3"
  },
  "language_info": {
   "codemirror_mode": {
    "name": "ipython",
    "version": 2
   },
   "file_extension": ".py",
   "mimetype": "text/x-python",
   "name": "python",
   "nbconvert_exporter": "python",
   "pygments_lexer": "ipython2",
   "version": "2.7.6"
  }
 },
 "nbformat": 4,
 "nbformat_minor": 0
}