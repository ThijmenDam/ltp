{
 "nbformat": 4,
 "nbformat_minor": 0,
 "metadata": {
  "accelerator": "GPU",
  "colab": {
   "name": "Subtask1.ipynb",
   "provenance": [],
   "collapsed_sections": []
  },
  "kernelspec": {
   "display_name": "Python 3 (ipykernel)",
   "language": "python",
   "name": "python3"
  },
  "language_info": {
   "codemirror_mode": {
    "name": "ipython",
    "version": 3
   },
   "file_extension": ".py",
   "mimetype": "text/x-python",
   "name": "python",
   "nbconvert_exporter": "python",
   "pygments_lexer": "ipython3",
   "version": "3.8.5"
  }
 },
 "cells": [
  {
   "cell_type": "markdown",
   "metadata": {
    "id": "9xEIoJ1xpdVD",
    "pycharm": {
     "name": "#%% md\n"
    }
   },
   "source": [
    "# **Subtask 1**: premise/claim classification\n",
    "\n",
    "This Notebook contains all the code that was used for the task of premise/claim classification.\n",
    "\n",
    "Please note that currently this notebook is setup to obtain our best results for this task. In essence, this means that we are using the following model and settings:\n",
    "- **Model**: DistilBERT uncased\n",
    "- **Epoch**: 5\n",
    "- **Learning Rate**: 5e-6\n",
    "- **Batch size**: 8\n",
    "\n",
    "The settings, models and seeds can be easily adapted with this notebook by using the settings cellblock."
   ]
  },
  {
   "cell_type": "code",
   "metadata": {
    "id": "XKVrr5U4lOn4",
    "colab": {
     "base_uri": "https://localhost:8080/"
    },
    "outputId": "4b584694-168f-422d-c168-29be73dcd4c5",
    "pycharm": {
     "name": "#%%\n"
    }
   },
   "source": [
    "# making sure the transformers library is installed\n",
    "!pip install transformers"
   ],
   "execution_count": 68,
   "outputs": [
    {
     "name": "stdout",
     "output_type": "stream",
     "text": [
      "Requirement already satisfied: transformers in /Users/folkertleistra/PycharmProjects/ltp/venv/lib/python3.8/site-packages (4.19.4)\r\n",
      "Requirement already satisfied: numpy>=1.17 in /Users/folkertleistra/PycharmProjects/ltp/venv/lib/python3.8/site-packages (from transformers) (1.22.4)\r\n",
      "Requirement already satisfied: regex!=2019.12.17 in /Users/folkertleistra/PycharmProjects/ltp/venv/lib/python3.8/site-packages (from transformers) (2022.6.2)\r\n",
      "Requirement already satisfied: requests in /Users/folkertleistra/PycharmProjects/ltp/venv/lib/python3.8/site-packages (from transformers) (2.28.0)\r\n",
      "Requirement already satisfied: packaging>=20.0 in /Users/folkertleistra/PycharmProjects/ltp/venv/lib/python3.8/site-packages (from transformers) (21.3)\r\n",
      "Requirement already satisfied: filelock in /Users/folkertleistra/PycharmProjects/ltp/venv/lib/python3.8/site-packages (from transformers) (3.7.1)\r\n",
      "Requirement already satisfied: pyyaml>=5.1 in /Users/folkertleistra/PycharmProjects/ltp/venv/lib/python3.8/site-packages (from transformers) (6.0)\r\n",
      "Requirement already satisfied: huggingface-hub<1.0,>=0.1.0 in /Users/folkertleistra/PycharmProjects/ltp/venv/lib/python3.8/site-packages (from transformers) (0.7.0)\r\n",
      "Requirement already satisfied: tqdm>=4.27 in /Users/folkertleistra/PycharmProjects/ltp/venv/lib/python3.8/site-packages (from transformers) (4.64.0)\r\n",
      "Requirement already satisfied: tokenizers!=0.11.3,<0.13,>=0.11.1 in /Users/folkertleistra/PycharmProjects/ltp/venv/lib/python3.8/site-packages (from transformers) (0.12.1)\r\n",
      "Requirement already satisfied: typing-extensions>=3.7.4.3 in /Users/folkertleistra/PycharmProjects/ltp/venv/lib/python3.8/site-packages (from huggingface-hub<1.0,>=0.1.0->transformers) (4.2.0)\r\n",
      "Requirement already satisfied: pyparsing!=3.0.5,>=2.0.2 in /Users/folkertleistra/PycharmProjects/ltp/venv/lib/python3.8/site-packages (from packaging>=20.0->transformers) (3.0.9)\r\n",
      "Requirement already satisfied: certifi>=2017.4.17 in /Users/folkertleistra/PycharmProjects/ltp/venv/lib/python3.8/site-packages (from requests->transformers) (2022.5.18.1)\r\n",
      "Requirement already satisfied: charset-normalizer~=2.0.0 in /Users/folkertleistra/PycharmProjects/ltp/venv/lib/python3.8/site-packages (from requests->transformers) (2.0.12)\r\n",
      "Requirement already satisfied: urllib3<1.27,>=1.21.1 in /Users/folkertleistra/PycharmProjects/ltp/venv/lib/python3.8/site-packages (from requests->transformers) (1.26.9)\r\n",
      "Requirement already satisfied: idna<4,>=2.5 in /Users/folkertleistra/PycharmProjects/ltp/venv/lib/python3.8/site-packages (from requests->transformers) (3.3)\r\n"
     ]
    }
   ]
  },
  {
   "cell_type": "code",
   "metadata": {
    "id": "ymo-hGggzZt2",
    "colab": {
     "base_uri": "https://localhost:8080/"
    },
    "outputId": "5f0e7885-ec0e-4e08-b7e9-74f0bdbd8528",
    "pycharm": {
     "name": "#%%\n"
    }
   },
   "source": [
    "# Use this cellblock if you are using Google Drive for the data storage\n",
    "# from google.colab import drive\n",
    "# drive.mount('/content/drive')"
   ],
   "execution_count": 69,
   "outputs": []
  },
  {
   "cell_type": "code",
   "metadata": {
    "id": "hl7YK0bimuFr",
    "pycharm": {
     "name": "#%%\n"
    }
   },
   "source": [
    "# Importing all needed libraries for the project\n",
    "#!/usr/bin/env python\n",
    "\n",
    "# General Data Analysis\n",
    "import numpy as np\n",
    "import tensorflow as tf\n",
    "import random\n",
    "import random as python_random\n",
    "import pandas as pd\n",
    "import time\n",
    "import datetime\n",
    "import os\n",
    "from collections import defaultdict\n",
    "import json\n",
    "\n",
    "# Transformers\n",
    "from transformers import (BertTokenizer,\n",
    "                          DistilBertTokenizer, \n",
    "                          RobertaTokenizer, \n",
    "                          BertForSequenceClassification, \n",
    "                          AdamW, \n",
    "                          DistilBertForSequenceClassification,\n",
    "                          get_linear_schedule_with_warmup)\n",
    "\n",
    "\n",
    "# SKLearn\n",
    "from sklearn.metrics import accuracy_score, classification_report\n",
    "from sklearn.model_selection import train_test_split\n",
    "from sklearn.preprocessing import LabelBinarizer\n",
    "\n",
    "# Torch\n",
    "import torch\n",
    "from torch.utils.data import DataLoader, RandomSampler, SequentialSampler, TensorDataset\n",
    "\n",
    "# Data visualisation\n",
    "import matplotlib.pyplot as plt\n",
    "import seaborn as sns\n",
    "\n"
   ],
   "execution_count": 70,
   "outputs": []
  },
  {
   "cell_type": "markdown",
   "source": [
    "## Settings & Seeds \n",
    "\n",
    "The cellblock below can be used to change the overall settings and model for the notebook.\n",
    "\n",
    "Furthermore, this cellblock can be used to change the seed over multiple runs. When the last seed is selected from the seeds list, the averages will be calculated and stored into a seperate file.\n",
    "\n",
    "At this current time, the notebook is set to the final seed and the results will be stored and meaned."
   ],
   "metadata": {
    "id": "iQqmjCdTa8l1",
    "pycharm": {
     "name": "#%% md\n"
    }
   }
  },
  {
   "cell_type": "code",
   "source": [
    "# This codeblock contains the general settings.\n",
    "\n",
    "# List of models that we experimented with\n",
    "models = ['distilbert-base-uncased', 'roberta-large', 'bert-base-uncased', 'roberta-base',\n",
    "          'distilbert-base-uncased-finetuned-sst-2-english']\n",
    "\n",
    "# Model that is used in this notebook\n",
    "model_to_use = models[0] #!!! Use this variable to change the model that is used !!!#\n",
    "epochs = 5\n",
    "batch_size = 8\n",
    "lr = 5e-6\n",
    "tok_length = 200\n",
    "\n",
    "# Set seeds for reproducibility\n",
    "seeds = [42, 1234, 32, 15, 128]\n",
    "\n",
    "#!!! Use this variable to change the seed over 5 runs !!!#\n",
    "seed_to_use = seeds[4]\n",
    "\n",
    "#!!! Use the code below to indicate when to mean all of the scores over the seeds !!!#\n",
    "do_mean = False\n",
    "if seed_to_use == seeds[-1]:\n",
    "  print(f'Seed was set to {seed_to_use}, therefore we will mean all the scores')\n",
    "  do_mean = True\n",
    "\n",
    "np.random.seed(seed_to_use)\n",
    "tf.random.set_seed(seed_to_use)\n",
    "python_random.seed(seed_to_use)\n",
    "\n",
    "# Path to output classification report\n",
    "scores_path = '../data/subtask-1/classification_reports.json'\n"
   ],
   "metadata": {
    "colab": {
     "base_uri": "https://localhost:8080/"
    },
    "id": "ERxROXpx13M1",
    "outputId": "83469083-46fb-4bfb-a3af-43e7845e1793",
    "pycharm": {
     "name": "#%%\n"
    }
   },
   "execution_count": 101,
   "outputs": [
    {
     "name": "stdout",
     "output_type": "stream",
     "text": [
      "Seed was set to 128, therefore we will mean all the scores\n"
     ]
    }
   ]
  },
  {
   "cell_type": "code",
   "source": [
    "\n",
    "# If there's a GPU available...\n",
    "if torch.cuda.is_available():    \n",
    "\n",
    "    # Tell PyTorch to use the GPU.    \n",
    "    device = torch.device(\"cuda\")\n",
    "\n",
    "    print('There are %d GPU(s) available.' % torch.cuda.device_count())\n",
    "\n",
    "    print('We will use the GPU:', torch.cuda.get_device_name(0))\n",
    "\n",
    "# If not...\n",
    "else:\n",
    "    print('No GPU available, using the CPU instead.')\n",
    "    device = torch.device(\"cpu\")"
   ],
   "metadata": {
    "colab": {
     "base_uri": "https://localhost:8080/"
    },
    "id": "wqMZsDZMb0jr",
    "outputId": "4479b8b2-aa53-4cb5-c63a-94077a195114",
    "pycharm": {
     "name": "#%%\n"
    }
   },
   "execution_count": 72,
   "outputs": [
    {
     "name": "stdout",
     "output_type": "stream",
     "text": [
      "No GPU available, using the CPU instead.\n"
     ]
    }
   ]
  },
  {
   "cell_type": "code",
   "metadata": {
    "id": "uu_y6-LnzSVW",
    "colab": {
     "base_uri": "https://localhost:8080/",
     "height": 206
    },
    "outputId": "4520e00c-0145-4711-82b4-45770cffd1bc",
    "pycharm": {
     "name": "#%%\n"
    }
   },
   "source": [
    "data_path = '../data/subtask-1/'\n",
    "\n",
    "\n",
    "# Loading in our train and test splits, types are formatted to numerical values\n",
    "df_train = pd.read_csv(f'{data_path}df_st1_train.csv', index_col=0)\n",
    "df_train['label'] = np.where(df_train['type'] == 'premise', 1, 0)\n",
    "\n",
    "df_test = pd.read_csv(f'{data_path}df_st1_test.csv', index_col=0)\n",
    "df_test['label'] = np.where(df_test['type'] == 'premise', 1, 0)\n",
    "\n",
    "\n",
    "df_train.head()"
   ],
   "execution_count": 73,
   "outputs": [
    {
     "data": {
      "text/plain": "   document             file_path     split  \\\n0        88  v2.0/positive/88.xml  positive   \n1        88  v2.0/positive/88.xml  positive   \n2        88  v2.0/positive/88.xml  positive   \n3        88  v2.0/positive/88.xml  positive   \n4        88  v2.0/positive/88.xml  positive   \n\n                                                text     type  label  \n0  [47% of all jobs are at risk of being automate...  premise      1  \n1  This number will grow grow until the vast majo...  premise      1  \n2  Since some of this automation will inevitably ...  premise      1  \n3  By fortifying themselves in their gated commun...  premise      1  \n4  Once everyone is dead, they can simply be wipe...  premise      1  ",
      "text/html": "<div>\n<style scoped>\n    .dataframe tbody tr th:only-of-type {\n        vertical-align: middle;\n    }\n\n    .dataframe tbody tr th {\n        vertical-align: top;\n    }\n\n    .dataframe thead th {\n        text-align: right;\n    }\n</style>\n<table border=\"1\" class=\"dataframe\">\n  <thead>\n    <tr style=\"text-align: right;\">\n      <th></th>\n      <th>document</th>\n      <th>file_path</th>\n      <th>split</th>\n      <th>text</th>\n      <th>type</th>\n      <th>label</th>\n    </tr>\n  </thead>\n  <tbody>\n    <tr>\n      <th>0</th>\n      <td>88</td>\n      <td>v2.0/positive/88.xml</td>\n      <td>positive</td>\n      <td>[47% of all jobs are at risk of being automate...</td>\n      <td>premise</td>\n      <td>1</td>\n    </tr>\n    <tr>\n      <th>1</th>\n      <td>88</td>\n      <td>v2.0/positive/88.xml</td>\n      <td>positive</td>\n      <td>This number will grow grow until the vast majo...</td>\n      <td>premise</td>\n      <td>1</td>\n    </tr>\n    <tr>\n      <th>2</th>\n      <td>88</td>\n      <td>v2.0/positive/88.xml</td>\n      <td>positive</td>\n      <td>Since some of this automation will inevitably ...</td>\n      <td>premise</td>\n      <td>1</td>\n    </tr>\n    <tr>\n      <th>3</th>\n      <td>88</td>\n      <td>v2.0/positive/88.xml</td>\n      <td>positive</td>\n      <td>By fortifying themselves in their gated commun...</td>\n      <td>premise</td>\n      <td>1</td>\n    </tr>\n    <tr>\n      <th>4</th>\n      <td>88</td>\n      <td>v2.0/positive/88.xml</td>\n      <td>positive</td>\n      <td>Once everyone is dead, they can simply be wipe...</td>\n      <td>premise</td>\n      <td>1</td>\n    </tr>\n  </tbody>\n</table>\n</div>"
     },
     "execution_count": 73,
     "metadata": {},
     "output_type": "execute_result"
    }
   ]
  },
  {
   "cell_type": "code",
   "metadata": {
    "pycharm": {
     "name": "#%%\n"
    },
    "id": "-hMWuuqazSVX"
   },
   "source": [
    "# Generating a development set from our training data\n",
    "X_train, X_dev, Y_train, Y_dev = train_test_split(df_train['text'].to_list(), \n",
    "                                                  df_train['label'].to_list(), \n",
    "                                                  test_size=0.2, \n",
    "                                                  random_state=seed_to_use)\n",
    "X_test = df_test['text'].to_list()\n",
    "Y_test = df_test['label'].to_list()"
   ],
   "execution_count": 74,
   "outputs": []
  },
  {
   "cell_type": "code",
   "metadata": {
    "pycharm": {
     "name": "#%%\n"
    },
    "id": "y6NZYlUUzSVY",
    "colab": {
     "base_uri": "https://localhost:8080/"
    },
    "outputId": "d9f6c90e-fe05-45b5-dad5-a188454940a9"
   },
   "source": [
    "#Transform string labels to one-hot encodings\n",
    "encoder = LabelBinarizer()\n",
    "Y_train_bin = encoder.fit_transform(Y_train)\n",
    "Y_dev_bin = encoder.fit_transform(Y_dev)\n",
    "print(Y_train_bin, type(Y_train_bin))\n",
    "\n",
    "Y_train = np.asarray([[i] for i in Y_train])\n",
    "Y_dev = np.asarray([[i] for i in Y_dev])"
   ],
   "execution_count": 75,
   "outputs": [
    {
     "name": "stdout",
     "output_type": "stream",
     "text": [
      "[[1]\n",
      " [0]\n",
      " [0]\n",
      " ...\n",
      " [1]\n",
      " [0]\n",
      " [1]] <class 'numpy.ndarray'>\n"
     ]
    }
   ]
  },
  {
   "cell_type": "markdown",
   "source": [
    "## Tokenization\n",
    "\n",
    "The code blocks below are used for the tokenization of our training and development data."
   ],
   "metadata": {
    "id": "Lu77nwNa_gPL",
    "pycharm": {
     "name": "#%% md\n"
    }
   }
  },
  {
   "cell_type": "code",
   "source": [
    "# Tokenization loading for the model to use\n",
    "distil = False\n",
    "if model_to_use == 'roberta-large' or model_to_use == 'roberta-base':\n",
    "  print('Loading RoBERTa tokenizer...')\n",
    "  tokenizer = RobertaTokenizer.from_pretrained(model_to_use)\n",
    "\n",
    "elif 'distilbert' in model_to_use:\n",
    "  print('Loading DistilBERT tokenizer...')\n",
    "  distil = True\n",
    "  tokenizer = DistilBertTokenizer.from_pretrained(model_to_use)\n",
    "else:\n",
    "  # Load the BERT tokenizer.\n",
    "  print('Loading BERT tokenizer...')\n",
    "  tokenizer = BertTokenizer.from_pretrained(model_to_use)\n"
   ],
   "metadata": {
    "id": "PP0YNckr9fzT",
    "pycharm": {
     "name": "#%%\n"
    }
   },
   "execution_count": 76,
   "outputs": [
    {
     "name": "stdout",
     "output_type": "stream",
     "text": [
      "Loading DistilBERT tokenizer...\n"
     ]
    }
   ]
  },
  {
   "cell_type": "code",
   "source": [
    "# Tokenize all of the sentences and map the tokens to thier word IDs.\n",
    "input_ids = []\n",
    "attention_masks = []\n",
    "\n",
    "# For every sentence\n",
    "for sent in X_train:\n",
    "    # `encode_plus` will:\n",
    "    #   (1) Tokenize the sentence.\n",
    "    #   (2) Prepend the `[CLS]` token to the start.\n",
    "    #   (3) Append the `[SEP]` token to the end.\n",
    "    #   (4) Map tokens to their IDs.\n",
    "    #   (5) Pad or truncate the sentence to `max_length`\n",
    "    #   (6) Create attention masks for [PAD] tokens.\n",
    "    encoded_dict = tokenizer.encode_plus(\n",
    "                        sent,\n",
    "                        add_special_tokens = True, # Add '[CLS]' and '[SEP]'\n",
    "                        max_length = tok_length,          # Pad & truncate all sentences.\n",
    "                        padding='max_length',\n",
    "                        return_attention_mask = True,   # Construct attn. masks.\n",
    "                        return_tensors = 'pt',     # Return pytorch tensors.\n",
    "                   )\n",
    "    \n",
    "    # Add the encoded sentence to the list.    \n",
    "    input_ids.append(encoded_dict['input_ids'])\n",
    "    \n",
    "    # And its attention mask (simply differentiates padding from non-padding).\n",
    "    attention_masks.append(encoded_dict['attention_mask'])\n",
    "\n",
    "# Convert the lists into tensors.\n",
    "train_input_ids = torch.cat(input_ids, dim=0)\n",
    "train_attention_masks = torch.cat(attention_masks, dim=0)\n",
    "train_labels = torch.tensor(Y_train)"
   ],
   "metadata": {
    "id": "mvMwDy6J9NDQ",
    "pycharm": {
     "name": "#%%\n"
    }
   },
   "execution_count": 77,
   "outputs": []
  },
  {
   "cell_type": "code",
   "metadata": {
    "id": "O_hig6u6nNmf",
    "pycharm": {
     "name": "#%%\n"
    }
   },
   "source": [
    "# Tokenize all of the sentences and map the tokens to thier word IDs.\n",
    "input_ids = []\n",
    "attention_masks = []\n",
    "\n",
    "for sent in X_dev:\n",
    "    encoded_dict = tokenizer.encode_plus(\n",
    "                        sent,\n",
    "                        add_special_tokens = True, # Add '[CLS]' and '[SEP]'\n",
    "                        max_length = tok_length,    # Pad & truncate all sentences.\n",
    "                        padding='max_length',\n",
    "                        return_attention_mask = True,   # Construct attn. masks.\n",
    "                        return_tensors = 'pt',     # Return pytorch tensors.\n",
    "                   )\n",
    "    \n",
    "    # Add the encoded sentence to the list.    \n",
    "    input_ids.append(encoded_dict['input_ids'])\n",
    "    \n",
    "    # And its attention mask (simply differentiates padding from non-padding).\n",
    "    attention_masks.append(encoded_dict['attention_mask'])\n",
    "\n",
    "# Convert the lists into tensors.\n",
    "dev_input_ids = torch.cat(input_ids, dim=0)\n",
    "dev_attention_masks = torch.cat(attention_masks, dim=0)\n",
    "dev_labels = torch.tensor(Y_dev)"
   ],
   "execution_count": 78,
   "outputs": []
  },
  {
   "cell_type": "code",
   "metadata": {
    "id": "eiXaRJkuoBSo",
    "pycharm": {
     "name": "#%%\n"
    }
   },
   "source": [
    "# Combine the training inputs into a TensorDataset.\n",
    "train_dataset = TensorDataset(train_input_ids, train_attention_masks, train_labels)\n",
    "dev_dataset = TensorDataset(dev_input_ids, dev_attention_masks, dev_labels)\n",
    "\n",
    "# Create the DataLoaders for our training and validation sets.\n",
    "# We'll take training samples in random order.\n",
    "train_dataloader = DataLoader(\n",
    "        train_dataset,  # The training samples.\n",
    "        sampler = SequentialSampler(train_dataset),  # Training data is already randomized\n",
    "        batch_size = batch_size  # Train with this batch size.\n",
    "    )\n",
    "\n",
    "# For validation the order doesn't matter, so we'll just read them sequentially.\n",
    "dev_dataloader = DataLoader(\n",
    "            dev_dataset, # The validation samples.\n",
    "            sampler = SequentialSampler(dev_dataset), # Pull out batches sequentially.\n",
    "            batch_size = batch_size # Evaluate with this batch size.\n",
    "        )\n"
   ],
   "execution_count": 79,
   "outputs": []
  },
  {
   "cell_type": "markdown",
   "source": [
    "## Model Creation and Setup"
   ],
   "metadata": {
    "id": "CVVshxW_AalW",
    "pycharm": {
     "name": "#%% md\n"
    }
   }
  },
  {
   "cell_type": "code",
   "metadata": {
    "id": "AsqhrYBSj4CL",
    "colab": {
     "base_uri": "https://localhost:8080/"
    },
    "outputId": "a1901978-1be7-4739-aa15-9fa64ca6ca85",
    "pycharm": {
     "name": "#%%\n"
    }
   },
   "source": [
    "# Load BertForSequenceClassification, the pretrained BERT model with a single \n",
    "# linear classification layer on top. \n",
    "if distil:\n",
    "  model = DistilBertForSequenceClassification.from_pretrained(\n",
    "      model_to_use,  # Use the 12-layer BERT model, with an uncased vocab.\n",
    "      num_labels = 2,                  # The number of output labels--2 for binary classification.\n",
    "      output_attentions = False,       # Whether the model returns attentions weights.\n",
    "      output_hidden_states = False,    # Whether the model returns all hidden-states.\n",
    "  )\n",
    "else:\n",
    "  print('Using bert for seq clas')\n",
    "  model = BertForSequenceClassification.from_pretrained(\n",
    "    model_to_use,  # Use the 12-layer BERT model, with an uncased vocab.\n",
    "    num_labels = 2,                  # The number of output labels--2 for binary classification.\n",
    "    output_attentions = False,       # Whether the model returns attentions weights.\n",
    "    output_hidden_states = False,    # Whether the model returns all hidden-states.\n",
    ")\n",
    "\n",
    "# Tell pytorch to run this model on the GPU.\n",
    "try:\n",
    "    # probably only works on google Colab\n",
    "    model.cuda()\n",
    "except AssertionError:\n",
    "    pass\n",
    "\n",
    "# Resizes input token embeddings matrix to account for the new special tokens\n",
    "model.resize_token_embeddings(len(tokenizer))"
   ],
   "execution_count": 80,
   "outputs": [
    {
     "name": "stderr",
     "output_type": "stream",
     "text": [
      "Some weights of the model checkpoint at distilbert-base-uncased were not used when initializing DistilBertForSequenceClassification: ['vocab_transform.weight', 'vocab_projector.weight', 'vocab_transform.bias', 'vocab_layer_norm.weight', 'vocab_projector.bias', 'vocab_layer_norm.bias']\n",
      "- This IS expected if you are initializing DistilBertForSequenceClassification from the checkpoint of a model trained on another task or with another architecture (e.g. initializing a BertForSequenceClassification model from a BertForPreTraining model).\n",
      "- This IS NOT expected if you are initializing DistilBertForSequenceClassification from the checkpoint of a model that you expect to be exactly identical (initializing a BertForSequenceClassification model from a BertForSequenceClassification model).\n",
      "Some weights of DistilBertForSequenceClassification were not initialized from the model checkpoint at distilbert-base-uncased and are newly initialized: ['pre_classifier.weight', 'classifier.weight', 'classifier.bias', 'pre_classifier.bias']\n",
      "You should probably TRAIN this model on a down-stream task to be able to use it for predictions and inference.\n"
     ]
    },
    {
     "data": {
      "text/plain": "Embedding(30522, 768, padding_idx=0)"
     },
     "execution_count": 80,
     "metadata": {},
     "output_type": "execute_result"
    }
   ]
  },
  {
   "cell_type": "code",
   "metadata": {
    "pycharm": {
     "name": "#%%\n"
    },
    "id": "ZaUj2veQzSVb",
    "colab": {
     "base_uri": "https://localhost:8080/"
    },
    "outputId": "f6087414-0ee8-40ee-a365-d46516738fcc"
   },
   "source": [
    "# Get all of the model's parameters as a list of tuples.\n",
    "params = list(model.named_parameters())\n",
    "\n",
    "print('The BERT model has {:} different named parameters.\\n'.format(len(params)))\n",
    "\n",
    "print('==== Embedding Layer ====\\n')\n",
    "\n",
    "for p in params[0:5]:\n",
    "    print(\"{:<55} {:>12}\".format(p[0], str(tuple(p[1].size()))))\n",
    "\n",
    "print('\\n==== First Transformer ====\\n')\n",
    "\n",
    "for p in params[5:21]:\n",
    "    print(\"{:<55} {:>12}\".format(p[0], str(tuple(p[1].size()))))\n",
    "\n",
    "print('\\n==== Output Layer ====\\n')\n",
    "\n",
    "for p in params[-4:]:\n",
    "    print(\"{:<55} {:>12}\".format(p[0], str(tuple(p[1].size()))))"
   ],
   "execution_count": 81,
   "outputs": [
    {
     "name": "stdout",
     "output_type": "stream",
     "text": [
      "The BERT model has 104 different named parameters.\n",
      "\n",
      "==== Embedding Layer ====\n",
      "\n",
      "distilbert.embeddings.word_embeddings.weight            (30522, 768)\n",
      "distilbert.embeddings.position_embeddings.weight          (512, 768)\n",
      "distilbert.embeddings.LayerNorm.weight                        (768,)\n",
      "distilbert.embeddings.LayerNorm.bias                          (768,)\n",
      "distilbert.transformer.layer.0.attention.q_lin.weight     (768, 768)\n",
      "\n",
      "==== First Transformer ====\n",
      "\n",
      "distilbert.transformer.layer.0.attention.q_lin.bias           (768,)\n",
      "distilbert.transformer.layer.0.attention.k_lin.weight     (768, 768)\n",
      "distilbert.transformer.layer.0.attention.k_lin.bias           (768,)\n",
      "distilbert.transformer.layer.0.attention.v_lin.weight     (768, 768)\n",
      "distilbert.transformer.layer.0.attention.v_lin.bias           (768,)\n",
      "distilbert.transformer.layer.0.attention.out_lin.weight   (768, 768)\n",
      "distilbert.transformer.layer.0.attention.out_lin.bias         (768,)\n",
      "distilbert.transformer.layer.0.sa_layer_norm.weight           (768,)\n",
      "distilbert.transformer.layer.0.sa_layer_norm.bias             (768,)\n",
      "distilbert.transformer.layer.0.ffn.lin1.weight           (3072, 768)\n",
      "distilbert.transformer.layer.0.ffn.lin1.bias                 (3072,)\n",
      "distilbert.transformer.layer.0.ffn.lin2.weight           (768, 3072)\n",
      "distilbert.transformer.layer.0.ffn.lin2.bias                  (768,)\n",
      "distilbert.transformer.layer.0.output_layer_norm.weight       (768,)\n",
      "distilbert.transformer.layer.0.output_layer_norm.bias         (768,)\n",
      "distilbert.transformer.layer.1.attention.q_lin.weight     (768, 768)\n",
      "\n",
      "==== Output Layer ====\n",
      "\n",
      "pre_classifier.weight                                     (768, 768)\n",
      "pre_classifier.bias                                           (768,)\n",
      "classifier.weight                                           (2, 768)\n",
      "classifier.bias                                                 (2,)\n"
     ]
    }
   ]
  },
  {
   "cell_type": "code",
   "metadata": {
    "id": "ExmKPvL9rs3S",
    "colab": {
     "base_uri": "https://localhost:8080/"
    },
    "outputId": "a33685f8-fabe-4df0-914c-22d65a6cffbf",
    "pycharm": {
     "name": "#%%\n"
    }
   },
   "source": [
    "# Note: AdamW is a class from the huggingface library (as opposed to pytorch) \n",
    "# I believe the 'W' stands for 'Weight Decay fix\"\n",
    "optimizer = AdamW(model.parameters(),\n",
    "                  lr = lr, # args.learning_rate - default is 5e-5, our notebook had 2e-5\n",
    "                  eps = 1e-8 # args.adam_epsilon  - default is 1e-8.\n",
    "                )\n"
   ],
   "execution_count": 82,
   "outputs": [
    {
     "name": "stderr",
     "output_type": "stream",
     "text": [
      "/Users/folkertleistra/PycharmProjects/ltp/venv/lib/python3.8/site-packages/transformers/optimization.py:306: FutureWarning: This implementation of AdamW is deprecated and will be removed in a future version. Use the PyTorch implementation torch.optim.AdamW instead, or set `no_deprecation_warning=True` to disable this warning\n",
      "  warnings.warn(\n"
     ]
    }
   ]
  },
  {
   "cell_type": "code",
   "metadata": {
    "id": "4oe-uxT9qKLN",
    "pycharm": {
     "name": "#%%\n"
    }
   },
   "source": [
    "# Total number of training steps is [number of batches] x [number of epochs]. \n",
    "# (Note that this is not the same as the number of training samples).\n",
    "total_steps = len(train_dataloader) * epochs\n",
    "\n",
    "# Create the learning rate scheduler.\n",
    "scheduler = get_linear_schedule_with_warmup(optimizer, \n",
    "                                            # default 0\n",
    "                                            num_warmup_steps = 0, # Default value in run_glue.py\n",
    "                                            num_training_steps = total_steps)"
   ],
   "execution_count": 83,
   "outputs": []
  },
  {
   "cell_type": "markdown",
   "source": [
    "# Train"
   ],
   "metadata": {
    "id": "pAh93xCQCMGp",
    "pycharm": {
     "name": "#%% md\n"
    }
   }
  },
  {
   "cell_type": "code",
   "source": [
    "# Function to calculate the accuracy of our predictions vs labels\n",
    "def flat_accuracy(preds, labels):\n",
    "    pred_flat = np.argmax(preds, axis=1).flatten()\n",
    "    labels_flat = labels.flatten()\n",
    "    return np.sum(pred_flat == labels_flat) / len(labels_flat)"
   ],
   "metadata": {
    "id": "T2Qa1wnpCQhW",
    "pycharm": {
     "name": "#%%\n"
    }
   },
   "execution_count": 84,
   "outputs": []
  },
  {
   "cell_type": "code",
   "source": [
    "def format_time(elapsed):\n",
    "    '''\n",
    "    Takes a time in seconds and returns a string hh:mm:ss\n",
    "    '''\n",
    "    # Round to the nearest second.\n",
    "    elapsed_rounded = int(round((elapsed)))\n",
    "    \n",
    "    # Format as hh:mm:ss\n",
    "    return str(datetime.timedelta(seconds=elapsed_rounded))"
   ],
   "metadata": {
    "id": "xkHzNcVpCURc",
    "pycharm": {
     "name": "#%%\n"
    }
   },
   "execution_count": 85,
   "outputs": []
  },
  {
   "cell_type": "code",
   "source": [
    "predictions, true_labels = defaultdict(list), defaultdict(list)\n",
    "val_losses = {}\n",
    "\n",
    "# Set the seed value all over the place to make this reproducible.\n",
    "seed_val = seed_to_use\n",
    "\n",
    "random.seed(seed_val)\n",
    "np.random.seed(seed_val)\n",
    "torch.manual_seed(seed_val)\n",
    "torch.cuda.manual_seed_all(seed_val)\n",
    "\n",
    "# We'll store a number of quantities such as training and validation loss, \n",
    "# validation accuracy, and timings.\n",
    "training_stats = []\n",
    "    \n",
    "# Measure the total training time for the whole run.\n",
    "total_t0 = time.time()\n",
    "\n",
    "# For each epoch...\n",
    "for epoch_i in range(0, epochs):\n",
    "\n",
    "    # ========================================\n",
    "    #               Training\n",
    "    # ========================================\n",
    "    \n",
    "    # Perform one full pass over the training set.\n",
    "\n",
    "    print(\"\")\n",
    "    print('======== Epoch {:} / {:} ========'.format(epoch_i + 1, epochs))\n",
    "    print('Training...')\n",
    "\n",
    "    # Measure how long the training epoch takes.\n",
    "    t0 = time.time()\n",
    "\n",
    "    # Reset the total loss for this epoch.\n",
    "    total_train_loss = 0\n",
    "\n",
    "    # Put the model into training mode. Don't be mislead--the call to \n",
    "    # `train` just changes the *mode*, it doesn't *perform* the training.\n",
    "    # `dropout` and `batchnorm` layers behave differently during training\n",
    "    # vs. test (source: https://stackoverflow.com/questions/51433378/what-does-model-train-do-in-pytorch)\n",
    "    model.train()\n",
    "\n",
    "    # For each batch of training data...\n",
    "    for step, batch in enumerate(train_dataloader):\n",
    "\n",
    "        # Progress update every 40 batches.\n",
    "        if step % 40 == 0 and not step == 0:\n",
    "            # Calculate elapsed time in minutes.\n",
    "            elapsed = format_time(time.time() - t0)\n",
    "            \n",
    "            # Report progress.\n",
    "            print('  Batch {:>5,}  of  {:>5,}.    Elapsed: {:}.'.format(step, len(train_dataloader), elapsed))\n",
    "\n",
    "        # Unpack this training batch from our dataloader. \n",
    "        #\n",
    "        # As we unpack the batch, we'll also copy each tensor to the GPU using the \n",
    "        # `to` method.\n",
    "        #\n",
    "        # `batch` contains four pytorch tensors:\n",
    "        #   [0]: input ids \n",
    "        #   [1]: attention masks\n",
    "        #   [2]: labels \n",
    "        #   [3]: tweet ids\n",
    "        b_input_ids = batch[0].to(device)\n",
    "        b_input_mask = batch[1].to(device)\n",
    "        b_labels = batch[2].to(device)\n",
    "\n",
    "        # Always clear any previously calculated gradients before performing a\n",
    "        # backward pass. PyTorch doesn't do this automatically because \n",
    "        # accumulating the gradients is \"convenient while training RNNs\". \n",
    "        # (source: https://stackoverflow.com/questions/48001598/why-do-we-need-to-call-zero-grad-in-pytorch)\n",
    "        model.zero_grad()        \n",
    "\n",
    "        # Perform a forward pass (evaluate the model on this training batch).\n",
    "        # In PyTorch, calling `model` will in turn call the model's `forward` \n",
    "        # function and pass down the arguments. The `forward` function is \n",
    "        # documented here: \n",
    "        # https://huggingface.co/transformers/model_doc/bert.html#bertforsequenceclassification\n",
    "        # The results are returned in a results object, documented here:\n",
    "        # https://huggingface.co/transformers/main_classes/output.html#transformers.modeling_outputs.SequenceClassifierOutput\n",
    "        # Specifically, we'll get the loss (because we provided labels) and the\n",
    "        # \"logits\"--the model outputs prior to activation.\n",
    "        result = model(b_input_ids, \n",
    "                       #token_type_ids=None,\n",
    "                       attention_mask=b_input_mask, \n",
    "                       labels=b_labels,\n",
    "                       return_dict=True)\n",
    "\n",
    "        loss = result.loss\n",
    "        logits = result.logits\n",
    "        \n",
    "        # 'logits' is a 2D tensor with lists of logit lists\n",
    "        # 'b_labels' is a 1D tensor of the true label\n",
    "        # 'b_ids' is a 1D tensor of the tweet IDs\n",
    "\n",
    "        # Accumulate the training loss over all of the batches so that we can\n",
    "        # calculate the average loss at the end. `loss` is a Tensor containing a\n",
    "        # single value; the `.item()` function just returns the Python value \n",
    "        # from the tensor.\n",
    "        total_train_loss += loss.item()\n",
    "\n",
    "        # Perform a backward pass to calculate the gradients.\n",
    "        loss.backward()\n",
    "\n",
    "        # Clip the norm of the gradients to 1.0.\n",
    "        # This is to help prevent the \"exploding gradients\" problem.\n",
    "        torch.nn.utils.clip_grad_norm_(model.parameters(), 1.0)\n",
    "\n",
    "        # Update parameters and take a step using the computed gradient.\n",
    "        # The optimizer dictates the \"update rule\"--how the parameters are\n",
    "        # modified based on their gradients, the learning rate, etc.\n",
    "        optimizer.step()\n",
    "\n",
    "        # Update the learning rate.\n",
    "        scheduler.step()\n",
    "\n",
    "    # Calculate the average loss over all of the batches.\n",
    "    avg_train_loss = total_train_loss / len(train_dataloader)            \n",
    "    \n",
    "    # Measure how long this epoch took.\n",
    "    training_time = format_time(time.time() - t0)\n",
    "\n",
    "    print(\"\")\n",
    "    print(\"  Average training loss: {0:.3f}\".format(avg_train_loss))\n",
    "    print(\"  Training epoch took: {:}\".format(training_time))\n",
    "\n",
    "    # ========================================\n",
    "    #               Validation\n",
    "    # ========================================\n",
    "    # After the completion of each training epoch, measure our performance on\n",
    "    # our validation set.\n",
    "\n",
    "    print(\"\")\n",
    "    print(\"Running Validation...\")\n",
    "\n",
    "    t0 = time.time()\n",
    "\n",
    "    # Put the model in evaluation mode--the dropout layers behave differently\n",
    "    # during evaluation.\n",
    "    model.eval()\n",
    "\n",
    "    # Tracking variables \n",
    "    total_eval_accuracy = 0\n",
    "    total_eval_loss = 0\n",
    "    nb_eval_steps = 0\n",
    "\n",
    "    # Evaluate data for one epoch\n",
    "    for batch in dev_dataloader:\n",
    "        \n",
    "        # Unpack this training batch from our dataloader. \n",
    "        #\n",
    "        # As we unpack the batch, we'll also copy each tensor to the GPU using \n",
    "        # the `to` method.\n",
    "        #\n",
    "        # `batch` contains three pytorch tensors:\n",
    "        #   [0]: input ids \n",
    "        #   [1]: attention masks\n",
    "        #   [2]: labels \n",
    "        #   [3]: tweet ids\n",
    "        b_input_ids = batch[0].to(device)\n",
    "        b_input_mask = batch[1].to(device)\n",
    "        b_labels = batch[2].to(device)\n",
    "        \n",
    "        # Tell pytorch not to bother with constructing the compute graph during\n",
    "        # the forward pass, since this is only needed for backprop (training).\n",
    "        with torch.no_grad():        \n",
    "\n",
    "            # Forward pass, calculate logit predictions.\n",
    "            # token_type_ids is the same as the \"segment ids\", which \n",
    "            # differentiates sentence 1 and 2 in 2-sentence tasks.\n",
    "            result = model(b_input_ids, \n",
    "                           #token_type_ids=None,\n",
    "                           attention_mask=b_input_mask,\n",
    "                           labels=b_labels,\n",
    "                           return_dict=True)\n",
    "\n",
    "        # Get the loss and \"logits\" output by the model. The \"logits\" are the \n",
    "        # output values prior to applying an activation function like the \n",
    "        # softmax.\n",
    "        loss = result.loss\n",
    "        logits = result.logits\n",
    "            \n",
    "        # Accumulate the validation loss.\n",
    "        total_eval_loss += loss.item()\n",
    "\n",
    "        # Move logits and labels to CPU\n",
    "        logits = logits.detach().cpu().numpy()\n",
    "        label_ids = b_labels.to('cpu').numpy()\n",
    "        \n",
    "        true_labels[epoch_i].append(label_ids)\n",
    "        predictions[epoch_i].append(logits)\n",
    "\n",
    "        # Calculate the accuracy for this batch of test sentences, and\n",
    "        # accumulate it over all batches.\n",
    "        total_eval_accuracy += flat_accuracy(logits, label_ids)\n",
    "\n",
    "    # Report the final accuracy for this validation run.\n",
    "    avg_val_accuracy = total_eval_accuracy / len(dev_dataloader)\n",
    "    print(\"  Accuracy: {0:.3f}\".format(avg_val_accuracy))\n",
    "\n",
    "    # Calculate the average loss over all of the batches.\n",
    "    avg_val_loss = total_eval_loss / len(dev_dataloader)\n",
    "    val_losses[epoch_i] = avg_val_loss\n",
    "\n",
    "    # If the avg_val_loss is lower than the previous recorded, save to dict\n",
    "    \n",
    "    # Measure how long the validation run took.\n",
    "    validation_time = format_time(time.time() - t0)\n",
    "    \n",
    "    print(\"  Validation Loss: {0:.3f}\".format(avg_val_loss))\n",
    "    print(\"  Validation took: {:}\".format(validation_time))\n",
    "\n",
    "    # Record all statistics from this epoch.\n",
    "    training_stats.append(\n",
    "        {\n",
    "            'epoch': epoch_i + 1,\n",
    "            'Training Loss': avg_train_loss,\n",
    "            'Valid. Loss': avg_val_loss,\n",
    "            'Valid. Accur.': avg_val_accuracy,\n",
    "            'Training Time': training_time,\n",
    "            'Validation Time': validation_time\n",
    "        }\n",
    "    )\n",
    "\n",
    "print(\"\")\n",
    "print(\"Training complete!\")\n",
    "\n",
    "print(\"Total training took {:} (h:mm:ss)\".format(format_time(time.time()-total_t0)))\n"
   ],
   "metadata": {
    "id": "-UKY_SI3CZAh",
    "colab": {
     "base_uri": "https://localhost:8080/"
    },
    "outputId": "3be7f39e-80f3-4f44-fc17-a767f949acdd",
    "pycharm": {
     "name": "#%%\n"
    }
   },
   "execution_count": 86,
   "outputs": [
    {
     "name": "stdout",
     "output_type": "stream",
     "text": [
      "\n",
      "======== Epoch 1 / 1 ========\n",
      "Training...\n",
      "  Batch    40  of    287.    Elapsed: 0:04:42.\n",
      "  Batch    80  of    287.    Elapsed: 0:09:27.\n",
      "  Batch   120  of    287.    Elapsed: 0:14:13.\n",
      "  Batch   160  of    287.    Elapsed: 0:18:56.\n",
      "  Batch   200  of    287.    Elapsed: 0:23:40.\n",
      "  Batch   240  of    287.    Elapsed: 0:28:15.\n",
      "  Batch   280  of    287.    Elapsed: 0:32:48.\n",
      "\n",
      "  Average training loss: 0.670\n",
      "  Training epoch took: 0:33:30\n",
      "\n",
      "Running Validation...\n",
      "  Accuracy: 0.562\n",
      "  Validation Loss: 0.654\n",
      "  Validation took: 0:02:26\n",
      "\n",
      "Training complete!\n",
      "Total training took 0:35:56 (h:mm:ss)\n"
     ]
    }
   ]
  },
  {
   "cell_type": "code",
   "source": [
    "\n",
    "# Display floats with three decimal places. (only works on colab)\n",
    "#pd.set_option('precision', 3)\n",
    "\n",
    "# Create a DataFrame from our training statistics.\n",
    "df_stats = pd.DataFrame(data=training_stats)\n",
    "\n",
    "# Use the 'epoch' as the row index.\n",
    "df_stats = df_stats.set_index('epoch')\n",
    "\n",
    "# A hack to force the column headers to wrap.\n",
    "#df = df.style.set_table_styles([dict(selector=\"th\",props=[('max-width', '70px')])])\n",
    "\n",
    "# Display the table.\n",
    "print(df_stats)\n",
    "\n",
    "best_val_loss  = min(val_losses, key=val_losses. get)\n",
    "print(best_val_loss)"
   ],
   "metadata": {
    "id": "VfU2Ks0CC2wV",
    "colab": {
     "base_uri": "https://localhost:8080/"
    },
    "outputId": "3d5ed649-6b89-4553-f426-7b208ac30ef4",
    "pycharm": {
     "name": "#%%\n"
    }
   },
   "execution_count": 88,
   "outputs": [
    {
     "name": "stdout",
     "output_type": "stream",
     "text": [
      "       Training Loss  Valid. Loss  Valid. Accur. Training Time Validation Time\n",
      "epoch                                                                         \n",
      "1           0.669644     0.653753       0.562153       0:33:30         0:02:26\n",
      "0\n"
     ]
    }
   ]
  },
  {
   "cell_type": "code",
   "source": [
    "# Use plot styling from seaborn.\n",
    "sns.set(style='darkgrid')\n",
    "\n",
    "# Increase the plot size and font size.\n",
    "sns.set(font_scale=1.5)\n",
    "plt.rcParams[\"figure.figsize\"] = (12,6)\n",
    "\n",
    "# Plot the learning curve.\n",
    "plt.plot(df_stats['Training Loss'], 'b-o', label=\"Training\")\n",
    "plt.plot(df_stats['Valid. Loss'], 'g-o', label=\"Validation\")\n",
    "\n",
    "# Label the plot.\n",
    "plt.title(\"Training & Validation Loss\")\n",
    "plt.xlabel(\"Epoch\")\n",
    "plt.ylabel(\"Loss\")\n",
    "plt.legend()\n",
    "plt.xticks(list(range(1, epochs + 1)))\n",
    "\n",
    "#plt.show()\n"
   ],
   "metadata": {
    "id": "Z_oCYJpTEttC",
    "colab": {
     "base_uri": "https://localhost:8080/",
     "height": 534
    },
    "outputId": "76587773-2dd8-4ae6-cc1a-9f7a3cb16d0f",
    "pycharm": {
     "name": "#%%\n"
    }
   },
   "execution_count": 89,
   "outputs": [
    {
     "data": {
      "text/plain": "([<matplotlib.axis.XTick at 0x168ac11f0>], [Text(0, 0, '')])"
     },
     "execution_count": 89,
     "metadata": {},
     "output_type": "execute_result"
    },
    {
     "data": {
      "text/plain": "<Figure size 432x288 with 1 Axes>",
      "image/png": "[encoded data removed]"
     },
     "metadata": {
      "needs_background": "light"
     },
     "output_type": "display_data"
    }
   ]
  },
  {
   "cell_type": "markdown",
   "source": [],
   "metadata": {
    "id": "GVGnMabEK3EJ",
    "pycharm": {
     "name": "#%% md\n"
    }
   }
  },
  {
   "cell_type": "code",
   "source": [
    "# Combine the results across all batches. \n",
    "flat_predictions = np.concatenate(predictions[best_val_loss], axis=0)\n",
    "\n",
    "# For each sample, pick the label (0 or 1) with the higher score.\n",
    "flat_predictions = np.argmax(flat_predictions, axis=1).flatten()\n",
    "\n",
    "# Combine the correct labels for each batch into a single list.\n",
    "flat_true_labels = np.concatenate(true_labels[best_val_loss], axis=0)"
   ],
   "metadata": {
    "id": "Qb-7YtIjE_f9",
    "pycharm": {
     "name": "#%%\n"
    }
   },
   "execution_count": 90,
   "outputs": []
  },
  {
   "cell_type": "code",
   "source": [
    "print(classification_report(flat_true_labels, flat_predictions, digits=4))"
   ],
   "metadata": {
    "id": "x00SFHEOE7q-",
    "colab": {
     "base_uri": "https://localhost:8080/"
    },
    "outputId": "3d0a2881-ddc2-4df6-a841-200eeb928d95",
    "pycharm": {
     "name": "#%%\n"
    }
   },
   "execution_count": 91,
   "outputs": [
    {
     "name": "stdout",
     "output_type": "stream",
     "text": [
      "              precision    recall  f1-score   support\n",
      "\n",
      "           0     0.0000    0.0000    0.0000       251\n",
      "           1     0.5620    1.0000    0.7196       322\n",
      "\n",
      "    accuracy                         0.5620       573\n",
      "   macro avg     0.2810    0.5000    0.3598       573\n",
      "weighted avg     0.3158    0.5620    0.4044       573\n",
      "\n"
     ]
    },
    {
     "name": "stderr",
     "output_type": "stream",
     "text": [
      "/Users/folkertleistra/PycharmProjects/ltp/venv/lib/python3.8/site-packages/sklearn/metrics/_classification.py:1327: UndefinedMetricWarning: Precision and F-score are ill-defined and being set to 0.0 in labels with no predicted samples. Use `zero_division` parameter to control this behavior.\n",
      "  _warn_prf(average, modifier, msg_start, len(result))\n",
      "/Users/folkertleistra/PycharmProjects/ltp/venv/lib/python3.8/site-packages/sklearn/metrics/_classification.py:1327: UndefinedMetricWarning: Precision and F-score are ill-defined and being set to 0.0 in labels with no predicted samples. Use `zero_division` parameter to control this behavior.\n",
      "  _warn_prf(average, modifier, msg_start, len(result))\n",
      "/Users/folkertleistra/PycharmProjects/ltp/venv/lib/python3.8/site-packages/sklearn/metrics/_classification.py:1327: UndefinedMetricWarning: Precision and F-score are ill-defined and being set to 0.0 in labels with no predicted samples. Use `zero_division` parameter to control this behavior.\n",
      "  _warn_prf(average, modifier, msg_start, len(result))\n"
     ]
    }
   ]
  },
  {
   "cell_type": "code",
   "source": [
    "class_dict = classification_report(flat_true_labels, flat_predictions, digits=2, output_dict=True)\n",
    "class_dict"
   ],
   "metadata": {
    "colab": {
     "base_uri": "https://localhost:8080/"
    },
    "id": "6WjYhyQidKQF",
    "outputId": "364489e2-2c6a-4977-ad50-cdd6d18f4772",
    "pycharm": {
     "name": "#%%\n"
    }
   },
   "execution_count": 92,
   "outputs": [
    {
     "name": "stderr",
     "output_type": "stream",
     "text": [
      "/Users/folkertleistra/PycharmProjects/ltp/venv/lib/python3.8/site-packages/sklearn/metrics/_classification.py:1327: UndefinedMetricWarning: Precision and F-score are ill-defined and being set to 0.0 in labels with no predicted samples. Use `zero_division` parameter to control this behavior.\n",
      "  _warn_prf(average, modifier, msg_start, len(result))\n",
      "/Users/folkertleistra/PycharmProjects/ltp/venv/lib/python3.8/site-packages/sklearn/metrics/_classification.py:1327: UndefinedMetricWarning: Precision and F-score are ill-defined and being set to 0.0 in labels with no predicted samples. Use `zero_division` parameter to control this behavior.\n",
      "  _warn_prf(average, modifier, msg_start, len(result))\n",
      "/Users/folkertleistra/PycharmProjects/ltp/venv/lib/python3.8/site-packages/sklearn/metrics/_classification.py:1327: UndefinedMetricWarning: Precision and F-score are ill-defined and being set to 0.0 in labels with no predicted samples. Use `zero_division` parameter to control this behavior.\n",
      "  _warn_prf(average, modifier, msg_start, len(result))\n"
     ]
    },
    {
     "data": {
      "text/plain": "{'0': {'precision': 0.0, 'recall': 0.0, 'f1-score': 0.0, 'support': 251},\n '1': {'precision': 0.5619546247818499,\n  'recall': 1.0,\n  'f1-score': 0.7195530726256983,\n  'support': 322},\n 'accuracy': 0.5619546247818499,\n 'macro avg': {'precision': 0.28097731239092494,\n  'recall': 0.5,\n  'f1-score': 0.35977653631284917,\n  'support': 573},\n 'weighted avg': {'precision': 0.3157930003137097,\n  'recall': 0.5619546247818499,\n  'f1-score': 0.4043561769380015,\n  'support': 573}}"
     },
     "execution_count": 92,
     "metadata": {},
     "output_type": "execute_result"
    }
   ]
  },
  {
   "cell_type": "code",
   "source": [
    "d_keys = class_dict.keys()\n",
    "\n",
    "if os.path.exists(scores_path):\n",
    "  print('Appending to existing scores')\n",
    "  # Loading the data we already stored\n",
    "  with open(scores_path, 'r') as fp:\n",
    "    stored_data = json.load(fp)\n",
    "  \n",
    "  seed_error = False\n",
    "  if seed_to_use in stored_data['seeds']:\n",
    "    print('ERROR: seed was already used please make sure to change the seed_to_use variable.')\n",
    "    seed_error = True\n",
    "\n",
    "  if not seed_error:\n",
    "    print('Processing stored data')\n",
    "    for k in d_keys:\n",
    "      if k != 'accuracy':\n",
    "        stored_data[k]['f1-score'] += [class_dict[k]['f1-score']]\n",
    "        stored_data[k]['precision'] += [class_dict[k]['precision']]\n",
    "        stored_data[k]['recall'] += [class_dict[k]['recall']]\n",
    "        stored_data[k]['support'] += [class_dict[k]['support']]\n",
    "\n",
    "      else:\n",
    "        stored_data[k] += [class_dict[k]]\n",
    "    \n",
    "    stored_data['seeds'] += [seed_to_use]\n",
    "      \n",
    "    # Storing values into a seperate json file\n",
    "    with open(scores_path, \"w\") as fp:\n",
    "      json.dump(stored_data, fp)\n",
    "  \n",
    "\n",
    "else:\n",
    "  print('Storing for the first time')\n",
    "  \n",
    "  # Have to perform some pre-processing\n",
    "  processed_dict = dict()\n",
    "  for k in d_keys:\n",
    "    if k != 'accuracy':\n",
    "      processed_dict[k] = {'f1-score': [class_dict[k]['f1-score']],\n",
    "                           'precision': [class_dict[k]['precision']],\n",
    "                           'recall': [class_dict[k]['recall']],\n",
    "                           'support': [class_dict[k]['support']]} \n",
    "    else:\n",
    "      processed_dict[k] = [class_dict[k]]\n",
    "  \n",
    "  processed_dict['seeds'] = [seed_to_use]\n",
    "  \n",
    "  # Storing values into a seperate json file\n",
    "  with open(scores_path, \"w\") as fp:\n",
    "    json.dump(processed_dict, fp)\n"
   ],
   "metadata": {
    "colab": {
     "base_uri": "https://localhost:8080/"
    },
    "id": "XgPyKgxNdTrO",
    "outputId": "52cc156e-3dbb-4d8a-89a5-7a07d8d76424",
    "pycharm": {
     "name": "#%%\n"
    }
   },
   "execution_count": 107,
   "outputs": [
    {
     "name": "stdout",
     "output_type": "stream",
     "text": [
      "Appending to existing scores\n",
      "ERROR: seed was already used please make sure to change the seed_to_use variable.\n"
     ]
    }
   ]
  },
  {
   "cell_type": "code",
   "source": [
    "# This cell will execute when do_mean is set to True\n",
    "d_keys = class_dict.keys()\n",
    "if do_mean:\n",
    "  print('Performing meaning of the classification reports')\n",
    "  # Loading the data we already stored\n",
    "  with open(scores_path, 'r') as fp:\n",
    "    final_data = json.load(fp)\n",
    "\n",
    "  final_class_dict = dict()\n",
    "  for k in d_keys:\n",
    "    if k != 'accuracy':\n",
    "      final_data[k] = {'f1-score': [np.array(final_data[k]['f1-score']).mean(), np.array(final_data[k]['f1-score']).std()],\n",
    "                       'precision': [np.array(final_data[k]['precision']).mean(), np.array(final_data[k]['precision']).std()],\n",
    "                       'recall': [np.array(final_data[k]['recall']).mean(), np.array(final_data[k]['recall']).std()],\n",
    "                        'support': [np.array(final_data[k]['support']).mean(), np.array(final_data[k]['support']).std()]\n",
    "                       } \n",
    "    else:\n",
    "      final_data[k] = [np.array(final_data[k]).mean(), np.array(final_data[k]).std()]\n",
    "\n",
    "\n",
    "  final_scores_path = '../data/subtask-1/FINAL_classification_report.json'\n",
    "  # Storing values into a seperate json file\n",
    "  with open(f'{final_scores_path}', \"w\") as fp:\n",
    "    json.dump(final_data, fp)"
   ],
   "metadata": {
    "colab": {
     "base_uri": "https://localhost:8080/"
    },
    "id": "nZLMyqYVdimn",
    "outputId": "eb0c1b92-6f62-4d7d-ac17-0e20f2dc6539",
    "pycharm": {
     "name": "#%%\n"
    }
   },
   "execution_count": 113,
   "outputs": [
    {
     "name": "stdout",
     "output_type": "stream",
     "text": [
      "Performing meaning of the classification reports\n"
     ]
    }
   ]
  },
  {
   "cell_type": "code",
   "execution_count": 114,
   "outputs": [
    {
     "data": {
      "text/plain": "{'0': {'f1-score': [0.0, 0.0],\n  'precision': [0.0, 0.0],\n  'recall': [0.0, 0.0],\n  'support': [251.0, 0.0]},\n '1': {'f1-score': [0.7195530726256983, 0.0],\n  'precision': [0.5619546247818499, 0.0],\n  'recall': [1.0, 0.0],\n  'support': [322.0, 0.0]},\n 'accuracy': [0.5619546247818499, 0.0],\n 'macro avg': {'f1-score': [0.35977653631284917, 0.0],\n  'precision': [0.28097731239092494, 0.0],\n  'recall': [0.5, 0.0],\n  'support': [573.0, 0.0]},\n 'weighted avg': {'f1-score': [0.4043561769380015, 0.0],\n  'precision': [0.3157930003137097, 0.0],\n  'recall': [0.5619546247818499, 0.0],\n  'support': [573.0, 0.0]},\n 'seeds': [128]}"
     },
     "execution_count": 114,
     "metadata": {},
     "output_type": "execute_result"
    }
   ],
   "source": [
    "final_data"
   ],
   "metadata": {
    "collapsed": false,
    "pycharm": {
     "name": "#%%\n"
    }
   }
  }
 ]
}