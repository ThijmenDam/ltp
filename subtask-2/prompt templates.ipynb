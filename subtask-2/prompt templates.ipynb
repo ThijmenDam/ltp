{
  "nbformat": 4,
  "nbformat_minor": 0,
  "metadata": {
    "colab": {
      "name": "prompt templates",
      "provenance": [],
      "collapsed_sections": []
    },
    "kernelspec": {
      "name": "python3",
      "display_name": "Python 3"
    },
    "language_info": {
      "name": "python"
    },
    "accelerator": "GPU"
  },
  "cells": [
    {
      "cell_type": "markdown",
      "source": [
        "## Prompt Templates ##\n",
        "This notebook contains all the different prompt template experiments that we conducted. The code is saved here for efficient replacement of the template in\n",
        "the gpt-neo notebook script. (The notebook should not be ran)"
      ],
      "metadata": {
        "id": "xUgqPWYHiCCy"
      }
    },
    {
      "cell_type": "code",
      "source": [
        "#neo_pred_1\n",
        "prompt = (f\"\"\"Is the premise type A. Logos, B. Pathos or C. Ethos ###\n",
        "        Premise: Therefore, there will always be a market for meat and other animal products\n",
        "        Type: A. Logos\n",
        "        ###\n",
        "        Premise: How often do we get to go back and correct our mistakes in real life, anyway?\n",
        "        Type: B. Pathos\n",
        "        ###\n",
        "        Premise: Individuals who are extraordinarily qualified for a position but come from a region/social background without those connections enter a networking-friendly employment opportunity at a disadvantage.\n",
        "        Type: A. Logos\n",
        "        ###\n",
        "        Premise: I'm an immigrant and a Muslim neither of which is or should be a deterrent from joining\n",
        "        Type: C. Ethos\n",
        "        ###\n",
        "        Premise: how many of these women wouldn't be having financial troubles if there wasn't competition from cheap illegal labor to keep wages lower\n",
        "        Type: B. Pathos\n",
        "        ###\n",
        "        Premise: I'l begin by saying it has never happened to me\n",
        "        Type: C. Ethos\n",
        "        ###\n",
        "        Premise: {premise}\n",
        "        Type:\"\"\"\n",
        "    )"
      ],
      "metadata": {
        "id": "goQZuxAx9Kzq",
        "cellView": "code"
      },
      "execution_count": null,
      "outputs": []
    },
    {
      "cell_type": "code",
      "source": [
        "#neo_pred_2\n",
        "prompt = (f\"\"\"Is the premise type A. Logos, B. Pathos or C. Ethos ###\n",
        "        Premise: Therefore, there will always be a market for meat and other animal products\n",
        "        Type: A. Logos\n",
        "        ###\n",
        "        Premise: How often do we get to go back and correct our mistakes in real life, anyway?\n",
        "        Type: B. Pathos\n",
        "        ###\n",
        "        Premise: Individuals who are extraordinarily qualified for a position but come from a region/social background without those connections enter a networking-friendly employment opportunity at a disadvantage.\n",
        "        Type: A. Logos\n",
        "        ###\n",
        "        Premise: I'm an immigrant and a Muslim neither of which is or should be a deterrent from joining\n",
        "        Type: C. Ethos\n",
        "        ###\n",
        "        Premise: how many of these women wouldn't be having financial troubles if there wasn't competition from cheap illegal labor to keep wages lower\n",
        "        Type: B. Pathos\n",
        "        ###\n",
        "        Premise: I'l begin by saying it has never happened to me\n",
        "        Type: C. Ethos\n",
        "        ###\n",
        "        Premise: {premise}\n",
        "        Type:\"\"\"\n",
        "    )"
      ],
      "metadata": {
        "id": "7f59_kBD_BOW"
      },
      "execution_count": null,
      "outputs": []
    },
    {
      "cell_type": "code",
      "source": [
        "#neo_pred_4\n",
        "prompt = (f\"\"\"Premise: How often do we get to go back and correct our mistakes in real life, anyway?\n",
        "        Type: Pathos\n",
        "        ###\n",
        "        Premise: Therefore, there will always be a market for meat and other animal products\n",
        "        Type: Logos\n",
        "        ###\n",
        "        Premise: I'l begin by saying it has never happened to me\n",
        "        Type: Ethos\n",
        "        ###\n",
        "        Premise: Individuals who are extraordinarily qualified for a position but come from a region/social background without those connections enter a networking-friendly employment opportunity at a disadvantage.\n",
        "        Type: Logos\n",
        "        ###\n",
        "        Premise: I'm an immigrant and a Muslim neither of which is or should be a deterrent from joining\n",
        "        Type: Ethos\n",
        "        ###\n",
        "        Premise: how many of these women wouldn't be having financial troubles if there wasn't competition from cheap illegal labor to keep wages lower\n",
        "        Type: Pathos\n",
        "        ###\n",
        "        Premise: {premise}\n",
        "        Type:\"\"\"\n",
        "    )"
      ],
      "metadata": {
        "id": "11HuTkMKAmn4"
      },
      "execution_count": null,
      "outputs": []
    },
    {
      "cell_type": "code",
      "source": [
        "# neo_pred_5, no max_len\n",
        "prompt = (f\"\"\"Premise: How often do we get to go back and correct our mistakes in real life, anyway?\n",
        "        Type: 2\n",
        "        ###\n",
        "        Premise: Therefore, there will always be a market for meat and other animal products\n",
        "        Type: 1\n",
        "        ###\n",
        "        Premise: I'l begin by saying it has never happened to me\n",
        "        Type: 3\n",
        "        ###\n",
        "        Premise: Individuals who are extraordinarily qualified for a position but come from a region/social background without those connections enter a networking-friendly employment opportunity at a disadvantage.\n",
        "        Type: 1\n",
        "        ###\n",
        "        Premise: I'm an immigrant and a Muslim neither of which is or should be a deterrent from joining\n",
        "        Type: 3\n",
        "        ###\n",
        "        Premise: how many of these women wouldn't be having financial troubles if there wasn't competition from cheap illegal labor to keep wages lower\n",
        "        Type: 2\n",
        "        ###\n",
        "        Premise: {premise}\n",
        "        Type:\"\"\"\n",
        "    )"
      ],
      "metadata": {
        "id": "hCCjSiBRBzo9"
      },
      "execution_count": null,
      "outputs": []
    },
    {
      "cell_type": "code",
      "source": [
        "# neo_pred_6, no_max_len\n",
        "prompt = (f\"\"\"Text: How often do we get to go back and correct our mistakes in real life, anyway?\n",
        "        Type: 2\n",
        "        ###\n",
        "        Text: Therefore, there will always be a market for meat and other animal products\n",
        "        Type: 1\n",
        "        ###\n",
        "        Text: I'l begin by saying it has never happened to me\n",
        "        Type: 3\n",
        "        ###\n",
        "        Text: Individuals who are extraordinarily qualified for a position but come from a region/social background without those connections enter a networking-friendly employment opportunity at a disadvantage.\n",
        "        Type: 1\n",
        "        ###\n",
        "        Text: I'm an immigrant and a Muslim neither of which is or should be a deterrent from joining\n",
        "        Type: 3\n",
        "        ###\n",
        "        Text: how many of these women wouldn't be having financial troubles if there wasn't competition from cheap illegal labor to keep wages lower\n",
        "        Type: 2\n",
        "        ###\n",
        "        Text: {premise}\n",
        "        Type:\"\"\"\n",
        "    )"
      ],
      "metadata": {
        "id": "1jzuZtIIhrle"
      },
      "execution_count": null,
      "outputs": []
    },
    {
      "cell_type": "code",
      "source": [
        "# neo_pred_7\n",
        "prompt = (f\"\"\"Text: How often do we get to go back and correct our mistakes in real life, anyway?\n",
        "        Type: 2\n",
        "        ###\n",
        "        Text: I'l begin by saying it has never happened to me\n",
        "        Type: 3\n",
        "        ###\n",
        "        Text: I'm an immigrant and a Muslim neither of which is or should be a deterrent from joining\n",
        "        Type: 3\n",
        "        ###\n",
        "        Text: how many of these women wouldn't be having financial troubles if there wasn't competition from cheap illegal labor to keep wages lower\n",
        "        Type: 2\n",
        "        ###\n",
        "        Text: {premise}\n",
        "        Type:\"\"\"\n",
        "    )"
      ],
      "metadata": {
        "id": "vB6orP0hhte8"
      },
      "execution_count": null,
      "outputs": []
    },
    {
      "cell_type": "code",
      "source": [
        "# neo_pred 8\n",
        "prompt = (f\"\"\"[hypothesis]: How often do we get to go back and correct our mistakes in real life, anyway?\n",
        "        [type]: emotion\n",
        "        ###\n",
        "        [hypothesis]: Therefore, there will always be a market for meat and other animal products\n",
        "        [type]: reason\n",
        "        ###\n",
        "        [hypothesis]: I'l begin by saying it has never happened to me\n",
        "        [type]: personal\n",
        "        ###\n",
        "        [hypothesis]: Individuals who are extraordinarily qualified for a position but come from a region/social background without those connections enter a networking-friendly employment opportunity at a disadvantage.\n",
        "        [type]: reason\n",
        "        ###\n",
        "        [hypothesis]: I'm an immigrant and a Muslim neither of which is or should be a deterrent from joining\n",
        "        [type]: personal\n",
        "        ###\n",
        "        [hypothesis]: how many of these women wouldn't be having financial troubles if there wasn't competition from cheap illegal labor to keep wages lower\n",
        "        [type]: emotion\n",
        "        ###\n",
        "        [hypothesis]: {premise}\n",
        "        [type]:\"\"\"\n",
        "    )"
      ],
      "metadata": {
        "id": "3olh4yEtH-Pe"
      },
      "execution_count": null,
      "outputs": []
    },
    {
      "cell_type": "code",
      "source": [
        "# neo_pred_original_data\n",
        "prompt = (f\"\"\"Premise: Therefore, there will always be a market for meat and other animal products\n",
        "        Type: logos_pathos\n",
        "        ###\n",
        "        Premise: How often do we get to go back and correct our mistakes in real life, anyway?\n",
        "        Type: logos_pathos\n",
        "        ###\n",
        "        Premise: I'l begin by saying it has never happened to me\n",
        "        Type: ethos\n",
        "        ###\n",
        "        Premise: Individuals who are extraordinarily qualified for a position but come from a region/social background without those connections enter a networking-friendly employment opportunity at a disadvantage.\n",
        "        Type: logos_pathos\n",
        "        ###\n",
        "        Premise: I'm an immigrant and a Muslim neither of which is or should be a deterrent from joining\n",
        "        Type: ethos\n",
        "        ###\n",
        "        Premise: how many of these women wouldn't be having financial troubles if there wasn't competition from cheap illegal labor to keep wages lower\n",
        "        Type: logos_pathos\n",
        "        ###\n",
        "        Premise: {premise}\n",
        "        Type:\"\"\"\n",
        "    )"
      ],
      "metadata": {
        "id": "3lxPXwkQh7vb"
      },
      "execution_count": null,
      "outputs": []
    },
    {
      "cell_type": "code",
      "source": [
        "# PROMPT TEMPLATE USED FOR TEST SET OF OUR OWN ANNOTATIONS\n",
        "prompt = (f\"\"\"Premise: How often do we get to go back and correct our mistakes in real life, anyway?\n",
        "        Type: 2\n",
        "        ###\n",
        "        Premise: Therefore, there will always be a market for meat and other animal products\n",
        "        Type: 1\n",
        "        ###\n",
        "        Premise: I'l begin by saying it has never happened to me\n",
        "        Type: 3\n",
        "        ###\n",
        "        Premise: Individuals who are extraordinarily qualified for a position but come from a region/social background without those connections enter a networking-friendly employment opportunity at a disadvantage.\n",
        "        Type: 1\n",
        "        ###\n",
        "        Premise: I'm an immigrant and a Muslim neither of which is or should be a deterrent from joining\n",
        "        Type: 3\n",
        "        ###\n",
        "        Premise: how many of these women wouldn't be having financial troubles if there wasn't competition from cheap illegal labor to keep wages lower\n",
        "        Type: 2\n",
        "        ###\n",
        "        Premise: {premise}\n",
        "        Type:\"\"\"\n",
        "    )"
      ],
      "metadata": {
        "id": "4P-TiKpJh9Zt"
      },
      "execution_count": null,
      "outputs": []
    }
  ]
}