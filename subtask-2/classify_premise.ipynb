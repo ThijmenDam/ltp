{
 "cells": [
  {
   "cell_type": "code",
   "execution_count": 17,
   "outputs": [
    {
     "name": "stderr",
     "output_type": "stream",
     "text": [
      "[nltk_data] Downloading package punkt to\n",
      "[nltk_data]     /Users/borisdejong/nltk_data...\n",
      "[nltk_data]   Package punkt is already up-to-date!\n"
     ]
    },
    {
     "data": {
      "text/plain": "True"
     },
     "execution_count": 17,
     "metadata": {},
     "output_type": "execute_result"
    }
   ],
   "source": [
    "import pandas as pd\n",
    "import numpy as np\n",
    "from nltk import word_tokenize\n",
    "from sklearn.feature_extraction.text import TfidfVectorizer\n",
    "from sklearn import svm\n",
    "from sklearn.svm import LinearSVC, OneClassSVM\n",
    "from sklearn.model_selection import train_test_split\n",
    "from sklearn.preprocessing import LabelEncoder\n",
    "from sklearn.metrics import accuracy_score, classification_report\n",
    "import eli5\n",
    "import nltk\n",
    "from sklearn.pipeline import Pipeline, FeatureUnion\n",
    "np.random.seed(500)\n",
    "nltk.download('punkt')"
   ],
   "metadata": {
    "collapsed": false,
    "pycharm": {
     "name": "#%%\n"
    }
   }
  },
  {
   "cell_type": "code",
   "execution_count": 18,
   "outputs": [
    {
     "data": {
      "text/plain": "  document             file_path     split  \\\n0       99  v2.0/positive/99.xml  positive   \n1       99  v2.0/positive/99.xml  positive   \n2       99  v2.0/positive/99.xml  positive   \n3       99  v2.0/positive/99.xml  positive   \n4       99  v2.0/positive/99.xml  positive   \n\n                                             premise          type logos  \\\n0  For the sake of this thread, we'll exclude chi...         logos  True   \n1  With a healthy child, income, neighborhood, pe...         logos  True   \n2  maybe a monetary incentive derived from public...  logos_pathos  True   \n3  since it would only be a suspension of \"assist...         logos  True   \n4  And poverty is a formidable obstacle but many,...         logos  True   \n\n  pathos  ethos  \n0  False  False  \n1  False  False  \n2   True  False  \n3  False  False  \n4  False  False  ",
      "text/html": "<div>\n<style scoped>\n    .dataframe tbody tr th:only-of-type {\n        vertical-align: middle;\n    }\n\n    .dataframe tbody tr th {\n        vertical-align: top;\n    }\n\n    .dataframe thead th {\n        text-align: right;\n    }\n</style>\n<table border=\"1\" class=\"dataframe\">\n  <thead>\n    <tr style=\"text-align: right;\">\n      <th></th>\n      <th>document</th>\n      <th>file_path</th>\n      <th>split</th>\n      <th>premise</th>\n      <th>type</th>\n      <th>logos</th>\n      <th>pathos</th>\n      <th>ethos</th>\n    </tr>\n  </thead>\n  <tbody>\n    <tr>\n      <th>0</th>\n      <td>99</td>\n      <td>v2.0/positive/99.xml</td>\n      <td>positive</td>\n      <td>For the sake of this thread, we'll exclude chi...</td>\n      <td>logos</td>\n      <td>True</td>\n      <td>False</td>\n      <td>False</td>\n    </tr>\n    <tr>\n      <th>1</th>\n      <td>99</td>\n      <td>v2.0/positive/99.xml</td>\n      <td>positive</td>\n      <td>With a healthy child, income, neighborhood, pe...</td>\n      <td>logos</td>\n      <td>True</td>\n      <td>False</td>\n      <td>False</td>\n    </tr>\n    <tr>\n      <th>2</th>\n      <td>99</td>\n      <td>v2.0/positive/99.xml</td>\n      <td>positive</td>\n      <td>maybe a monetary incentive derived from public...</td>\n      <td>logos_pathos</td>\n      <td>True</td>\n      <td>True</td>\n      <td>False</td>\n    </tr>\n    <tr>\n      <th>3</th>\n      <td>99</td>\n      <td>v2.0/positive/99.xml</td>\n      <td>positive</td>\n      <td>since it would only be a suspension of \"assist...</td>\n      <td>logos</td>\n      <td>True</td>\n      <td>False</td>\n      <td>False</td>\n    </tr>\n    <tr>\n      <th>4</th>\n      <td>99</td>\n      <td>v2.0/positive/99.xml</td>\n      <td>positive</td>\n      <td>And poverty is a formidable obstacle but many,...</td>\n      <td>logos</td>\n      <td>True</td>\n      <td>False</td>\n      <td>False</td>\n    </tr>\n  </tbody>\n</table>\n</div>"
     },
     "execution_count": 18,
     "metadata": {},
     "output_type": "execute_result"
    }
   ],
   "source": [
    "df = pd.read_pickle('../data/v2.0-processed/df_premises.pickle')\n",
    "df_test = pd.read_pickle('../data/v2.0-processed/df_premises_test.pickle')\n",
    "df.head()\n",
    "df_test.head()"
   ],
   "metadata": {
    "collapsed": false,
    "pycharm": {
     "name": "#%%\n"
    }
   }
  },
  {
   "cell_type": "code",
   "execution_count": 19,
   "outputs": [],
   "source": [
    "# Lowercase\n",
    "df['premise'] = df['premise'].str.lower()\n",
    "df['logos'] = df['logos'].map({True: 'Logos', False: 'Not Logos'})\n",
    "df['pathos'] = df['pathos'].map({True: 'Pathos', False: 'Not Pathos'})\n",
    "df['ethos'] = df['ethos'].map({True: 'Ethos', False: 'Not Ethos'})\n",
    "df['premise'] = [word_tokenize(entry) for entry in df['premise']]\n",
    "df['text'] = [' '.join(entry) for entry in df['premise']]\n",
    "\n",
    "df_test['premise'] = df_test['premise'].str.lower()\n",
    "df_test['logos'] = df_test['logos'].map({True: 'Logos', False: 'Not Logos'})\n",
    "df_test['pathos'] = df_test['pathos'].map({True: 'Pathos', False: 'Not Pathos'})\n",
    "df_test['ethos'] = df_test['ethos'].map({True: 'Ethos', False: 'Not Ethos'})\n",
    "df_test['premise'] = [word_tokenize(entry) for entry in df_test['premise']]\n",
    "df_test['text'] = [' '.join(entry) for entry in df_test['premise']]"
   ],
   "metadata": {
    "collapsed": false,
    "pycharm": {
     "name": "#%%\n"
    }
   }
  },
  {
   "cell_type": "code",
   "execution_count": 20,
   "outputs": [
    {
     "data": {
      "text/plain": "Logos        332\nNot Logos    108\nName: logos, dtype: int64"
     },
     "execution_count": 20,
     "metadata": {},
     "output_type": "execute_result"
    }
   ],
   "source": [
    "df['logos'].value_counts()\n",
    "df_test['logos'].value_counts()"
   ],
   "metadata": {
    "collapsed": false,
    "pycharm": {
     "name": "#%%\n"
    }
   }
  },
  {
   "cell_type": "code",
   "execution_count": 21,
   "outputs": [],
   "source": [
    "# train, test = train_test_split(df, test_size=0.2, random_state=0, stratify=df['type'], shuffle=True)"
   ],
   "metadata": {
    "collapsed": false,
    "pycharm": {
     "name": "#%%\n"
    }
   }
  },
  {
   "cell_type": "code",
   "execution_count": 22,
   "outputs": [],
   "source": [
    "# sem_type = 'pathos'\n",
    "# train, test = train_test_split(df, test_size=0.2, random_state=0, stratify=df[sem_type])\n",
    "# print(train[sem_type].value_counts())\n",
    "# print(test[sem_type].value_counts())\n",
    "# Train_X, Test_X, Train_Y, Test_Y = train['text'], test['text'], train[sem_type], test[sem_type]\n",
    "# Encoder = LabelEncoder()\n",
    "# Train_Y = Encoder.fit_transform(Train_Y)\n",
    "# Test_Y = Encoder.fit_transform(Test_Y)\n",
    "# print(np.count_nonzero(Train_Y == 1), np.count_nonzero(Train_Y == 0))\n",
    "# print(np.count_nonzero(Test_Y == 1), np.count_nonzero(Test_Y == 0))\n",
    "# Tfidf_vect = TfidfVectorizer(max_features=5000)\n",
    "# Tfidf_vect.fit(df['text'])\n",
    "# Train_X_Tfidf = Tfidf_vect.transform(Train_X)\n",
    "# Test_X_Tfidf = Tfidf_vect.transform(Test_X)\n",
    "# # Classifier - Algorithm - SVM\n",
    "# # fit the training dataset on the classifier\n",
    "# SVM = svm.LinearSVC(C=1.0)\n",
    "# SVM.fit(Train_X_Tfidf, Train_Y) # predict the labels on validation dataset\n",
    "# predictions_SVM = SVM.predict(Test_X_Tfidf) # Use accuracy_score function to get the accuracy\n",
    "# # y = Encoder.inverse_transform(Test_Y)\n",
    "# # pred = Encoder.inverse_transform(predictions_SVM)\n",
    "# # print(f\"SVM Accuracy Score for {sem_type} -> \\n\", classification_report(pred, y))\n",
    "# print(f\"SVM Accuracy Score for {sem_type} -> \\n\", classification_report(Test_Y, predictions_SVM))"
   ],
   "metadata": {
    "collapsed": false,
    "pycharm": {
     "name": "#%%\n"
    }
   }
  },
  {
   "cell_type": "code",
   "execution_count": 23,
   "outputs": [
    {
     "name": "stdout",
     "output_type": "stream",
     "text": [
      "Not Pathos    230\n",
      "Pathos        210\n",
      "Name: pathos, dtype: int64\n",
      "Logos        332\n",
      "Not Logos    108\n",
      "Name: logos, dtype: int64\n",
      "Not Ethos    387\n",
      "Ethos         53\n",
      "Name: ethos, dtype: int64\n"
     ]
    }
   ],
   "source": [
    "train, dev = train_test_split(df, test_size=0.2, random_state=0, stratify=df['type'], shuffle=True)\n",
    "test = df_test\n",
    "\n",
    "\n",
    "print(test['pathos'].value_counts())\n",
    "print(test['logos'].value_counts())\n",
    "print(test['ethos'].value_counts())\n",
    "\n",
    "def train_svm(sem_type):\n",
    "    Train_X, Test_X, Dev_X, Train_Y, Test_Y, Dev_Y,  = train['text'], test['text'], dev['text'], train[sem_type], test[sem_type], dev[sem_type]\n",
    "\n",
    "    # Construct pipeline\n",
    "    pipe = Pipeline([\n",
    "        ('tfidf', TfidfVectorizer()),\n",
    "        ('svc', LinearSVC()),\n",
    "    ])\n",
    "\n",
    "    pipe.fit(Train_X, Train_Y)\n",
    "\n",
    "    predictions_SVM_dev = pipe.predict(Dev_X)\n",
    "    predictions_SVM_test = pipe.predict(Test_X) # Use accuracy_score function to get the accuracy\n",
    "\n",
    "    print(f\"{sem_type} (dev set) -> \\n\", classification_report(Dev_Y, predictions_SVM_dev))\n",
    "\n",
    "    print(f\"{sem_type} (test set) -> \\n\", classification_report(Test_Y, predictions_SVM_test))\n",
    "\n",
    "    eli5.show_weights(pipe)"
   ],
   "metadata": {
    "collapsed": false,
    "pycharm": {
     "name": "#%%\n"
    }
   }
  },
  {
   "cell_type": "code",
   "execution_count": 24,
   "outputs": [
    {
     "name": "stdout",
     "output_type": "stream",
     "text": [
      "logos (dev set) -> \n",
      "               precision    recall  f1-score   support\n",
      "\n",
      "       Logos       0.90      0.99      0.94       285\n",
      "   Not Logos       0.77      0.24      0.36        42\n",
      "\n",
      "    accuracy                           0.89       327\n",
      "   macro avg       0.83      0.61      0.65       327\n",
      "weighted avg       0.88      0.89      0.87       327\n",
      "\n",
      "logos (test set) -> \n",
      "               precision    recall  f1-score   support\n",
      "\n",
      "       Logos       0.83      1.00      0.91       332\n",
      "   Not Logos       0.98      0.37      0.54       108\n",
      "\n",
      "    accuracy                           0.84       440\n",
      "   macro avg       0.90      0.68      0.72       440\n",
      "weighted avg       0.87      0.84      0.82       440\n",
      "\n",
      "ethos (dev set) -> \n",
      "               precision    recall  f1-score   support\n",
      "\n",
      "       Ethos       0.67      0.11      0.19        18\n",
      "   Not Ethos       0.95      1.00      0.97       309\n",
      "\n",
      "    accuracy                           0.95       327\n",
      "   macro avg       0.81      0.55      0.58       327\n",
      "weighted avg       0.93      0.95      0.93       327\n",
      "\n",
      "ethos (test set) -> \n",
      "               precision    recall  f1-score   support\n",
      "\n",
      "       Ethos       0.92      0.23      0.36        53\n",
      "   Not Ethos       0.90      1.00      0.95       387\n",
      "\n",
      "    accuracy                           0.90       440\n",
      "   macro avg       0.91      0.61      0.66       440\n",
      "weighted avg       0.91      0.90      0.88       440\n",
      "\n",
      "pathos (dev set) -> \n",
      "               precision    recall  f1-score   support\n",
      "\n",
      "  Not Pathos       0.63      0.50      0.56       130\n",
      "      Pathos       0.71      0.81      0.76       197\n",
      "\n",
      "    accuracy                           0.69       327\n",
      "   macro avg       0.67      0.65      0.66       327\n",
      "weighted avg       0.68      0.69      0.68       327\n",
      "\n",
      "pathos (test set) -> \n",
      "               precision    recall  f1-score   support\n",
      "\n",
      "  Not Pathos       0.74      0.45      0.56       230\n",
      "      Pathos       0.58      0.83      0.68       210\n",
      "\n",
      "    accuracy                           0.63       440\n",
      "   macro avg       0.66      0.64      0.62       440\n",
      "weighted avg       0.66      0.63      0.62       440\n",
      "\n"
     ]
    },
    {
     "name": "stderr",
     "output_type": "stream",
     "text": [
      "/Users/borisdejong/PycharmProjects/ltp/venv/lib/python3.8/site-packages/sklearn/utils/deprecation.py:87: FutureWarning: Function get_feature_names is deprecated; get_feature_names is deprecated in 1.0 and will be removed in 1.2. Please use get_feature_names_out instead.\n",
      "  warnings.warn(msg, category=FutureWarning)\n",
      "/Users/borisdejong/PycharmProjects/ltp/venv/lib/python3.8/site-packages/sklearn/utils/deprecation.py:87: FutureWarning: Function get_feature_names is deprecated; get_feature_names is deprecated in 1.0 and will be removed in 1.2. Please use get_feature_names_out instead.\n",
      "  warnings.warn(msg, category=FutureWarning)\n",
      "/Users/borisdejong/PycharmProjects/ltp/venv/lib/python3.8/site-packages/sklearn/utils/deprecation.py:87: FutureWarning: Function get_feature_names is deprecated; get_feature_names is deprecated in 1.0 and will be removed in 1.2. Please use get_feature_names_out instead.\n",
      "  warnings.warn(msg, category=FutureWarning)\n"
     ]
    }
   ],
   "source": [
    "for sem_type in ['logos', 'ethos', 'pathos']:\n",
    "    train_svm(sem_type=sem_type)"
   ],
   "metadata": {
    "collapsed": false,
    "pycharm": {
     "name": "#%%\n"
    }
   }
  }
 ],
 "metadata": {
  "kernelspec": {
   "display_name": "Python 3 (ipykernel)",
   "language": "python",
   "name": "python3"
  },
  "language_info": {
   "codemirror_mode": {
    "name": "ipython",
    "version": 3
   },
   "file_extension": ".py",
   "mimetype": "text/x-python",
   "name": "python",
   "nbconvert_exporter": "python",
   "pygments_lexer": "ipython3",
   "version": "3.8.2"
  }
 },
 "nbformat": 4,
 "nbformat_minor": 1
}