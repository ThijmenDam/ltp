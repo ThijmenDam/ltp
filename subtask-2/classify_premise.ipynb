{
 "cells": [
  {
   "cell_type": "code",
   "execution_count": null,
   "outputs": [],
   "source": [
    "import pandas as pd\n",
    "import numpy as np\n",
    "from nltk import word_tokenize\n",
    "from sklearn.feature_extraction.text import TfidfVectorizer\n",
    "from sklearn import svm\n",
    "from sklearn.svm import LinearSVC, OneClassSVM\n",
    "from sklearn.model_selection import train_test_split\n",
    "from sklearn.preprocessing import LabelEncoder\n",
    "from sklearn.metrics import accuracy_score, classification_report\n",
    "import eli5\n",
    "import nltk\n",
    "from sklearn.pipeline import Pipeline, FeatureUnion\n",
    "np.random.seed(500)\n",
    "nltk.download('punkt')"
   ],
   "metadata": {
    "collapsed": false,
    "pycharm": {
     "name": "#%%\n"
    }
   }
  },
  {
   "cell_type": "code",
   "execution_count": null,
   "outputs": [],
   "source": [
    "df = pd.read_pickle('../data/v2.0-processed/df_premises.pickle')\n",
    "df_test = pd.read_pickle('../data/v2.0-processed/df_premises_test.pickle')\n",
    "df.head()\n",
    "df_test.head()"
   ],
   "metadata": {
    "collapsed": false,
    "pycharm": {
     "name": "#%%\n"
    }
   }
  },
  {
   "cell_type": "code",
   "execution_count": null,
   "outputs": [],
   "source": [
    "# Lowercase\n",
    "df['premise'] = df['premise'].str.lower()\n",
    "df['logos'] = df['logos'].map({True: 'Logos', False: 'Not Logos'})\n",
    "df['pathos'] = df['pathos'].map({True: 'Pathos', False: 'Not Pathos'})\n",
    "df['ethos'] = df['ethos'].map({True: 'Ethos', False: 'Not Ethos'})\n",
    "df['premise'] = [word_tokenize(entry) for entry in df['premise']]\n",
    "df['text'] = [' '.join(entry) for entry in df['premise']]\n",
    "\n",
    "df_test['premise'] = df_test['premise'].str.lower()\n",
    "df_test['logos'] = df_test['logos'].map({True: 'Logos', False: 'Not Logos'})\n",
    "df_test['pathos'] = df_test['pathos'].map({True: 'Pathos', False: 'Not Pathos'})\n",
    "df_test['ethos'] = df_test['ethos'].map({True: 'Ethos', False: 'Not Ethos'})\n",
    "df_test['premise'] = [word_tokenize(entry) for entry in df_test['premise']]\n",
    "df_test['text'] = [' '.join(entry) for entry in df_test['premise']]"
   ],
   "metadata": {
    "collapsed": false,
    "pycharm": {
     "name": "#%%\n"
    }
   }
  },
  {
   "cell_type": "code",
   "execution_count": null,
   "outputs": [],
   "source": [
    "df['logos'].value_counts()\n",
    "df_test['logos'].value_counts()"
   ],
   "metadata": {
    "collapsed": false,
    "pycharm": {
     "name": "#%%\n"
    }
   }
  },
  {
   "cell_type": "code",
   "execution_count": null,
   "outputs": [],
   "source": [
    "# train, test = train_test_split(df, test_size=0.2, random_state=0, stratify=df['type'], shuffle=True)"
   ],
   "metadata": {
    "collapsed": false,
    "pycharm": {
     "name": "#%%\n"
    }
   }
  },
  {
   "cell_type": "code",
   "execution_count": null,
   "outputs": [],
   "source": [
    "# sem_type = 'pathos'\n",
    "# train, test = train_test_split(df, test_size=0.2, random_state=0, stratify=df[sem_type])\n",
    "# print(train[sem_type].value_counts())\n",
    "# print(test[sem_type].value_counts())\n",
    "# Train_X, Test_X, Train_Y, Test_Y = train['text'], test['text'], train[sem_type], test[sem_type]\n",
    "# Encoder = LabelEncoder()\n",
    "# Train_Y = Encoder.fit_transform(Train_Y)\n",
    "# Test_Y = Encoder.fit_transform(Test_Y)\n",
    "# print(np.count_nonzero(Train_Y == 1), np.count_nonzero(Train_Y == 0))\n",
    "# print(np.count_nonzero(Test_Y == 1), np.count_nonzero(Test_Y == 0))\n",
    "# Tfidf_vect = TfidfVectorizer(max_features=5000)\n",
    "# Tfidf_vect.fit(df['text'])\n",
    "# Train_X_Tfidf = Tfidf_vect.transform(Train_X)\n",
    "# Test_X_Tfidf = Tfidf_vect.transform(Test_X)\n",
    "# # Classifier - Algorithm - SVM\n",
    "# # fit the training dataset on the classifier\n",
    "# SVM = svm.LinearSVC(C=1.0)\n",
    "# SVM.fit(Train_X_Tfidf, Train_Y) # predict the labels on validation dataset\n",
    "# predictions_SVM = SVM.predict(Test_X_Tfidf) # Use accuracy_score function to get the accuracy\n",
    "# # y = Encoder.inverse_transform(Test_Y)\n",
    "# # pred = Encoder.inverse_transform(predictions_SVM)\n",
    "# # print(f\"SVM Accuracy Score for {sem_type} -> \\n\", classification_report(pred, y))\n",
    "# print(f\"SVM Accuracy Score for {sem_type} -> \\n\", classification_report(Test_Y, predictions_SVM))"
   ],
   "metadata": {
    "collapsed": false,
    "pycharm": {
     "name": "#%%\n"
    }
   }
  },
  {
   "cell_type": "code",
   "execution_count": null,
   "outputs": [],
   "source": [
    "train, dev = train_test_split(df, test_size=0.2, random_state=0, stratify=df['type'], shuffle=True)\n",
    "test = df_test\n",
    "\n",
    "\n",
    "print(test['pathos'].value_counts())\n",
    "print(test['logos'].value_counts())\n",
    "print(test['ethos'].value_counts())\n",
    "\n",
    "def train_svm(sem_type):\n",
    "    Train_X, Test_X, Dev_X, Train_Y, Test_Y, Dev_Y,  = train['text'], test['text'], dev['text'], train[sem_type], test[sem_type], dev[sem_type]\n",
    "\n",
    "    # Construct pipeline\n",
    "    pipe = Pipeline([\n",
    "        ('tfidf', TfidfVectorizer()),\n",
    "        ('svc', LinearSVC()),\n",
    "    ])\n",
    "\n",
    "    pipe.fit(Train_X, Train_Y)\n",
    "\n",
    "    predictions_SVM_dev = pipe.predict(Dev_X)\n",
    "    predictions_SVM_test = pipe.predict(Test_X) # Use accuracy_score function to get the accuracy\n",
    "\n",
    "    print(f\"{sem_type} (dev set) -> \\n\", classification_report(Dev_Y, predictions_SVM_dev))\n",
    "\n",
    "    print(f\"{sem_type} (test set) -> \\n\", classification_report(Test_Y, predictions_SVM_test))\n",
    "\n",
    "    eli5.show_weights(pipe)"
   ],
   "metadata": {
    "collapsed": false,
    "pycharm": {
     "name": "#%%\n"
    }
   }
  },
  {
   "cell_type": "code",
   "execution_count": null,
   "outputs": [],
   "source": [
    "for sem_type in ['logos', 'ethos', 'pathos']:\n",
    "    train_svm(sem_type=sem_type)"
   ],
   "metadata": {
    "collapsed": false,
    "pycharm": {
     "name": "#%%\n"
    }
   }
  }
 ],
 "metadata": {
  "kernelspec": {
   "display_name": "Python 3 (ipykernel)",
   "language": "python",
   "name": "python3"
  },
  "language_info": {
   "codemirror_mode": {
    "name": "ipython",
    "version": 3
   },
   "file_extension": ".py",
   "mimetype": "text/x-python",
   "name": "python",
   "nbconvert_exporter": "python",
   "pygments_lexer": "ipython3",
   "version": "3.8.2"
  }
 },
 "nbformat": 4,
 "nbformat_minor": 1
}