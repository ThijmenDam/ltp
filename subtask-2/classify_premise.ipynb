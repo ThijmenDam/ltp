{
 "cells": [
  {
   "cell_type": "code",
   "execution_count": 250,
   "outputs": [],
   "source": [
    "import pandas as pd\n",
    "import numpy as np\n",
    "from nltk import word_tokenize\n",
    "from sklearn.feature_extraction.text import TfidfVectorizer\n",
    "from sklearn import svm\n",
    "from sklearn.model_selection import train_test_split\n",
    "from sklearn.preprocessing import LabelEncoder\n",
    "from sklearn.metrics import accuracy_score, classification_report\n",
    "np.random.seed(500)"
   ],
   "metadata": {
    "collapsed": false,
    "pycharm": {
     "name": "#%%\n"
    }
   }
  },
  {
   "cell_type": "code",
   "execution_count": 251,
   "outputs": [
    {
     "data": {
      "text/plain": "  document             file_path     split  \\\n0       88  v2.0/positive/88.xml  positive   \n1       88  v2.0/positive/88.xml  positive   \n2       88  v2.0/positive/88.xml  positive   \n3       88  v2.0/positive/88.xml  positive   \n4       88  v2.0/positive/88.xml  positive   \n\n                                             premise          type logos  \\\n0  [47% of all jobs are at risk of being automate...         logos  True   \n1  This number will grow grow until the vast majo...  logos_pathos  True   \n2  Since some of this automation will inevitably ...  logos_pathos  True   \n3  By fortifying themselves in their gated commun...  logos_pathos  True   \n4  Once everyone is dead, they can simply be wipe...  logos_pathos  True   \n\n  pathos  ethos  \n0  False  False  \n1   True  False  \n2   True  False  \n3   True  False  \n4   True  False  ",
      "text/html": "<div>\n<style scoped>\n    .dataframe tbody tr th:only-of-type {\n        vertical-align: middle;\n    }\n\n    .dataframe tbody tr th {\n        vertical-align: top;\n    }\n\n    .dataframe thead th {\n        text-align: right;\n    }\n</style>\n<table border=\"1\" class=\"dataframe\">\n  <thead>\n    <tr style=\"text-align: right;\">\n      <th></th>\n      <th>document</th>\n      <th>file_path</th>\n      <th>split</th>\n      <th>premise</th>\n      <th>type</th>\n      <th>logos</th>\n      <th>pathos</th>\n      <th>ethos</th>\n    </tr>\n  </thead>\n  <tbody>\n    <tr>\n      <th>0</th>\n      <td>88</td>\n      <td>v2.0/positive/88.xml</td>\n      <td>positive</td>\n      <td>[47% of all jobs are at risk of being automate...</td>\n      <td>logos</td>\n      <td>True</td>\n      <td>False</td>\n      <td>False</td>\n    </tr>\n    <tr>\n      <th>1</th>\n      <td>88</td>\n      <td>v2.0/positive/88.xml</td>\n      <td>positive</td>\n      <td>This number will grow grow until the vast majo...</td>\n      <td>logos_pathos</td>\n      <td>True</td>\n      <td>True</td>\n      <td>False</td>\n    </tr>\n    <tr>\n      <th>2</th>\n      <td>88</td>\n      <td>v2.0/positive/88.xml</td>\n      <td>positive</td>\n      <td>Since some of this automation will inevitably ...</td>\n      <td>logos_pathos</td>\n      <td>True</td>\n      <td>True</td>\n      <td>False</td>\n    </tr>\n    <tr>\n      <th>3</th>\n      <td>88</td>\n      <td>v2.0/positive/88.xml</td>\n      <td>positive</td>\n      <td>By fortifying themselves in their gated commun...</td>\n      <td>logos_pathos</td>\n      <td>True</td>\n      <td>True</td>\n      <td>False</td>\n    </tr>\n    <tr>\n      <th>4</th>\n      <td>88</td>\n      <td>v2.0/positive/88.xml</td>\n      <td>positive</td>\n      <td>Once everyone is dead, they can simply be wipe...</td>\n      <td>logos_pathos</td>\n      <td>True</td>\n      <td>True</td>\n      <td>False</td>\n    </tr>\n  </tbody>\n</table>\n</div>"
     },
     "execution_count": 251,
     "metadata": {},
     "output_type": "execute_result"
    }
   ],
   "source": [
    "df = pd.read_pickle('../data/v2.0-processed/df_premises.pickle')\n",
    "df.head()"
   ],
   "metadata": {
    "collapsed": false,
    "pycharm": {
     "name": "#%%\n"
    }
   }
  },
  {
   "cell_type": "code",
   "execution_count": 252,
   "outputs": [],
   "source": [
    "# Lowercase\n",
    "df['premise'] = df['premise'].str.lower()\n",
    "df['logos'] = df['logos'].map({True: 'Logos', False: 'Not Logos'})\n",
    "df['pathos'] = df['pathos'].map({True: 'Pathos', False: 'Not Pathos'})\n",
    "df['ethos'] = df['ethos'].map({True: 'Ethos', False: 'Not Ethos'})\n",
    "df['premise'] = [word_tokenize(entry) for entry in df['premise']]\n",
    "df['text'] = [' '.join(entry) for entry in df['premise']]"
   ],
   "metadata": {
    "collapsed": false,
    "pycharm": {
     "name": "#%%\n"
    }
   }
  },
  {
   "cell_type": "code",
   "execution_count": 253,
   "outputs": [
    {
     "data": {
      "text/plain": "Logos        1757\nNot Logos     315\nName: logos, dtype: int64"
     },
     "execution_count": 253,
     "metadata": {},
     "output_type": "execute_result"
    }
   ],
   "source": [
    "df['logos'].value_counts()"
   ],
   "metadata": {
    "collapsed": false,
    "pycharm": {
     "name": "#%%\n"
    }
   }
  },
  {
   "cell_type": "code",
   "execution_count": 254,
   "outputs": [],
   "source": [
    "# train, test = train_test_split(df, test_size=0.2, random_state=0, stratify=df['type'], shuffle=True)"
   ],
   "metadata": {
    "collapsed": false,
    "pycharm": {
     "name": "#%%\n"
    }
   }
  },
  {
   "cell_type": "code",
   "execution_count": 255,
   "outputs": [],
   "source": [
    "# sem_type = 'pathos'\n",
    "# train, test = train_test_split(df, test_size=0.2, random_state=0, stratify=df[sem_type])\n",
    "# print(train[sem_type].value_counts())\n",
    "# print(test[sem_type].value_counts())\n",
    "# Train_X, Test_X, Train_Y, Test_Y = train['text'], test['text'], train[sem_type], test[sem_type]\n",
    "# Encoder = LabelEncoder()\n",
    "# Train_Y = Encoder.fit_transform(Train_Y)\n",
    "# Test_Y = Encoder.fit_transform(Test_Y)\n",
    "# print(np.count_nonzero(Train_Y == 1), np.count_nonzero(Train_Y == 0))\n",
    "# print(np.count_nonzero(Test_Y == 1), np.count_nonzero(Test_Y == 0))\n",
    "# Tfidf_vect = TfidfVectorizer(max_features=5000)\n",
    "# Tfidf_vect.fit(df['text'])\n",
    "# Train_X_Tfidf = Tfidf_vect.transform(Train_X)\n",
    "# Test_X_Tfidf = Tfidf_vect.transform(Test_X)\n",
    "# # Classifier - Algorithm - SVM\n",
    "# # fit the training dataset on the classifier\n",
    "# SVM = svm.LinearSVC(C=1.0)\n",
    "# SVM.fit(Train_X_Tfidf, Train_Y) # predict the labels on validation dataset\n",
    "# predictions_SVM = SVM.predict(Test_X_Tfidf) # Use accuracy_score function to get the accuracy\n",
    "# # y = Encoder.inverse_transform(Test_Y)\n",
    "# # pred = Encoder.inverse_transform(predictions_SVM)\n",
    "# # print(f\"SVM Accuracy Score for {sem_type} -> \\n\", classification_report(pred, y))\n",
    "# print(f\"SVM Accuracy Score for {sem_type} -> \\n\", classification_report(Test_Y, predictions_SVM))"
   ],
   "metadata": {
    "collapsed": false,
    "pycharm": {
     "name": "#%%\n"
    }
   }
  },
  {
   "cell_type": "code",
   "execution_count": 262,
   "outputs": [
    {
     "name": "stdout",
     "output_type": "stream",
     "text": [
      "Pathos        239\n",
      "Not Pathos    176\n",
      "Name: pathos, dtype: int64\n",
      "Logos        352\n",
      "Not Logos     63\n",
      "Name: logos, dtype: int64\n",
      "Not Ethos    386\n",
      "Ethos         29\n",
      "Name: ethos, dtype: int64\n"
     ]
    }
   ],
   "source": [
    "train, test = train_test_split(df, test_size=0.2, random_state=0, stratify=df['type'], shuffle=True)\n",
    "print(test['pathos'].value_counts())\n",
    "print(test['logos'].value_counts())\n",
    "print(test['ethos'].value_counts())\n",
    "def train_svm(sem_type):\n",
    "    Train_X, Test_X, Train_Y, Test_Y = train['text'], test['text'], train[sem_type], test[sem_type]\n",
    "    Encoder = LabelEncoder()\n",
    "    Train_Y = Encoder.fit_transform(Train_Y)\n",
    "    Test_Y = Encoder.fit_transform(Test_Y)\n",
    "    Tfidf_vect = TfidfVectorizer(max_features=5000)\n",
    "    Tfidf_vect.fit(df['text'])\n",
    "    Train_X_Tfidf = Tfidf_vect.transform(Train_X)\n",
    "    Test_X_Tfidf = Tfidf_vect.transform(Test_X)\n",
    "    # Classifier - Algorithm - SVM\n",
    "    # fit the training dataset on the classifier\n",
    "    SVM = svm.LinearSVC(C=1.0)\n",
    "    SVM.fit(Train_X_Tfidf, Train_Y) # predict the labels on validation dataset\n",
    "    predictions_SVM = SVM.predict(Test_X_Tfidf) # Use accuracy_score function to get the accuracy\n",
    "    print(f\"{sem_type} -> \\n\", classification_report(Test_Y, predictions_SVM, target_names=Encoder.classes_))"
   ],
   "metadata": {
    "collapsed": false,
    "pycharm": {
     "name": "#%%\n"
    }
   }
  },
  {
   "cell_type": "code",
   "execution_count": 261,
   "outputs": [
    {
     "name": "stdout",
     "output_type": "stream",
     "text": [
      "logos -> \n",
      "               precision    recall  f1-score   support\n",
      "\n",
      "       Logos       0.89      0.99      0.94       352\n",
      "   Not Logos       0.83      0.32      0.46        63\n",
      "\n",
      "    accuracy                           0.89       415\n",
      "   macro avg       0.86      0.65      0.70       415\n",
      "weighted avg       0.88      0.89      0.86       415\n",
      "\n",
      "ethos -> \n",
      "               precision    recall  f1-score   support\n",
      "\n",
      "       Ethos       0.90      0.31      0.46        29\n",
      "   Not Ethos       0.95      1.00      0.97       386\n",
      "\n",
      "    accuracy                           0.95       415\n",
      "   macro avg       0.93      0.65      0.72       415\n",
      "weighted avg       0.95      0.95      0.94       415\n",
      "\n",
      "pathos -> \n",
      "               precision    recall  f1-score   support\n",
      "\n",
      "  Not Pathos       0.70      0.55      0.61       176\n",
      "      Pathos       0.71      0.83      0.77       239\n",
      "\n",
      "    accuracy                           0.71       415\n",
      "   macro avg       0.71      0.69      0.69       415\n",
      "weighted avg       0.71      0.71      0.70       415\n",
      "\n"
     ]
    }
   ],
   "source": [
    "for sem_type in ['logos', 'ethos', 'pathos']:\n",
    "    train_svm(sem_type=sem_type)"
   ],
   "metadata": {
    "collapsed": false,
    "pycharm": {
     "name": "#%%\n"
    }
   }
  },
  {
   "cell_type": "code",
   "execution_count": 257,
   "outputs": [],
   "source": [],
   "metadata": {
    "collapsed": false,
    "pycharm": {
     "name": "#%%\n"
    }
   }
  }
 ],
 "metadata": {
  "kernelspec": {
   "display_name": "Python 3",
   "language": "python",
   "name": "python3"
  },
  "language_info": {
   "codemirror_mode": {
    "name": "ipython",
    "version": 2
   },
   "file_extension": ".py",
   "mimetype": "text/x-python",
   "name": "python",
   "nbconvert_exporter": "python",
   "pygments_lexer": "ipython2",
   "version": "2.7.6"
  }
 },
 "nbformat": 4,
 "nbformat_minor": 0
}