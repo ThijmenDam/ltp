{
 "cells": [
  {
   "cell_type": "code",
   "execution_count": 7,
   "outputs": [
    {
     "name": "stderr",
     "output_type": "stream",
     "text": [
      "[nltk_data] Downloading package punkt to\n",
      "[nltk_data]     /Users/borisdejong/nltk_data...\n",
      "[nltk_data]   Package punkt is already up-to-date!\n"
     ]
    },
    {
     "data": {
      "text/plain": "True"
     },
     "execution_count": 7,
     "metadata": {},
     "output_type": "execute_result"
    }
   ],
   "source": [
    "import pandas as pd\n",
    "import numpy as np\n",
    "from nltk import word_tokenize\n",
    "from sklearn.feature_extraction.text import TfidfVectorizer\n",
    "from sklearn import svm\n",
    "from sklearn.svm import LinearSVC, OneClassSVM\n",
    "from sklearn.model_selection import train_test_split\n",
    "from sklearn.preprocessing import LabelEncoder\n",
    "from sklearn.metrics import accuracy_score, classification_report\n",
    "import eli5\n",
    "import nltk\n",
    "from sklearn.pipeline import Pipeline, FeatureUnion\n",
    "np.random.seed(500)\n",
    "nltk.download('punkt')"
   ],
   "metadata": {
    "collapsed": false,
    "pycharm": {
     "name": "#%%\n"
    }
   }
  },
  {
   "cell_type": "code",
   "execution_count": 8,
   "outputs": [],
   "source": [
    "df = pd.read_pickle('../data/v2.0-processed/df_premises.pickle')\n",
    "df.head()\n",
    "\n",
    "df = df.astype({'document':'int'})\n",
    "\n",
    "df_train = df[df.document > 88]\n",
    "df_test = df[df.document <= 88]"
   ],
   "metadata": {
    "collapsed": false,
    "pycharm": {
     "name": "#%%\n"
    }
   }
  },
  {
   "cell_type": "code",
   "execution_count": 9,
   "outputs": [],
   "source": [
    "# Lowercase\n",
    "df['premise'] = df['premise'].str.lower()\n",
    "df['logos'] = df['logos'].map({True: 'Logos', False: 'Not Logos'})\n",
    "df['pathos'] = df['pathos'].map({True: 'Pathos', False: 'Not Pathos'})\n",
    "df['ethos'] = df['ethos'].map({True: 'Ethos', False: 'Not Ethos'})\n",
    "df['premise'] = [word_tokenize(entry) for entry in df['premise']]\n",
    "df['text'] = [' '.join(entry) for entry in df['premise']]"
   ],
   "metadata": {
    "collapsed": false,
    "pycharm": {
     "name": "#%%\n"
    }
   }
  },
  {
   "cell_type": "code",
   "execution_count": 10,
   "outputs": [
    {
     "data": {
      "text/plain": "Logos        1757\nNot Logos     315\nName: logos, dtype: int64"
     },
     "execution_count": 10,
     "metadata": {},
     "output_type": "execute_result"
    }
   ],
   "source": [
    "df['logos'].value_counts()"
   ],
   "metadata": {
    "collapsed": false,
    "pycharm": {
     "name": "#%%\n"
    }
   }
  },
  {
   "cell_type": "code",
   "execution_count": 11,
   "outputs": [],
   "source": [
    "# train, test = train_test_split(df, test_size=0.2, random_state=0, stratify=df['type'], shuffle=True)"
   ],
   "metadata": {
    "collapsed": false,
    "pycharm": {
     "name": "#%%\n"
    }
   }
  },
  {
   "cell_type": "code",
   "execution_count": 12,
   "outputs": [],
   "source": [
    "# sem_type = 'pathos'\n",
    "# train, test = train_test_split(df, test_size=0.2, random_state=0, stratify=df[sem_type])\n",
    "# print(train[sem_type].value_counts())\n",
    "# print(test[sem_type].value_counts())\n",
    "# Train_X, Test_X, Train_Y, Test_Y = train['text'], test['text'], train[sem_type], test[sem_type]\n",
    "# Encoder = LabelEncoder()\n",
    "# Train_Y = Encoder.fit_transform(Train_Y)\n",
    "# Test_Y = Encoder.fit_transform(Test_Y)\n",
    "# print(np.count_nonzero(Train_Y == 1), np.count_nonzero(Train_Y == 0))\n",
    "# print(np.count_nonzero(Test_Y == 1), np.count_nonzero(Test_Y == 0))\n",
    "# Tfidf_vect = TfidfVectorizer(max_features=5000)\n",
    "# Tfidf_vect.fit(df['text'])\n",
    "# Train_X_Tfidf = Tfidf_vect.transform(Train_X)\n",
    "# Test_X_Tfidf = Tfidf_vect.transform(Test_X)\n",
    "# # Classifier - Algorithm - SVM\n",
    "# # fit the training dataset on the classifier\n",
    "# SVM = svm.LinearSVC(C=1.0)\n",
    "# SVM.fit(Train_X_Tfidf, Train_Y) # predict the labels on validation dataset\n",
    "# predictions_SVM = SVM.predict(Test_X_Tfidf) # Use accuracy_score function to get the accuracy\n",
    "# # y = Encoder.inverse_transform(Test_Y)\n",
    "# # pred = Encoder.inverse_transform(predictions_SVM)\n",
    "# # print(f\"SVM Accuracy Score for {sem_type} -> \\n\", classification_report(pred, y))\n",
    "# print(f\"SVM Accuracy Score for {sem_type} -> \\n\", classification_report(Test_Y, predictions_SVM))"
   ],
   "metadata": {
    "collapsed": false,
    "pycharm": {
     "name": "#%%\n"
    }
   }
  },
  {
   "cell_type": "code",
   "execution_count": 15,
   "outputs": [
    {
     "name": "stdout",
     "output_type": "stream",
     "text": [
      "      document              file_path     split  \\\n",
      "732         80   v2.0/positive/80.xml  positive   \n",
      "251         73   v2.0/positive/73.xml  positive   \n",
      "683          5    v2.0/positive/5.xml  positive   \n",
      "495         27   v2.0/positive/27.xml  positive   \n",
      "107         89   v2.0/positive/89.xml  positive   \n",
      "...        ...                    ...       ...   \n",
      "1915        79   v2.0/negative/79.xml  negative   \n",
      "590         31   v2.0/positive/31.xml  positive   \n",
      "1951        79   v2.0/negative/79.xml  negative   \n",
      "1612       318  v2.0/negative/318.xml  negative   \n",
      "1377       289  v2.0/negative/289.xml  negative   \n",
      "\n",
      "                                                premise                type  \\\n",
      "732   [., you, 'll, lose, money, by, taking, hpsp, a...               logos   \n",
      "251   [most, of, us, would, n't, describe, them, as,...        logos_pathos   \n",
      "683   [the, incidents, that, stand, out, most, in, o...        logos_pathos   \n",
      "495                      [that, is, not, my, motive, .]               logos   \n",
      "107   [whatever, other, religion, had, ended, up, de...               logos   \n",
      "...                                                 ...                 ...   \n",
      "1915  [you, completely, circumvented, every, single,...              pathos   \n",
      "590   [arguably, i, 'm, more, optimistic, and, posit...  ethos_logos_pathos   \n",
      "1951  [in, other, words, ,, it, would, n't, be, a, d...               logos   \n",
      "1612  [often, it, is, the, leaders, of, such, moveme...              pathos   \n",
      "1377                             [people, socialize, .]               logos   \n",
      "\n",
      "          logos      pathos      ethos  \\\n",
      "732       Logos  Not Pathos  Not Ethos   \n",
      "251       Logos      Pathos  Not Ethos   \n",
      "683       Logos      Pathos  Not Ethos   \n",
      "495       Logos  Not Pathos  Not Ethos   \n",
      "107       Logos  Not Pathos  Not Ethos   \n",
      "...         ...         ...        ...   \n",
      "1915  Not Logos      Pathos  Not Ethos   \n",
      "590       Logos      Pathos      Ethos   \n",
      "1951      Logos  Not Pathos  Not Ethos   \n",
      "1612  Not Logos      Pathos  Not Ethos   \n",
      "1377      Logos  Not Pathos  Not Ethos   \n",
      "\n",
      "                                                   text  \n",
      "732   . you 'll lose money by taking hpsp and especi...  \n",
      "251   most of us would n't describe them as `` delus...  \n",
      "683   the incidents that stand out most in our heads...  \n",
      "495                             that is not my motive .  \n",
      "107   whatever other religion had ended up developin...  \n",
      "...                                                 ...  \n",
      "1915  you completely circumvented every single debat...  \n",
      "590   arguably i 'm more optimistic and positive bec...  \n",
      "1951  in other words , it would n't be a drop in the...  \n",
      "1612  often it is the leaders of such movements that...  \n",
      "1377                                 people socialize .  \n",
      "\n",
      "[415 rows x 9 columns]\n",
      "Pathos        239\n",
      "Not Pathos    176\n",
      "Name: pathos, dtype: int64\n",
      "Logos        352\n",
      "Not Logos     63\n",
      "Name: logos, dtype: int64\n",
      "Not Ethos    386\n",
      "Ethos         29\n",
      "Name: ethos, dtype: int64\n"
     ]
    }
   ],
   "source": [
    "train, val = train_test_split(df_train, test_size=0.2, random_state=0, stratify=df['type'], shuffle=True)\n",
    "\n",
    "print(test['pathos'].value_counts())\n",
    "print(test['logos'].value_counts())\n",
    "print(test['ethos'].value_counts())\n",
    "def train_svm(sem_type):\n",
    "    Train_X, Test_X, Train_Y, Test_Y = train['text'], val['text'], train[sem_type], val[sem_type]\n",
    "\n",
    "    # Construct pipeline\n",
    "    pipe = Pipeline([\n",
    "        ('tfidf', TfidfVectorizer()),\n",
    "        ('svc', LinearSVC()),\n",
    "    ])\n",
    "\n",
    "    pipe.fit(Train_X, Train_Y)\n",
    "\n",
    "    predictions_SVM = pipe.predict(Test_X) # Use accuracy_score function to get the accuracy\n",
    "    print(f\"{sem_type} -> \\n\", classification_report(Test_Y, predictions_SVM))\n",
    "\n",
    "    eli5.show_weights(pipe)"
   ],
   "metadata": {
    "collapsed": false,
    "pycharm": {
     "name": "#%%\n"
    }
   }
  },
  {
   "cell_type": "code",
   "execution_count": 14,
   "outputs": [
    {
     "name": "stdout",
     "output_type": "stream",
     "text": [
      "logos -> \n",
      "               precision    recall  f1-score   support\n",
      "\n",
      "       Logos       0.89      0.99      0.94       352\n",
      "   Not Logos       0.83      0.32      0.46        63\n",
      "\n",
      "    accuracy                           0.89       415\n",
      "   macro avg       0.86      0.65      0.70       415\n",
      "weighted avg       0.88      0.89      0.86       415\n",
      "\n",
      "ethos -> \n",
      "               precision    recall  f1-score   support\n",
      "\n",
      "       Ethos       0.82      0.31      0.45        29\n",
      "   Not Ethos       0.95      0.99      0.97       386\n",
      "\n",
      "    accuracy                           0.95       415\n",
      "   macro avg       0.88      0.65      0.71       415\n",
      "weighted avg       0.94      0.95      0.94       415\n",
      "\n",
      "pathos -> \n",
      "               precision    recall  f1-score   support\n",
      "\n",
      "  Not Pathos       0.68      0.55      0.61       176\n",
      "      Pathos       0.71      0.81      0.76       239\n",
      "\n",
      "    accuracy                           0.70       415\n",
      "   macro avg       0.69      0.68      0.68       415\n",
      "weighted avg       0.70      0.70      0.69       415\n",
      "\n"
     ]
    },
    {
     "name": "stderr",
     "output_type": "stream",
     "text": [
      "/Users/borisdejong/PycharmProjects/ltp/venv/lib/python3.8/site-packages/sklearn/utils/deprecation.py:87: FutureWarning: Function get_feature_names is deprecated; get_feature_names is deprecated in 1.0 and will be removed in 1.2. Please use get_feature_names_out instead.\n",
      "  warnings.warn(msg, category=FutureWarning)\n",
      "/Users/borisdejong/PycharmProjects/ltp/venv/lib/python3.8/site-packages/sklearn/utils/deprecation.py:87: FutureWarning: Function get_feature_names is deprecated; get_feature_names is deprecated in 1.0 and will be removed in 1.2. Please use get_feature_names_out instead.\n",
      "  warnings.warn(msg, category=FutureWarning)\n",
      "/Users/borisdejong/PycharmProjects/ltp/venv/lib/python3.8/site-packages/sklearn/utils/deprecation.py:87: FutureWarning: Function get_feature_names is deprecated; get_feature_names is deprecated in 1.0 and will be removed in 1.2. Please use get_feature_names_out instead.\n",
      "  warnings.warn(msg, category=FutureWarning)\n"
     ]
    }
   ],
   "source": [
    "for sem_type in ['logos', 'ethos', 'pathos']:\n",
    "    train_svm(sem_type=sem_type)"
   ],
   "metadata": {
    "collapsed": false,
    "pycharm": {
     "name": "#%%\n"
    }
   }
  },
  {
   "cell_type": "code",
   "execution_count": 14,
   "outputs": [],
   "source": [],
   "metadata": {
    "collapsed": false,
    "pycharm": {
     "name": "#%%\n"
    }
   }
  },
  {
   "cell_type": "code",
   "execution_count": 14,
   "outputs": [],
   "source": [],
   "metadata": {
    "collapsed": false,
    "pycharm": {
     "name": "#%%\n"
    }
   }
  }
 ],
 "metadata": {
  "kernelspec": {
   "display_name": "Python 3",
   "language": "python",
   "name": "python3"
  },
  "language_info": {
   "codemirror_mode": {
    "name": "ipython",
    "version": 2
   },
   "file_extension": ".py",
   "mimetype": "text/x-python",
   "name": "python",
   "nbconvert_exporter": "python",
   "pygments_lexer": "ipython2",
   "version": "2.7.6"
  }
 },
 "nbformat": 4,
 "nbformat_minor": 0
}