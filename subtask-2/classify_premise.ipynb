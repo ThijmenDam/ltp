{
 "cells": [
  {
   "cell_type": "code",
   "execution_count": 2,
   "outputs": [],
   "source": [
    "import pandas as pd\n",
    "import numpy as np\n",
    "from nltk import word_tokenize\n",
    "from sklearn.feature_extraction.text import TfidfVectorizer\n",
    "from sklearn import svm\n",
    "from sklearn.model_selection import train_test_split\n",
    "from sklearn.preprocessing import LabelEncoder\n",
    "from sklearn.metrics import accuracy_score, classification_report\n",
    "np.random.seed(500)"
   ],
   "metadata": {
    "collapsed": false,
    "pycharm": {
     "name": "#%%\n"
    }
   }
  },
  {
   "cell_type": "code",
   "execution_count": 3,
   "outputs": [
    {
     "data": {
      "text/plain": "  document             file_path     split  \\\n0       88  v2.0/positive/88.xml  positive   \n1       88  v2.0/positive/88.xml  positive   \n2       88  v2.0/positive/88.xml  positive   \n3       88  v2.0/positive/88.xml  positive   \n4       88  v2.0/positive/88.xml  positive   \n\n                                             premise          type logos  \\\n0  [47% of all jobs are at risk of being automate...         logos  True   \n1  This number will grow grow until the vast majo...  logos_pathos  True   \n2  Since some of this automation will inevitably ...  logos_pathos  True   \n3  By fortifying themselves in their gated commun...  logos_pathos  True   \n4  Once everyone is dead, they can simply be wipe...  logos_pathos  True   \n\n  pathos  ethos  \n0  False  False  \n1   True  False  \n2   True  False  \n3   True  False  \n4   True  False  ",
      "text/html": "<div>\n<style scoped>\n    .dataframe tbody tr th:only-of-type {\n        vertical-align: middle;\n    }\n\n    .dataframe tbody tr th {\n        vertical-align: top;\n    }\n\n    .dataframe thead th {\n        text-align: right;\n    }\n</style>\n<table border=\"1\" class=\"dataframe\">\n  <thead>\n    <tr style=\"text-align: right;\">\n      <th></th>\n      <th>document</th>\n      <th>file_path</th>\n      <th>split</th>\n      <th>premise</th>\n      <th>type</th>\n      <th>logos</th>\n      <th>pathos</th>\n      <th>ethos</th>\n    </tr>\n  </thead>\n  <tbody>\n    <tr>\n      <th>0</th>\n      <td>88</td>\n      <td>v2.0/positive/88.xml</td>\n      <td>positive</td>\n      <td>[47% of all jobs are at risk of being automate...</td>\n      <td>logos</td>\n      <td>True</td>\n      <td>False</td>\n      <td>False</td>\n    </tr>\n    <tr>\n      <th>1</th>\n      <td>88</td>\n      <td>v2.0/positive/88.xml</td>\n      <td>positive</td>\n      <td>This number will grow grow until the vast majo...</td>\n      <td>logos_pathos</td>\n      <td>True</td>\n      <td>True</td>\n      <td>False</td>\n    </tr>\n    <tr>\n      <th>2</th>\n      <td>88</td>\n      <td>v2.0/positive/88.xml</td>\n      <td>positive</td>\n      <td>Since some of this automation will inevitably ...</td>\n      <td>logos_pathos</td>\n      <td>True</td>\n      <td>True</td>\n      <td>False</td>\n    </tr>\n    <tr>\n      <th>3</th>\n      <td>88</td>\n      <td>v2.0/positive/88.xml</td>\n      <td>positive</td>\n      <td>By fortifying themselves in their gated commun...</td>\n      <td>logos_pathos</td>\n      <td>True</td>\n      <td>True</td>\n      <td>False</td>\n    </tr>\n    <tr>\n      <th>4</th>\n      <td>88</td>\n      <td>v2.0/positive/88.xml</td>\n      <td>positive</td>\n      <td>Once everyone is dead, they can simply be wipe...</td>\n      <td>logos_pathos</td>\n      <td>True</td>\n      <td>True</td>\n      <td>False</td>\n    </tr>\n  </tbody>\n</table>\n</div>"
     },
     "execution_count": 3,
     "metadata": {},
     "output_type": "execute_result"
    }
   ],
   "source": [
    "df = pd.read_pickle('../data/v2.0-processed/df_premises.pickle')\n",
    "df.head()"
   ],
   "metadata": {
    "collapsed": false,
    "pycharm": {
     "name": "#%%\n"
    }
   }
  },
  {
   "cell_type": "code",
   "execution_count": 4,
   "outputs": [
    {
     "data": {
      "text/plain": "     document             file_path     split  \\\n808        69  v2.0/positive/69.xml  positive   \n395        12  v2.0/positive/12.xml  positive   \n417        11  v2.0/positive/11.xml  positive   \n229        72  v2.0/positive/72.xml  positive   \n251        73  v2.0/positive/73.xml  positive   \n1806       97  v2.0/negative/97.xml  negative   \n87         76  v2.0/positive/76.xml  positive   \n1652       32  v2.0/negative/32.xml  negative   \n0          88  v2.0/positive/88.xml  positive   \n322        29  v2.0/positive/29.xml  positive   \n\n                                                premise          type  logos  \\\n808   But most people, I think, if they really wante...  logos_pathos   True   \n395   The \"Yeah but what if...\" thing just isn't goi...  logos_pathos   True   \n417   maybe weighted differently, like extremely hig...        pathos  False   \n229   **Cheaters will always cheat again,** so bette...  logos_pathos   True   \n251   most of us wouldn't describe them as \"delusion...  logos_pathos   True   \n1806  Surrounding the entire site there's a general ...  logos_pathos   True   \n87    At the end of the day, the boss has 100 dolls,...  logos_pathos   True   \n1652            I wouldn't mind a smarter human race...        pathos  False   \n0     [47% of all jobs are at risk of being automate...         logos   True   \n322   this slogan is also prominent in ads made by p...         logos   True   \n\n     pathos  ethos  \n808    True  False  \n395    True  False  \n417    True  False  \n229    True  False  \n251    True  False  \n1806   True  False  \n87     True  False  \n1652   True  False  \n0     False  False  \n322   False  False  ",
      "text/html": "<div>\n<style scoped>\n    .dataframe tbody tr th:only-of-type {\n        vertical-align: middle;\n    }\n\n    .dataframe tbody tr th {\n        vertical-align: top;\n    }\n\n    .dataframe thead th {\n        text-align: right;\n    }\n</style>\n<table border=\"1\" class=\"dataframe\">\n  <thead>\n    <tr style=\"text-align: right;\">\n      <th></th>\n      <th>document</th>\n      <th>file_path</th>\n      <th>split</th>\n      <th>premise</th>\n      <th>type</th>\n      <th>logos</th>\n      <th>pathos</th>\n      <th>ethos</th>\n    </tr>\n  </thead>\n  <tbody>\n    <tr>\n      <th>808</th>\n      <td>69</td>\n      <td>v2.0/positive/69.xml</td>\n      <td>positive</td>\n      <td>But most people, I think, if they really wante...</td>\n      <td>logos_pathos</td>\n      <td>True</td>\n      <td>True</td>\n      <td>False</td>\n    </tr>\n    <tr>\n      <th>395</th>\n      <td>12</td>\n      <td>v2.0/positive/12.xml</td>\n      <td>positive</td>\n      <td>The \"Yeah but what if...\" thing just isn't goi...</td>\n      <td>logos_pathos</td>\n      <td>True</td>\n      <td>True</td>\n      <td>False</td>\n    </tr>\n    <tr>\n      <th>417</th>\n      <td>11</td>\n      <td>v2.0/positive/11.xml</td>\n      <td>positive</td>\n      <td>maybe weighted differently, like extremely hig...</td>\n      <td>pathos</td>\n      <td>False</td>\n      <td>True</td>\n      <td>False</td>\n    </tr>\n    <tr>\n      <th>229</th>\n      <td>72</td>\n      <td>v2.0/positive/72.xml</td>\n      <td>positive</td>\n      <td>**Cheaters will always cheat again,** so bette...</td>\n      <td>logos_pathos</td>\n      <td>True</td>\n      <td>True</td>\n      <td>False</td>\n    </tr>\n    <tr>\n      <th>251</th>\n      <td>73</td>\n      <td>v2.0/positive/73.xml</td>\n      <td>positive</td>\n      <td>most of us wouldn't describe them as \"delusion...</td>\n      <td>logos_pathos</td>\n      <td>True</td>\n      <td>True</td>\n      <td>False</td>\n    </tr>\n    <tr>\n      <th>1806</th>\n      <td>97</td>\n      <td>v2.0/negative/97.xml</td>\n      <td>negative</td>\n      <td>Surrounding the entire site there's a general ...</td>\n      <td>logos_pathos</td>\n      <td>True</td>\n      <td>True</td>\n      <td>False</td>\n    </tr>\n    <tr>\n      <th>87</th>\n      <td>76</td>\n      <td>v2.0/positive/76.xml</td>\n      <td>positive</td>\n      <td>At the end of the day, the boss has 100 dolls,...</td>\n      <td>logos_pathos</td>\n      <td>True</td>\n      <td>True</td>\n      <td>False</td>\n    </tr>\n    <tr>\n      <th>1652</th>\n      <td>32</td>\n      <td>v2.0/negative/32.xml</td>\n      <td>negative</td>\n      <td>I wouldn't mind a smarter human race...</td>\n      <td>pathos</td>\n      <td>False</td>\n      <td>True</td>\n      <td>False</td>\n    </tr>\n    <tr>\n      <th>0</th>\n      <td>88</td>\n      <td>v2.0/positive/88.xml</td>\n      <td>positive</td>\n      <td>[47% of all jobs are at risk of being automate...</td>\n      <td>logos</td>\n      <td>True</td>\n      <td>False</td>\n      <td>False</td>\n    </tr>\n    <tr>\n      <th>322</th>\n      <td>29</td>\n      <td>v2.0/positive/29.xml</td>\n      <td>positive</td>\n      <td>this slogan is also prominent in ads made by p...</td>\n      <td>logos</td>\n      <td>True</td>\n      <td>False</td>\n      <td>False</td>\n    </tr>\n  </tbody>\n</table>\n</div>"
     },
     "execution_count": 4,
     "metadata": {},
     "output_type": "execute_result"
    }
   ],
   "source": [
    "df.sample(10)"
   ],
   "metadata": {
    "collapsed": false,
    "pycharm": {
     "name": "#%%\n"
    }
   }
  },
  {
   "cell_type": "code",
   "execution_count": 5,
   "outputs": [],
   "source": [
    "# Lowercase\n",
    "df['premise'] = df['premise'].str.lower()\n",
    "df['logos'] = df['logos'].map({True: 'Logos', False: 'Not Logos'})\n",
    "df['pathos'] = df['pathos'].map({True: 'Pathos', False: 'Not Pathos'})\n",
    "df['ethos'] = df['ethos'].map({True: 'Ethos', False: 'Not Ethos'})\n",
    "df['premise'] = [word_tokenize(entry) for entry in df['premise']]\n",
    "df['text'] = [' '.join(entry) for entry in df['premise']]"
   ],
   "metadata": {
    "collapsed": false,
    "pycharm": {
     "name": "#%%\n"
    }
   }
  },
  {
   "cell_type": "code",
   "execution_count": 6,
   "outputs": [
    {
     "data": {
      "text/plain": "[i, used, to, follow, 'option, number, 3, ', ,, but, recently, started, 'option, number, 1, ', in, an, attempt, to, line, my, actions, up, with, my, values, .]                                                                                      7\n[there, is, also, a, youtube, video, to, go, with, this, opinion, .]                                                                                                                                                                                 6\n[https, :, //www.youtube.com/watch, ?, v=rlqrycacrko]                                                                                                                                                                                                6\n[the, some, few, people, that, still, know, how, to, hunt, and, gather, would, probably, survive, as, well, people, who, were, rich, enough, to, have, access, to, a, lot, of, resources, to, start, out, with, before, the, economy, crashes, .]    6\n[face, it, ,, meat, is, tasty, (, and, non-factory, meat, is, often, tastier, than, factory-farmed, meat, ,, at, least, in, my, own, anecdotal, experience, )]                                                                                       5\n                                                                                                                                                                                                                                                    ..\n[ever, heard, of, the, reign, of, terror, ?]                                                                                                                                                                                                         1\n[tyrants, and, tyranny, are, as, old, as, politics, themselves, .]                                                                                                                                                                                   1\n[pre-ww2, germany, or, stalinist, russia, were, n't, all, that, stable, .]                                                                                                                                                                           1\n[the, moderate, majority, of, the, world, gets, to, decide, the, demarcations, for, the, narrow, political, band, around, the, center, .]                                                                                                            1\n[the, ecosystem, will, not, be, able, to, sustain, the, amount, of, people]                                                                                                                                                                          1\nName: premise, Length: 1543, dtype: int64"
     },
     "execution_count": 6,
     "metadata": {},
     "output_type": "execute_result"
    }
   ],
   "source": [
    "# df['logos'].value_counts()\n",
    "# df['ethos'].value_counts()\n",
    "df['premise'].value_counts()"
   ],
   "metadata": {
    "collapsed": false,
    "pycharm": {
     "name": "#%%\n"
    }
   }
  },
  {
   "cell_type": "code",
   "execution_count": 26,
   "outputs": [],
   "source": [
    "# train, test = train_test_split(df, test_size=0.2, random_state=0, stratify=df['type'], shuffle=True)"
   ],
   "metadata": {
    "collapsed": false,
    "pycharm": {
     "name": "#%%\n"
    }
   }
  },
  {
   "cell_type": "code",
   "execution_count": 8,
   "outputs": [
    {
     "name": "stdout",
     "output_type": "stream",
     "text": [
      "Pathos        239\n",
      "Not Pathos    176\n",
      "Name: pathos, dtype: int64\n",
      "Logos        352\n",
      "Not Logos     63\n",
      "Name: logos, dtype: int64\n",
      "Not Ethos    386\n",
      "Ethos         29\n",
      "Name: ethos, dtype: int64\n"
     ]
    }
   ],
   "source": [
    "train, test = train_test_split(df, test_size=0.2, random_state=0, stratify=df['type'], shuffle=True)\n",
    "print(test['pathos'].value_counts())\n",
    "print(test['logos'].value_counts())\n",
    "print(test['ethos'].value_counts())\n",
    "def train_svm(sem_type):\n",
    "    Train_X, Test_X, Train_Y, Test_Y = train['text'], test['text'], train[sem_type], test[sem_type]\n",
    "    Encoder = LabelEncoder()\n",
    "    Train_Y = Encoder.fit_transform(Train_Y)\n",
    "    Test_Y = Encoder.fit_transform(Test_Y)\n",
    "    Tfidf_vect = TfidfVectorizer(max_features=5000)\n",
    "    Tfidf_vect.fit(df['text'])\n",
    "    Train_X_Tfidf = Tfidf_vect.transform(Train_X)\n",
    "    Test_X_Tfidf = Tfidf_vect.transform(Test_X)\n",
    "    # Classifier - Algorithm - SVM\n",
    "    # fit the training dataset on the classifier\n",
    "    SVM = svm.LinearSVC(C=1.0)\n",
    "    SVM.fit(Train_X_Tfidf, Train_Y) # predict the labels on validation dataset\n",
    "    predictions_SVM = SVM.predict(Test_X_Tfidf) # Use accuracy_score function to get the accuracy\n",
    "    print(f\"{sem_type} -> \\n\", classification_report(Test_Y, predictions_SVM, target_names=Encoder.classes_))"
   ],
   "metadata": {
    "collapsed": false,
    "pycharm": {
     "name": "#%%\n"
    }
   }
  },
  {
   "cell_type": "code",
   "execution_count": 9,
   "outputs": [
    {
     "name": "stdout",
     "output_type": "stream",
     "text": [
      "logos -> \n",
      "               precision    recall  f1-score   support\n",
      "\n",
      "       Logos       0.89      0.99      0.94       352\n",
      "   Not Logos       0.83      0.32      0.46        63\n",
      "\n",
      "    accuracy                           0.89       415\n",
      "   macro avg       0.86      0.65      0.70       415\n",
      "weighted avg       0.88      0.89      0.86       415\n",
      "\n",
      "ethos -> \n",
      "               precision    recall  f1-score   support\n",
      "\n",
      "       Ethos       0.90      0.31      0.46        29\n",
      "   Not Ethos       0.95      1.00      0.97       386\n",
      "\n",
      "    accuracy                           0.95       415\n",
      "   macro avg       0.93      0.65      0.72       415\n",
      "weighted avg       0.95      0.95      0.94       415\n",
      "\n",
      "pathos -> \n",
      "               precision    recall  f1-score   support\n",
      "\n",
      "  Not Pathos       0.70      0.55      0.61       176\n",
      "      Pathos       0.71      0.83      0.77       239\n",
      "\n",
      "    accuracy                           0.71       415\n",
      "   macro avg       0.71      0.69      0.69       415\n",
      "weighted avg       0.71      0.71      0.70       415\n",
      "\n"
     ]
    }
   ],
   "source": [
    "for sem_type in ['logos', 'ethos', 'pathos']:\n",
    "    train_svm(sem_type=sem_type)"
   ],
   "metadata": {
    "collapsed": false,
    "pycharm": {
     "name": "#%%\n"
    }
   }
  },
  {
   "cell_type": "code",
   "execution_count": 10,
   "outputs": [
    {
     "data": {
      "text/plain": "     document             file_path     split  \\\n0          88  v2.0/positive/88.xml  positive   \n1          88  v2.0/positive/88.xml  positive   \n2          88  v2.0/positive/88.xml  positive   \n3          88  v2.0/positive/88.xml  positive   \n4          88  v2.0/positive/88.xml  positive   \n...       ...                   ...       ...   \n2067       85  v2.0/negative/85.xml  negative   \n2068       85  v2.0/negative/85.xml  negative   \n2069       85  v2.0/negative/85.xml  negative   \n2070       85  v2.0/negative/85.xml  negative   \n2071       85  v2.0/negative/85.xml  negative   \n\n                                                premise          type  logos  \\\n0     [[, 47, %, of, all, jobs, are, at, risk, of, b...         logos  Logos   \n1     [this, number, will, grow, grow, until, the, v...  logos_pathos  Logos   \n2     [since, some, of, this, automation, will, inev...  logos_pathos  Logos   \n3     [by, fortifying, themselves, in, their, gated,...  logos_pathos  Logos   \n4     [once, everyone, is, dead, ,, they, can, simpl...  logos_pathos  Logos   \n...                                                 ...           ...    ...   \n2067  [the, some, few, people, that, still, know, ho...  logos_pathos  Logos   \n2068  [machines, do, n't, have, money, either, so, t...  logos_pathos  Logos   \n2069  [cryptocurrency, may, help, a, little, because...         logos  Logos   \n2070  [once, they, can, administrate, their, own, sy...         logos  Logos   \n2071  [the, ecosystem, will, not, be, able, to, sust...  logos_pathos  Logos   \n\n          pathos      ethos                                               text  \n0     Not Pathos  Not Ethos  [ 47 % of all jobs are at risk of being automa...  \n1         Pathos  Not Ethos  this number will grow grow until the vast majo...  \n2         Pathos  Not Ethos  since some of this automation will inevitably ...  \n3         Pathos  Not Ethos  by fortifying themselves in their gated commun...  \n4         Pathos  Not Ethos  once everyone is dead , they can simply be wip...  \n...          ...        ...                                                ...  \n2067      Pathos  Not Ethos  the some few people that still know how to hun...  \n2068      Pathos  Not Ethos  machines do n't have money either so they wo n...  \n2069  Not Pathos  Not Ethos  cryptocurrency may help a little because it wo...  \n2070  Not Pathos  Not Ethos  once they can administrate their own systems w...  \n2071      Pathos  Not Ethos  the ecosystem will not be able to sustain the ...  \n\n[2072 rows x 9 columns]",
      "text/html": "<div>\n<style scoped>\n    .dataframe tbody tr th:only-of-type {\n        vertical-align: middle;\n    }\n\n    .dataframe tbody tr th {\n        vertical-align: top;\n    }\n\n    .dataframe thead th {\n        text-align: right;\n    }\n</style>\n<table border=\"1\" class=\"dataframe\">\n  <thead>\n    <tr style=\"text-align: right;\">\n      <th></th>\n      <th>document</th>\n      <th>file_path</th>\n      <th>split</th>\n      <th>premise</th>\n      <th>type</th>\n      <th>logos</th>\n      <th>pathos</th>\n      <th>ethos</th>\n      <th>text</th>\n    </tr>\n  </thead>\n  <tbody>\n    <tr>\n      <th>0</th>\n      <td>88</td>\n      <td>v2.0/positive/88.xml</td>\n      <td>positive</td>\n      <td>[[, 47, %, of, all, jobs, are, at, risk, of, b...</td>\n      <td>logos</td>\n      <td>Logos</td>\n      <td>Not Pathos</td>\n      <td>Not Ethos</td>\n      <td>[ 47 % of all jobs are at risk of being automa...</td>\n    </tr>\n    <tr>\n      <th>1</th>\n      <td>88</td>\n      <td>v2.0/positive/88.xml</td>\n      <td>positive</td>\n      <td>[this, number, will, grow, grow, until, the, v...</td>\n      <td>logos_pathos</td>\n      <td>Logos</td>\n      <td>Pathos</td>\n      <td>Not Ethos</td>\n      <td>this number will grow grow until the vast majo...</td>\n    </tr>\n    <tr>\n      <th>2</th>\n      <td>88</td>\n      <td>v2.0/positive/88.xml</td>\n      <td>positive</td>\n      <td>[since, some, of, this, automation, will, inev...</td>\n      <td>logos_pathos</td>\n      <td>Logos</td>\n      <td>Pathos</td>\n      <td>Not Ethos</td>\n      <td>since some of this automation will inevitably ...</td>\n    </tr>\n    <tr>\n      <th>3</th>\n      <td>88</td>\n      <td>v2.0/positive/88.xml</td>\n      <td>positive</td>\n      <td>[by, fortifying, themselves, in, their, gated,...</td>\n      <td>logos_pathos</td>\n      <td>Logos</td>\n      <td>Pathos</td>\n      <td>Not Ethos</td>\n      <td>by fortifying themselves in their gated commun...</td>\n    </tr>\n    <tr>\n      <th>4</th>\n      <td>88</td>\n      <td>v2.0/positive/88.xml</td>\n      <td>positive</td>\n      <td>[once, everyone, is, dead, ,, they, can, simpl...</td>\n      <td>logos_pathos</td>\n      <td>Logos</td>\n      <td>Pathos</td>\n      <td>Not Ethos</td>\n      <td>once everyone is dead , they can simply be wip...</td>\n    </tr>\n    <tr>\n      <th>...</th>\n      <td>...</td>\n      <td>...</td>\n      <td>...</td>\n      <td>...</td>\n      <td>...</td>\n      <td>...</td>\n      <td>...</td>\n      <td>...</td>\n      <td>...</td>\n    </tr>\n    <tr>\n      <th>2067</th>\n      <td>85</td>\n      <td>v2.0/negative/85.xml</td>\n      <td>negative</td>\n      <td>[the, some, few, people, that, still, know, ho...</td>\n      <td>logos_pathos</td>\n      <td>Logos</td>\n      <td>Pathos</td>\n      <td>Not Ethos</td>\n      <td>the some few people that still know how to hun...</td>\n    </tr>\n    <tr>\n      <th>2068</th>\n      <td>85</td>\n      <td>v2.0/negative/85.xml</td>\n      <td>negative</td>\n      <td>[machines, do, n't, have, money, either, so, t...</td>\n      <td>logos_pathos</td>\n      <td>Logos</td>\n      <td>Pathos</td>\n      <td>Not Ethos</td>\n      <td>machines do n't have money either so they wo n...</td>\n    </tr>\n    <tr>\n      <th>2069</th>\n      <td>85</td>\n      <td>v2.0/negative/85.xml</td>\n      <td>negative</td>\n      <td>[cryptocurrency, may, help, a, little, because...</td>\n      <td>logos</td>\n      <td>Logos</td>\n      <td>Not Pathos</td>\n      <td>Not Ethos</td>\n      <td>cryptocurrency may help a little because it wo...</td>\n    </tr>\n    <tr>\n      <th>2070</th>\n      <td>85</td>\n      <td>v2.0/negative/85.xml</td>\n      <td>negative</td>\n      <td>[once, they, can, administrate, their, own, sy...</td>\n      <td>logos</td>\n      <td>Logos</td>\n      <td>Not Pathos</td>\n      <td>Not Ethos</td>\n      <td>once they can administrate their own systems w...</td>\n    </tr>\n    <tr>\n      <th>2071</th>\n      <td>85</td>\n      <td>v2.0/negative/85.xml</td>\n      <td>negative</td>\n      <td>[the, ecosystem, will, not, be, able, to, sust...</td>\n      <td>logos_pathos</td>\n      <td>Logos</td>\n      <td>Pathos</td>\n      <td>Not Ethos</td>\n      <td>the ecosystem will not be able to sustain the ...</td>\n    </tr>\n  </tbody>\n</table>\n<p>2072 rows × 9 columns</p>\n</div>"
     },
     "execution_count": 10,
     "metadata": {},
     "output_type": "execute_result"
    }
   ],
   "source": [
    "df"
   ],
   "metadata": {
    "collapsed": false,
    "pycharm": {
     "name": "#%%\n"
    }
   }
  },
  {
   "cell_type": "code",
   "execution_count": 14,
   "outputs": [],
   "source": [
    "train_premises = df.sample(5)"
   ],
   "metadata": {
    "collapsed": false,
    "pycharm": {
     "name": "#%%\n"
    }
   }
  },
  {
   "cell_type": "code",
   "execution_count": null,
   "outputs": [],
   "source": [
    "train_premises"
   ],
   "metadata": {
    "collapsed": false,
    "pycharm": {
     "name": "#%%\n"
    }
   }
  },
  {
   "cell_type": "code",
   "execution_count": null,
   "outputs": [],
   "source": [],
   "metadata": {
    "collapsed": false,
    "pycharm": {
     "name": "#%%\n"
    }
   }
  }
 ],
 "metadata": {
  "kernelspec": {
   "display_name": "Python 3",
   "language": "python",
   "name": "python3"
  },
  "language_info": {
   "codemirror_mode": {
    "name": "ipython",
    "version": 2
   },
   "file_extension": ".py",
   "mimetype": "text/x-python",
   "name": "python",
   "nbconvert_exporter": "python",
   "pygments_lexer": "ipython2",
   "version": "2.7.6"
  }
 },
 "nbformat": 4,
 "nbformat_minor": 0
}