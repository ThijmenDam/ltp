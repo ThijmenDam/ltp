{
 "nbformat": 4,
 "nbformat_minor": 0,
 "metadata": {
  "colab": {
   "name": "Subtask1",
   "provenance": [],
   "collapsed_sections": []
  },
  "kernelspec": {
   "name": "python3",
   "display_name": "Python 3"
  },
  "language_info": {
   "name": "python"
  },
  "accelerator": "GPU"
 },
 "cells": [
  {
   "cell_type": "markdown",
   "source": [
    "# **Subtask 2**: Semantic type of premise classification\n",
    "\n",
    "This Notebook contains all the code that was used for the task of semantic type of premise identification\n",
    "\n",
    "Please note that currently this notebook is setup to obtain results on our own annotated test set for this task. This means that the variable <i>original_annotations</i> is set to <b>False</b>\n",
    "\n",
    "Other prompt templates that we experimented with can be found in the <i>prompt templates</i> notebook"
   ],
   "metadata": {
    "id": "ZU1Pc9ne4oB4",
    "pycharm": {
     "name": "#%% md\n"
    }
   }
  },
  {
   "cell_type": "code",
   "source": [
    "!pip install transformers"
   ],
   "metadata": {
    "id": "l3f8-OqVS9D-",
    "pycharm": {
     "name": "#%%\n"
    }
   },
   "execution_count": null,
   "outputs": []
  },
  {
   "cell_type": "code",
   "execution_count": null,
   "metadata": {
    "id": "Fv32aFfySP6s",
    "pycharm": {
     "name": "#%%\n"
    }
   },
   "outputs": [],
   "source": [
    "import pandas as pd\n",
    "from transformers import GPTNeoForCausalLM, GPT2Tokenizer\n",
    "from sklearn.metrics import classification_report, ConfusionMatrixDisplay\n",
    "\n",
    "# Use our own annotations and initialize GPT-NEO model and tokenizer\n",
    "original_annotations = False\n",
    "model = GPTNeoForCausalLM.from_pretrained(\"EleutherAI/gpt-neo-1.3B\")\n",
    "tokenizer = GPT2Tokenizer.from_pretrained(\"EleutherAI/gpt-neo-1.3B\")"
   ]
  },
  {
   "cell_type": "code",
   "source": [
    "# Validation set that was used for prompt template engineering\n",
    "val_sents = [\"Another reason for my opinion is that CoD doesn't really have anything astoundingly different from other games of the same genre.\",\n",
    "             \"So why would a bunch of social outcasts who get made fun of encourage hate and let such raw emotion reign supreme?\",\n",
    "             \"a large part of this view came from something a history teacher told me 6 years ago: \\\"Geography Determines Destiny\\\", and that quote has stuck with me\",\n",
    "             \"I am an omnivore, and my diet consists of meat and plants.\",\n",
    "             \"Saying these people shouldn’t be allowed to become part of the country, is the same as saying they are worse,\",\n",
    "             \"Every middle-class child in the country would receive a lower quality education if there were 55 million more around\",\n",
    "             \"Why do I feel like chasing after girls and getting to know them when I have so many great guy friends already who I know care about me so much more?\",\n",
    "             \"you'll still probably feel attraction for other people\",\n",
    "             \"their chances of getting shot would also increase\"]\n",
    "\n",
    "val_types = ['Ethos',\n",
    "             'Pathos',\n",
    "             'Ethos',\n",
    "             'Ethos',\n",
    "             'Pathos',\n",
    "             'Logos',\n",
    "             'Logos',\n",
    "             'Pathos',\n",
    "             'Logos']\n",
    "\n",
    "val_tuples = list(zip(val_sents, val_types))\n",
    "df_val = pd.DataFrame(val_tuples, columns=['Premise','Type']) "
   ],
   "metadata": {
    "id": "_LerAjXf2aDO",
    "pycharm": {
     "name": "#%%\n"
    }
   },
   "execution_count": null,
   "outputs": []
  },
  {
   "cell_type": "code",
   "source": [
    "# Initialize test set\n",
    "df = pd.read_csv('../data/subtask-2/gold_test.csv', index_col=0)"
   ],
   "metadata": {
    "id": "ChJwpSHtWh0S",
    "pycharm": {
     "name": "#%%\n"
    }
   },
   "execution_count": null,
   "outputs": []
  },
  {
   "cell_type": "code",
   "source": [
    "# GPT-NEO to fill out the prompt\n",
    "neo_predictions = []\n",
    "for premise in df['premise'].to_list():\n",
    "    if original_annotations:\n",
    "        prompt = (f\"\"\"Premise: Therefore, there will always be a market for meat and other animal products\n",
    "            Type: logos_pathos\n",
    "            ###\n",
    "            Premise: How often do we get to go back and correct our mistakes in real life, anyway?\n",
    "            Type: logos_pathos\n",
    "            ###\n",
    "            Premise: I'l begin by saying it has never happened to me\n",
    "            Type: ethos\n",
    "            ###\n",
    "            Premise: Individuals who are extraordinarily qualified for a position but come from a region/social background without those connections enter a networking-friendly employment opportunity at a disadvantage.\n",
    "            Type: logos_pathos\n",
    "            ###\n",
    "            Premise: I'm an immigrant and a Muslim neither of which is or should be a deterrent from joining\n",
    "            Type: ethos\n",
    "            ###\n",
    "            Premise: how many of these women wouldn't be having financial troubles if there wasn't competition from cheap illegal labor to keep wages lower\n",
    "            Type: logos_pathos\n",
    "            ###\n",
    "            Premise: {premise}\n",
    "            Type:\"\"\"\n",
    "        )\n",
    "    else:\n",
    "        # 1. Logos, 2. Pathos, 3. Ethos\n",
    "        prompt = (f\"\"\"Premise: How often do we get to go back and correct our mistakes in real life, anyway?\n",
    "            Type: 2\n",
    "            ###\n",
    "            Premise: Therefore, there will always be a market for meat and other animal products\n",
    "            Type: 1\n",
    "            ###\n",
    "            Premise: I'l begin by saying it has never happened to me\n",
    "            Type: 3\n",
    "            ###\n",
    "            Premise: Individuals who are extraordinarily qualified for a position but come from a region/social background without those connections enter a networking-friendly employment opportunity at a disadvantage.\n",
    "            Type: 1\n",
    "            ###\n",
    "            Premise: I'm an immigrant and a Muslim neither of which is or should be a deterrent from joining\n",
    "            Type: 3\n",
    "            ###\n",
    "            Premise: how many of these women wouldn't be having financial troubles if there wasn't competition from cheap illegal labor to keep wages lower\n",
    "            Type: 2\n",
    "            ###\n",
    "            Premise: {premise}\n",
    "            Type:\"\"\"\n",
    "        )\n",
    "\n",
    "    input_ids = tokenizer(prompt, return_tensors=\"pt\").input_ids\n",
    "\n",
    "    gen_tokens = model.generate(\n",
    "        input_ids,\n",
    "        temperature=0.8,\n",
    "        min_length=1,\n",
    "        length_no_input=True,\n",
    "        end_sequence='\\n###',\n",
    "        remove_end_sequence=True,\n",
    "        remove_input=True\n",
    "    )\n",
    "\n",
    "    gen_text = tokenizer.batch_decode(gen_tokens)[0]\n",
    "    # Remove input prompt from the output\n",
    "    strs = gen_text.replace(prompt,\"\")\n",
    "    neo_predictions.append(strs.strip())\n",
    "\n",
    "if original_annotations:\n",
    "    df['neo_pred_original'] = neo_predictions\n",
    "else:\n",
    "    df['neo_pred'] = neo_predictions"
   ],
   "metadata": {
    "id": "Y0zF14z-S3zu",
    "pycharm": {
     "name": "#%%\n"
    }
   },
   "execution_count": null,
   "outputs": []
  },
  {
   "cell_type": "code",
   "source": [
    "# Report on gold labels and predictions, showing classification report and\n",
    "# confusion matrix\n",
    "def report(y_true, y_pred):\n",
    "    report = classification_report(y_true, y_pred, output_dict=True)\n",
    "    df_report = pd.DataFrame.from_dict(report).transpose().round({'precision': 2, 'recall': 2, 'f1-score': 2, 'support': 0})\n",
    "    print(df_report.to_latex())\n",
    "    ConfusionMatrixDisplay.from_predictions(y_true, y_pred)\n",
    "\n",
    "# ORIGINAL ANNOTATIONS\n",
    "if original_annotations:\n",
    "    df['neo_pred_original'].replace({'logos': 'logos_pathos', 'pathos': 'logos_pathos'}, inplace=True)\n",
    "    y_true = df['type'].to_list()\n",
    "    y_pred = df['neo_pred_original'].to_list()\n",
    "    report(y_true, y_pred)\n",
    "\n",
    "# OUR ANNOTATIONS\n",
    "else:\n",
    "    repl_dict = {'1': 'logos', '2': 'pathos', '3': 'ethos'}\n",
    "    df['neo_pred'] = df['neo_pred'].map(repl_dict)\n",
    "    y_true = df['gold'].to_list()\n",
    "    y_pred = df['neo_pred'].to_list()\n",
    "    report(y_true, y_pred)"
   ],
   "metadata": {
    "colab": {
     "base_uri": "https://localhost:8080/",
     "height": 629
    },
    "id": "7-U-iu2SVIUN",
    "outputId": "3c2c900b-1acd-45ea-c4c7-3c9862d94105",
    "pycharm": {
     "name": "#%%\n"
    }
   },
   "execution_count": null,
   "outputs": [
    {
     "output_type": "stream",
     "name": "stderr",
     "text": [
      "/usr/local/lib/python3.7/dist-packages/sklearn/metrics/_classification.py:1318: UndefinedMetricWarning: Precision and F-score are ill-defined and being set to 0.0 in labels with no predicted samples. Use `zero_division` parameter to control this behavior.\n",
      "  _warn_prf(average, modifier, msg_start, len(result))\n",
      "/usr/local/lib/python3.7/dist-packages/sklearn/metrics/_classification.py:1318: UndefinedMetricWarning: Precision and F-score are ill-defined and being set to 0.0 in labels with no predicted samples. Use `zero_division` parameter to control this behavior.\n",
      "  _warn_prf(average, modifier, msg_start, len(result))\n",
      "/usr/local/lib/python3.7/dist-packages/sklearn/metrics/_classification.py:1318: UndefinedMetricWarning: Precision and F-score are ill-defined and being set to 0.0 in labels with no predicted samples. Use `zero_division` parameter to control this behavior.\n",
      "  _warn_prf(average, modifier, msg_start, len(result))\n"
     ]
    },
    {
     "output_type": "stream",
     "name": "stdout",
     "text": [
      "\\begin{tabular}{lrrrr}\n",
      "\\toprule\n",
      "{} &  precision &  recall &  f1-score &  support \\\\\n",
      "\\midrule\n",
      "ethos        &       0.00 &    0.00 &      0.00 &     23.0 \\\\\n",
      "logos        &       0.49 &    1.00 &      0.66 &     41.0 \\\\\n",
      "pathos       &       0.00 &    0.00 &      0.00 &     19.0 \\\\\n",
      "accuracy     &       0.49 &    0.49 &      0.49 &      0.0 \\\\\n",
      "macro avg    &       0.16 &    0.33 &      0.22 &     83.0 \\\\\n",
      "weighted avg &       0.24 &    0.49 &      0.33 &     83.0 \\\\\n",
      "\\bottomrule\n",
      "\\end{tabular}\n",
      "\n"
     ]
    },
    {
     "output_type": "display_data",
     "data": {
      "text/plain": [
       "<Figure size 432x288 with 2 Axes>"
      ],
      "image/png": "[encoded data removed]"
     },
     "metadata": {
      "needs_background": "light"
     }
    }
   ]
  },
  {
   "cell_type": "code",
   "source": [],
   "metadata": {
    "id": "6Kgp5fQvL-FB",
    "pycharm": {
     "name": "#%%\n"
    }
   },
   "execution_count": null,
   "outputs": []
  }
 ]
}